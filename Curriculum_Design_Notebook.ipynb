{
 "cells": [
  {
   "cell_type": "markdown",
   "metadata": {
    "colab_type": "text",
    "id": "o5WuagDzV56T"
   },
   "source": [
    "# Data science course and curriculum design"
   ]
  },
  {
   "cell_type": "markdown",
   "metadata": {
    "colab_type": "text",
    "id": "l8VXo0LPV56g"
   },
   "source": [
    "To design our curriculum we searched for gaps between skills _(technical skills and soft skills)_ required for data science jobs, what is being taught in online courses, and what is being taught in university courses. This notebook will present our process for:\n",
    "- Web scraping relevant job and online course data. \n",
    "- Cleaning the data and extracting relevant skills of interest\n",
    "- Looking at what is taught in data science programs at other universities\n",
    "- Identifying gaps between industry and academia to inform the design of our curriculum. "
   ]
  },
  {
   "cell_type": "markdown",
   "metadata": {
    "colab_type": "text",
    "id": "OBLxlzt5V56k"
   },
   "source": [
    "We used the following sources to generate our datasets: \n",
    "1. [SimplyHired](https://www.simplyhired.ca/) to scrape datascience jobs\n",
    "2. [Coursera](https://www.coursera.org/) to scrape online datascience courses\n",
    "3. Kaggle survey of Data Scientists [2018](https://www.kaggle.com/kaggle/kaggle-survey-2018) and [2019](https://www.kaggle.com/c/kaggle-survey-2019) for data on people already working in industry"
   ]
  },
  {
   "cell_type": "code",
   "execution_count": 1,
   "metadata": {
    "colab": {},
    "colab_type": "code",
    "id": "wmkLKGCLV56s"
   },
   "outputs": [
    {
     "name": "stdout",
     "output_type": "stream",
     "text": [
      "Requirement already satisfied: bs4 in c:\\users\\david\\anaconda3\\lib\\site-packages (0.0.1)\n",
      "Requirement already satisfied: beautifulsoup4 in c:\\users\\david\\anaconda3\\lib\\site-packages (from bs4) (4.8.0)\n",
      "Requirement already satisfied: soupsieve>=1.2 in c:\\users\\david\\anaconda3\\lib\\site-packages (from beautifulsoup4->bs4) (1.9.3)\n"
     ]
    }
   ],
   "source": [
    "!pip install bs4\n",
    "import pandas as pd\n",
    "import matplotlib.pyplot as plt\n",
    "import seaborn as sns\n",
    "import numpy as np\n",
    "from bs4 import BeautifulSoup\n",
    "\n",
    "from IPython.display import HTML\n",
    "\n",
    "import datetime,ast,re,time,urllib"
   ]
  },
  {
   "cell_type": "markdown",
   "metadata": {
    "colab_type": "text",
    "id": "KwJFljFlV569"
   },
   "source": [
    "## 1. Web Scraping: job and online course data"
   ]
  },
  {
   "cell_type": "markdown",
   "metadata": {
    "colab_type": "text",
    "id": "o1ChZwKSV57A"
   },
   "source": [
    "1.1 and 1.2 will walk through the webscraping processes for SimplyHired and Coursera, respectively. The Kaggle survey data is already available as a downloadable csv"
   ]
  },
  {
   "cell_type": "markdown",
   "metadata": {
    "colab_type": "text",
    "id": "LnqvgXLLV57E"
   },
   "source": [
    "### 1.1 Webscraping SimplyHired"
   ]
  },
  {
   "cell_type": "markdown",
   "metadata": {
    "colab_type": "text",
    "id": "eMPLgz0XV57O"
   },
   "source": [
    "SimplyHired is a website that aggregates thousands of job postings. These job posting sites contain the same jobs, and adding them together would make it difficult to identify duplicate jobs, resulting in double-counting certain postings. SimplyHired was chosen because it presents the data in a manner that it can easily be accessed via web scraping.  We being by reading the URL for one page search of `Data Science`."
   ]
  },
  {
   "cell_type": "code",
   "execution_count": 2,
   "metadata": {
    "colab": {},
    "colab_type": "code",
    "id": "v7-EGTnJV57R",
    "scrolled": true
   },
   "outputs": [],
   "source": [
    "url = urllib.request.urlopen('https://www.simplyhired.ca/search?q=Data+Science&l=Ontario')\n",
    "content = url.read()\n",
    "soup = BeautifulSoup(content, 'html.parser')"
   ]
  },
  {
   "cell_type": "markdown",
   "metadata": {
    "colab_type": "text",
    "id": "NnZ3OMXSV57g"
   },
   "source": [
    "We can see how many job postings there are for this search:"
   ]
  },
  {
   "cell_type": "code",
   "execution_count": 3,
   "metadata": {
    "colab": {},
    "colab_type": "code",
    "id": "GtnrhvWGV57l",
    "outputId": "baaa33a0-6dfe-4ab5-88e3-b378f73eefdd"
   },
   "outputs": [
    {
     "name": "stdout",
     "output_type": "stream",
     "text": [
      "3330 job postings found\n"
     ]
    }
   ],
   "source": [
    "# This block of code gets the total number of job postings\n",
    "span = soup.find_all(name='span', attrs={'class':'posting-total'})\n",
    "# Parse string \n",
    "totstr = str(span)\n",
    "startt = totstr.find('<span class=\"posting-total\">')\n",
    "endd = totstr.find('</span>')\n",
    "totstr = totstr[startt+28:endd]\n",
    "totstr = totstr.replace(',', '')\n",
    "total = int(totstr)\n",
    "print(total, 'job postings found')"
   ]
  },
  {
   "cell_type": "markdown",
   "metadata": {},
   "source": [
    "There were over 4200 jobs when we first ran the notebook (February 18th, 2020) and on March 29th there are 3404 jobs. COVID-19 is clearly taking a toll..."
   ]
  },
  {
   "cell_type": "markdown",
   "metadata": {
    "colab_type": "text",
    "id": "hQLLolNRV572"
   },
   "source": [
    "__Define Job Key Extraction Function__\n",
    "\n",
    "This function finds the unique identifier for each job from each page, so that we can access the URL of each posting. We can also use this function to determine the number of postings per page."
   ]
  },
  {
   "cell_type": "code",
   "execution_count": 4,
   "metadata": {
    "colab": {},
    "colab_type": "code",
    "id": "tCePTxwPV577"
   },
   "outputs": [],
   "source": [
    "def extract_job_key(soup): \n",
    "    jobs = []\n",
    "    #print(soup.find_all(name='div', attrs={'class':'SerpJob-jobCard card isp'}))\n",
    "    for div in soup.find_all(name='div', attrs={'class':'SerpJob-jobCard card isp'}):\n",
    "        #print(div.find_all(name='a')\n",
    "        job_key = div['data-jobkey']\n",
    "        jobs.append(job_key)\n",
    "    for div in soup.find_all(name='div', attrs={'class':'SerpJob-jobCard card'}):\n",
    "        job_key = div['data-jobkey']\n",
    "        jobs.append(job_key)\n",
    "    return(jobs)"
   ]
  },
  {
   "cell_type": "code",
   "execution_count": 5,
   "metadata": {
    "colab": {},
    "colab_type": "code",
    "id": "w4BwA2NWV58Q"
   },
   "outputs": [],
   "source": [
    "post_per_page = len(extract_job_key(soup))"
   ]
  },
  {
   "cell_type": "code",
   "execution_count": 6,
   "metadata": {
    "colab": {},
    "colab_type": "code",
    "id": "7FdPqr7VV58g",
    "outputId": "20e013f7-71d1-4323-967f-6a5e176a3b73"
   },
   "outputs": [
    {
     "name": "stdout",
     "output_type": "stream",
     "text": [
      "There are 129 pages of job postings on SimplyHired\n"
     ]
    }
   ],
   "source": [
    "num_pages = int(np.trunc(total/post_per_page)+1)\n",
    "print('There are', num_pages, 'pages of job postings on SimplyHired')"
   ]
  },
  {
   "cell_type": "markdown",
   "metadata": {
    "colab_type": "text",
    "id": "t0wZEGapV58p"
   },
   "source": [
    "Now we will get the URL of each page of job postings. The URLs follow a simple structure, so we can just add the page number to the base URL."
   ]
  },
  {
   "cell_type": "code",
   "execution_count": 7,
   "metadata": {
    "colab": {},
    "colab_type": "code",
    "id": "ydyXPp7dV58w"
   },
   "outputs": [],
   "source": [
    "initial_URL = 'https://www.simplyhired.ca/search?q=Data+Science&l=Ontario'\n",
    "subsequent_URL = 'https://www.simplyhired.ca/search?q=Data+Science&l=Ontario&pn='\n",
    "URL = []\n",
    "\n",
    "for i in range(0,num_pages):\n",
    "   if i == 0:\n",
    "     URL.append(initial_URL)\n",
    "   else:\n",
    "     name = subsequent_URL+str(i+1)\n",
    "     URL.append(name)"
   ]
  },
  {
   "cell_type": "markdown",
   "metadata": {
    "colab_type": "text",
    "id": "yQ1whPkWV58_"
   },
   "source": [
    "For example:"
   ]
  },
  {
   "cell_type": "code",
   "execution_count": 8,
   "metadata": {
    "colab": {},
    "colab_type": "code",
    "id": "EhXibC-eV59B",
    "outputId": "0ace4370-2c6d-41b3-ddea-f4bb734960a1"
   },
   "outputs": [
    {
     "name": "stdout",
     "output_type": "stream",
     "text": [
      "https://www.simplyhired.ca/search?q=Data+Science&l=Ontario&pn=3\n"
     ]
    }
   ],
   "source": [
    "print(URL[2])"
   ]
  },
  {
   "cell_type": "markdown",
   "metadata": {
    "colab_type": "text",
    "id": "cL3FeSzBV59J"
   },
   "source": [
    "Now, we need to get the ID of each job from each page of results. This block of code takes a while to run, so it is commented out. Instead of scraping real-time job data for the analysis, we will use job data from February 18th, stored in a csv file: SimplyHired_jobs.csv. "
   ]
  },
  {
   "cell_type": "code",
   "execution_count": 9,
   "metadata": {
    "colab": {},
    "colab_type": "code",
    "id": "TthD8F2ZV59U"
   },
   "outputs": [],
   "source": [
    "# allkeys = []\n",
    "# for i in range(0,num_pages):\n",
    "#    url = urllib.request.urlopen(URL[i])\n",
    "#    content = url.read()\n",
    "#    soup = BeautifulSoup(content, 'html.parser')\n",
    "#    keys_onepage = extract_job_key(soup)\n",
    "#    allkeys.append(keys_onepage)"
   ]
  },
  {
   "cell_type": "code",
   "execution_count": 10,
   "metadata": {
    "colab": {},
    "colab_type": "code",
    "id": "rbKjLJ-8V59c"
   },
   "outputs": [],
   "source": [
    "def flatten(l):\n",
    "  out = []\n",
    "  for item in l:\n",
    "    if isinstance(item, (list, tuple)):\n",
    "      out.extend(flatten(item))\n",
    "    else:\n",
    "      out.append(item)\n",
    "  return out\n",
    "\n",
    "# allkeys = flatten(allkeys)"
   ]
  },
  {
   "cell_type": "markdown",
   "metadata": {
    "colab_type": "text",
    "id": "notDZcm7V594"
   },
   "source": [
    "Now, we can get the URL of every job posting:"
   ]
  },
  {
   "cell_type": "code",
   "execution_count": 11,
   "metadata": {
    "colab": {},
    "colab_type": "code",
    "id": "XWVJ9-AyV596"
   },
   "outputs": [],
   "source": [
    "# job_URL = []\n",
    "# base_URL = 'https://www.simplyhired.ca/job/'\n",
    "\n",
    "# for i in range(0,len(allkeys)):\n",
    "#     url_ = base_URL+allkeys[i]\n",
    "#     job_URL.append(url_)"
   ]
  },
  {
   "cell_type": "code",
   "execution_count": 12,
   "metadata": {
    "colab": {},
    "colab_type": "code",
    "id": "z9G71n5fV5-L"
   },
   "outputs": [],
   "source": [
    "# print(len(job_URL))"
   ]
  },
  {
   "cell_type": "markdown",
   "metadata": {
    "colab_type": "text",
    "id": "RDjnRQMkV5-X"
   },
   "source": [
    "Now we can start getting information about jobs. Multiple functions are written to extract various attributes from the job postings. We begin with job description:"
   ]
  },
  {
   "cell_type": "code",
   "execution_count": 13,
   "metadata": {
    "colab": {},
    "colab_type": "code",
    "id": "lpawrUnZV5-Z"
   },
   "outputs": [],
   "source": [
    "# This function gets job descriptions\n",
    "def get_job_description(soup): \n",
    "  jobs = []\n",
    "  #print(soup.find_all(name='div', attrs={'class':'viewjob-description ViewJob-description'}))\n",
    "  for div in soup.find_all(name='div', attrs={'class':'viewjob-description ViewJob-description'}):\n",
    "        conv = str(div)\n",
    "        \n",
    "        jobs.append(conv)\n",
    "  return(jobs)\n"
   ]
  },
  {
   "cell_type": "markdown",
   "metadata": {
    "colab_type": "text",
    "id": "8tEbWJ1JV5-f"
   },
   "source": [
    "We can get the education level and job skills, which are listed as separate fields in SimplyHired:"
   ]
  },
  {
   "cell_type": "code",
   "execution_count": 14,
   "metadata": {
    "colab": {},
    "colab_type": "code",
    "id": "XkS8dcPWV5-l"
   },
   "outputs": [],
   "source": [
    "def get_education_skills(soup): \n",
    "    edu_skill = str(soup.find_all(name='div', attrs={'class':'viewjob-entities'}))\n",
    "    edu_start = edu_skill.find('Education')\n",
    "    skill_start = edu_skill.find('Skills')\n",
    "    edu = edu_skill[edu_start:skill_start]\n",
    "    skills = edu_skill[skill_start:len(edu_skill)]\n",
    "    ind_deg = [m.start() for m in re.finditer('<li class=\"nav-item\">', edu)]\n",
    "    ind_skill = [m.start() for m in re.finditer('<li class=\"nav-item\">', skills)]\n",
    "\n",
    "    sk = []\n",
    "    for i in range(0, len(ind_skill)):\n",
    "        dum = skills[ind_skill[i]+21:]\n",
    "        dum2 = dum.find('</li>')\n",
    "        dum3 = dum[0:dum2]\n",
    "        sk.append(dum3)\n",
    "\n",
    "    ed = []\n",
    "    for i in range(0, len(ind_deg)):\n",
    "        dum = edu[ind_deg[i]+21:]\n",
    "        dum2 = dum.find('</li>')\n",
    "        dum3 = dum[0:dum2]\n",
    "        ed.append(dum3)\n",
    "    return(ed,sk)\n"
   ]
  },
  {
   "cell_type": "markdown",
   "metadata": {
    "colab_type": "text",
    "id": "bhphPWV4V5-q"
   },
   "source": [
    "We can also get the job title, location, and company name:"
   ]
  },
  {
   "cell_type": "code",
   "execution_count": 15,
   "metadata": {
    "colab": {},
    "colab_type": "code",
    "id": "pQqgh9dYV5-r"
   },
   "outputs": [],
   "source": [
    "def get_title_comp_loc(soup):\n",
    "    dum=soup.find(name='div', attrs={'class':'viewjob-header'}).get_text('~')\n",
    "    ind = [m.start() for m in re.finditer('~', dum)]\n",
    "    title = dum[0:ind[0]]\n",
    "    company = dum[ind[0]+1:ind[1]]\n",
    "    if dum[ind[2]+1:].find('~') == -1 : \n",
    "        location = dum[ind[2]+1:]\n",
    "    else:\n",
    "        location = dum[ind[2]+1:ind[3]]\n",
    "    #print(dum)\n",
    "    return(title,company,location)"
   ]
  },
  {
   "cell_type": "markdown",
   "metadata": {
    "colab_type": "text",
    "id": "O9H1CrYGV5-z"
   },
   "source": [
    "We are now ready to scrape every job posting. We will comment out this block and import the output dataframe as a csv as it takes a while to run."
   ]
  },
  {
   "cell_type": "code",
   "execution_count": 16,
   "metadata": {
    "colab": {},
    "colab_type": "code",
    "id": "zi8pyW_xV5-3",
    "outputId": "631ea684-ca20-4ba4-c066-e7907def440b",
    "scrolled": true
   },
   "outputs": [
    {
     "name": "stdout",
     "output_type": "stream",
     "text": [
      "\n"
     ]
    }
   ],
   "source": [
    "'''# This cell is also super slow, may crash due to the amount of requests\n",
    "\n",
    "description = []\n",
    "education = []\n",
    "skills = []\n",
    "title = []\n",
    "company = []\n",
    "location = []\n",
    "skills_str = []\n",
    "\n",
    "\n",
    "for i in range(0,len(job_URL)): \n",
    "    print('crawled job # ',i)\n",
    "    url = urllib.request.urlopen(job_URL[i])\n",
    "    content = url.read()\n",
    "    soup = BeautifulSoup(content, 'html.parser')\n",
    "    \n",
    "    dum = get_job_description(soup)\n",
    "    ed,sk = get_education_skills(soup)\n",
    "    tit,comp,loc = get_title_comp_loc(soup)\n",
    "    \n",
    "#     description.append(dum)\n",
    "#     education.append(ed)\n",
    "#     skills.append(sk)\n",
    "#     title.append(tit)\n",
    "#     company.append(comp)\n",
    "#     location.append(loc)\n",
    "\n",
    "    d2='|'.join(dum)\n",
    "    e2='|'.join(ed)\n",
    "    s2='|'.join(sk)\n",
    "    t2=tit\n",
    "    c2=comp\n",
    "    l2=loc\n",
    "    \n",
    "    if np.trunc(i/10) == i/10: # Every 10th entry\n",
    "        time.sleep(3)\n",
    "        print('paused for 3 seconds')\n",
    "\n",
    "    description.append(d2)\n",
    "    education.append(e2)\n",
    "    skills.append(s2)\n",
    "    title.append(t2)\n",
    "    company.append(c2)\n",
    "    location.append(l2)\n",
    "    skills_str.append(sk)\n",
    "     \n",
    "\n",
    "d = {'Title': title, 'Company': company, 'location' : location, 'education' : education, 'skills' : skills, 'Description' : description}\n",
    "\n",
    "job_data = pd.DataFrame(data=d)'''\n",
    "print ('')"
   ]
  },
  {
   "cell_type": "markdown",
   "metadata": {},
   "source": [
    "Instead of scraping data, we can read the data from a csv file."
   ]
  },
  {
   "cell_type": "code",
   "execution_count": 17,
   "metadata": {
    "colab": {},
    "colab_type": "code",
    "id": "bsAay2vpV5--"
   },
   "outputs": [],
   "source": [
    "job_data=pd.read_csv('SimplyHired_Jobs.csv')"
   ]
  },
  {
   "cell_type": "code",
   "execution_count": 18,
   "metadata": {
    "colab": {},
    "colab_type": "code",
    "id": "aSRVcCyhV5_G",
    "outputId": "8674374e-b946-4152-c834-b10395a48e43"
   },
   "outputs": [
    {
     "data": {
      "text/html": [
       "<div>\n",
       "<style scoped>\n",
       "    .dataframe tbody tr th:only-of-type {\n",
       "        vertical-align: middle;\n",
       "    }\n",
       "\n",
       "    .dataframe tbody tr th {\n",
       "        vertical-align: top;\n",
       "    }\n",
       "\n",
       "    .dataframe thead th {\n",
       "        text-align: right;\n",
       "    }\n",
       "</style>\n",
       "<table border=\"1\" class=\"dataframe\">\n",
       "  <thead>\n",
       "    <tr style=\"text-align: right;\">\n",
       "      <th></th>\n",
       "      <th>Title</th>\n",
       "      <th>Company</th>\n",
       "      <th>location</th>\n",
       "      <th>education</th>\n",
       "      <th>skills</th>\n",
       "      <th>Description</th>\n",
       "    </tr>\n",
       "  </thead>\n",
       "  <tbody>\n",
       "    <tr>\n",
       "      <td>0</td>\n",
       "      <td>Waste Program Officer</td>\n",
       "      <td>Canadian Nuclear Laboratories</td>\n",
       "      <td>Chalk River, ON</td>\n",
       "      <td>Bachelor's Degree</td>\n",
       "      <td>Computer Skills|Computer Literacy|Writing Skills</td>\n",
       "      <td>&lt;div class=\"viewjob-description ViewJob-descri...</td>\n",
       "    </tr>\n",
       "    <tr>\n",
       "      <td>1</td>\n",
       "      <td>Data Scientist</td>\n",
       "      <td>Canadian Tire</td>\n",
       "      <td>Welland, ON</td>\n",
       "      <td>Bachelor's Degree</td>\n",
       "      <td>SQL|Tableau|Financial Services|SAS|R</td>\n",
       "      <td>&lt;div class=\"viewjob-description ViewJob-descri...</td>\n",
       "    </tr>\n",
       "    <tr>\n",
       "      <td>2</td>\n",
       "      <td>Data Engineer</td>\n",
       "      <td>Prodigy Game</td>\n",
       "      <td>Oakville, ON</td>\n",
       "      <td>Bachelor's Degree|Master's Degree</td>\n",
       "      <td>NoSQL|SQL|AWS|Spark|Scala</td>\n",
       "      <td>&lt;div class=\"viewjob-description ViewJob-descri...</td>\n",
       "    </tr>\n",
       "    <tr>\n",
       "      <td>3</td>\n",
       "      <td>Solutions Architect</td>\n",
       "      <td>WCG Services</td>\n",
       "      <td>Peel, ON</td>\n",
       "      <td>NaN</td>\n",
       "      <td>Time Management|SQL|Azure|Analysis Skills|Lead...</td>\n",
       "      <td>&lt;div class=\"viewjob-description ViewJob-descri...</td>\n",
       "    </tr>\n",
       "    <tr>\n",
       "      <td>4</td>\n",
       "      <td>Manager - Data and Analytics</td>\n",
       "      <td>ISG Search Inc</td>\n",
       "      <td>Toronto, ON</td>\n",
       "      <td>Bachelor's Degree</td>\n",
       "      <td>Tableau|SAP|Microsoft SQL Server|SAP BusinessO...</td>\n",
       "      <td>&lt;div class=\"viewjob-description ViewJob-descri...</td>\n",
       "    </tr>\n",
       "  </tbody>\n",
       "</table>\n",
       "</div>"
      ],
      "text/plain": [
       "                          Title                        Company  \\\n",
       "0         Waste Program Officer  Canadian Nuclear Laboratories   \n",
       "1                Data Scientist                  Canadian Tire   \n",
       "2                 Data Engineer                   Prodigy Game   \n",
       "3           Solutions Architect                   WCG Services   \n",
       "4  Manager - Data and Analytics                 ISG Search Inc   \n",
       "\n",
       "          location                          education  \\\n",
       "0  Chalk River, ON                  Bachelor's Degree   \n",
       "1      Welland, ON                  Bachelor's Degree   \n",
       "2     Oakville, ON  Bachelor's Degree|Master's Degree   \n",
       "3         Peel, ON                                NaN   \n",
       "4      Toronto, ON                  Bachelor's Degree   \n",
       "\n",
       "                                              skills  \\\n",
       "0   Computer Skills|Computer Literacy|Writing Skills   \n",
       "1               SQL|Tableau|Financial Services|SAS|R   \n",
       "2                          NoSQL|SQL|AWS|Spark|Scala   \n",
       "3  Time Management|SQL|Azure|Analysis Skills|Lead...   \n",
       "4  Tableau|SAP|Microsoft SQL Server|SAP BusinessO...   \n",
       "\n",
       "                                         Description  \n",
       "0  <div class=\"viewjob-description ViewJob-descri...  \n",
       "1  <div class=\"viewjob-description ViewJob-descri...  \n",
       "2  <div class=\"viewjob-description ViewJob-descri...  \n",
       "3  <div class=\"viewjob-description ViewJob-descri...  \n",
       "4  <div class=\"viewjob-description ViewJob-descri...  "
      ]
     },
     "execution_count": 18,
     "metadata": {},
     "output_type": "execute_result"
    }
   ],
   "source": [
    "job_data.head()"
   ]
  },
  {
   "cell_type": "markdown",
   "metadata": {
    "colab_type": "text",
    "id": "dyCbYkdfV5_L"
   },
   "source": [
    "### 1.2 Webscraping Coursera "
   ]
  },
  {
   "cell_type": "markdown",
   "metadata": {
    "colab_type": "text",
    "id": "eMILus7BV5_M"
   },
   "source": [
    "Coursera is a popular online learning platform. 30 pages of data science, machine learning and AI related courses were scraped from the website. Again, these blocks take a while to run, so they will be commented out and the final dataframe can be read."
   ]
  },
  {
   "cell_type": "code",
   "execution_count": 19,
   "metadata": {
    "colab": {},
    "colab_type": "code",
    "id": "iXH56yuYV5_O"
   },
   "outputs": [],
   "source": [
    "all_pages = []\n",
    "for i in range (1,30):\n",
    "  page_template = 'https://www.coursera.org/courses?query=&indices%5Bprod_all_products_term_optimization%5D%5Bpage%5D={}&indices%5Bprod_all_products_term_optimization%5D%5Bconfigure%5D%5BclickAnalytics%5D=true&indices%5Bprod_all_products_term_optimization%5D%5Bconfigure%5D%5BruleContexts%5D%5B0%5D=en&indices%5Bprod_all_products_term_optimization%5D%5Bconfigure%5D%5BhitsPerPage%5D=10&configure%5BclickAnalytics%5D=true'.format(i)\n",
    "  all_pages.append(page_template)"
   ]
  },
  {
   "cell_type": "markdown",
   "metadata": {
    "colab_type": "text",
    "id": "-tnmCSqZV5_W"
   },
   "source": [
    "Scrape basic course infomation (Title, offered by, difficulty, rating, enrollment number)"
   ]
  },
  {
   "cell_type": "code",
   "execution_count": 20,
   "metadata": {
    "colab": {},
    "colab_type": "code",
    "id": "K1vp-zPhV5_Y",
    "outputId": "27e4ca92-ec26-4b0e-95b7-a6209ff2ccaa"
   },
   "outputs": [
    {
     "data": {
      "text/plain": [
       "\"course_info = []\\n\\nfor page in all_pages:\\n  url = urllib.request.urlopen(page)\\n  content = url.read()\\n  soup = BeautifulSoup(content, 'lxml')\\n\\n  course_data = soup.findAll('li',{'class':'ais-InfiniteHits-item'})\\n  for courses in course_data:\\n    partner = courses.find('span',{'class':'partner-name'}).get_text()\\n    title = courses.find(class_='color-primary-text card-title headline-1-text').get_text()\\n    #try:\\n      #level = courses.find('div',{'class':'productTypePill_up9419'}).get_text()\\n    #except AttributeError:\\n      #level = 'Unknow'\\n    difficulty = courses.find(class_='difficulty').get_text()\\n    rating = courses.find('span', {'class':'ratings-text'}).get_text()\\n    try:\\n      enrollment = courses.find('span',{'class':'enrollment-number'}).get_text()\\n    except AttributeError:\\n      enrollment = 'Unknown'\\n    course_info.append((title,partner,difficulty,rating,enrollment))\""
      ]
     },
     "execution_count": 20,
     "metadata": {},
     "output_type": "execute_result"
    }
   ],
   "source": [
    "'''course_info = []\n",
    "\n",
    "for page in all_pages:\n",
    "  url = urllib.request.urlopen(page)\n",
    "  content = url.read()\n",
    "  soup = BeautifulSoup(content, 'lxml')\n",
    "\n",
    "  course_data = soup.findAll('li',{'class':'ais-InfiniteHits-item'})\n",
    "  for courses in course_data:\n",
    "    partner = courses.find('span',{'class':'partner-name'}).get_text()\n",
    "    title = courses.find(class_='color-primary-text card-title headline-1-text').get_text()\n",
    "    #try:\n",
    "      #level = courses.find('div',{'class':'productTypePill_up9419'}).get_text()\n",
    "    #except AttributeError:\n",
    "      #level = 'Unknow'\n",
    "    difficulty = courses.find(class_='difficulty').get_text()\n",
    "    rating = courses.find('span', {'class':'ratings-text'}).get_text()\n",
    "    try:\n",
    "      enrollment = courses.find('span',{'class':'enrollment-number'}).get_text()\n",
    "    except AttributeError:\n",
    "      enrollment = 'Unknown'\n",
    "    course_info.append((title,partner,difficulty,rating,enrollment))'''"
   ]
  },
  {
   "cell_type": "markdown",
   "metadata": {
    "colab_type": "text",
    "id": "j5i_VK_LV5_f"
   },
   "source": [
    "Obtain links to each individual course page"
   ]
  },
  {
   "cell_type": "code",
   "execution_count": 21,
   "metadata": {
    "colab": {},
    "colab_type": "code",
    "id": "LPY5NKYcV5_h",
    "outputId": "d9c30008-32fe-4402-98a5-34e6e9562699"
   },
   "outputs": [
    {
     "data": {
      "text/plain": [
       "\"course_links = []\\nfor page in all_pages:\\n  url = urllib.request.urlopen(page)\\n  content = url.read()\\n  soup = BeautifulSoup(content, 'lxml')\\n  \\n  course_lists = soup.find_all('li',{'class': 'ais-InfiniteHits-item'})\\n  for course_urls in course_lists:\\n    urls = course_urls.find('a')\\n    url = urls.get('href')\\n    url_complete = 'https://www.coursera.org{}'.format(url)\\n    course_links.append(url_complete)\""
      ]
     },
     "execution_count": 21,
     "metadata": {},
     "output_type": "execute_result"
    }
   ],
   "source": [
    "'''course_links = []\n",
    "for page in all_pages:\n",
    "  url = urllib.request.urlopen(page)\n",
    "  content = url.read()\n",
    "  soup = BeautifulSoup(content, 'lxml')\n",
    "  \n",
    "  course_lists = soup.find_all('li',{'class': 'ais-InfiniteHits-item'})\n",
    "  for course_urls in course_lists:\n",
    "    urls = course_urls.find('a')\n",
    "    url = urls.get('href')\n",
    "    url_complete = 'https://www.coursera.org{}'.format(url)\n",
    "    course_links.append(url_complete)'''"
   ]
  },
  {
   "cell_type": "markdown",
   "metadata": {
    "colab_type": "text",
    "id": "gwidubvmV5_p"
   },
   "source": [
    "Scrape course descriptions"
   ]
  },
  {
   "cell_type": "code",
   "execution_count": 22,
   "metadata": {
    "colab": {},
    "colab_type": "code",
    "id": "fbrfZpV1V5_r",
    "outputId": "aa49dcb8-1fd3-4391-ad73-b9ee7224b3fd"
   },
   "outputs": [
    {
     "data": {
      "text/plain": [
       "\"course_about = []\\nfor link in course_links:\\n  url1 = urllib.request.urlopen(link)\\n  content1 = url1.read()\\n  soup1 = BeautifulSoup(content1, 'lxml')\\n\\n  course_des = soup1.findAll('div',{'data-e2e':'description'})\\n  for course in course_des:\\n    description = course.get_text()\\n    #try:\\n     # description = course.find('div',{'class':'description'}).get_text()\\n    #except AttributeError:\\n     # description = course.find('div',{'class':'description'}).get_text()\\n    #print(description)\\n    course_about.append(description)\""
      ]
     },
     "execution_count": 22,
     "metadata": {},
     "output_type": "execute_result"
    }
   ],
   "source": [
    "'''course_about = []\n",
    "for link in course_links:\n",
    "  url1 = urllib.request.urlopen(link)\n",
    "  content1 = url1.read()\n",
    "  soup1 = BeautifulSoup(content1, 'lxml')\n",
    "\n",
    "  course_des = soup1.findAll('div',{'data-e2e':'description'})\n",
    "  for course in course_des:\n",
    "    description = course.get_text()\n",
    "    #try:\n",
    "     # description = course.find('div',{'class':'description'}).get_text()\n",
    "    #except AttributeError:\n",
    "     # description = course.find('div',{'class':'description'}).get_text()\n",
    "    #print(description)\n",
    "    course_about.append(description)'''"
   ]
  },
  {
   "cell_type": "markdown",
   "metadata": {
    "colab_type": "text",
    "id": "1bznadW5V5_w"
   },
   "source": [
    "Scrape skills one will obtain upon completing the courses"
   ]
  },
  {
   "cell_type": "code",
   "execution_count": 23,
   "metadata": {
    "colab": {},
    "colab_type": "code",
    "id": "3HbrIqgbV5_x",
    "outputId": "15e573db-6c9f-4e8f-817b-b51235bdc8ac"
   },
   "outputs": [
    {
     "data": {
      "text/plain": [
       "\"skills_sum = []\\nfor link in course_links:\\n  url2 = urllib.request.urlopen(link)\\n  content2 = url2.read()\\n  soup2 = BeautifulSoup(content2, 'lxml')\\n\\n  skills_set = soup2.findAll('span',{'class':'Pill_56iw91 m-r-1s m-b-1s'})\\n  #print(skills)\\n  for skills in skills_set:\\n    skill = skills.get_text()\\n    skills_sum.append(skill)\\n    #print(skills_sum)\""
      ]
     },
     "execution_count": 23,
     "metadata": {},
     "output_type": "execute_result"
    }
   ],
   "source": [
    "'''skills_sum = []\n",
    "for link in course_links:\n",
    "  url2 = urllib.request.urlopen(link)\n",
    "  content2 = url2.read()\n",
    "  soup2 = BeautifulSoup(content2, 'lxml')\n",
    "\n",
    "  skills_set = soup2.findAll('span',{'class':'Pill_56iw91 m-r-1s m-b-1s'})\n",
    "  #print(skills)\n",
    "  for skills in skills_set:\n",
    "    skill = skills.get_text()\n",
    "    skills_sum.append(skill)\n",
    "    #print(skills_sum)'''"
   ]
  },
  {
   "cell_type": "code",
   "execution_count": 24,
   "metadata": {
    "colab": {},
    "colab_type": "code",
    "id": "wCKdZ8pvV5_3",
    "outputId": "e994615e-26a1-4753-ffba-56382ba7964a"
   },
   "outputs": [
    {
     "data": {
      "text/plain": [
       "\"courses_summary_df = pd.DataFrame(course_info, columns=['Title','Offered by','Difficulty','Rating','Enrollment'])\\nbrief_des_df = pd.DataFrame(course_about,columns=['Description'])\\nskills_sum_df = pd.DataFrame(skills_sum, columns=['Skills'])\\ncoursera_df = pd.concat([courses_summary_df,brief_des_df],axis=1)\\ncoursera_df.to_csv('./coursera.csv',index=False)\""
      ]
     },
     "execution_count": 24,
     "metadata": {},
     "output_type": "execute_result"
    }
   ],
   "source": [
    "'''courses_summary_df = pd.DataFrame(course_info, columns=['Title','Offered by','Difficulty','Rating','Enrollment'])\n",
    "brief_des_df = pd.DataFrame(course_about,columns=['Description'])\n",
    "skills_sum_df = pd.DataFrame(skills_sum, columns=['Skills'])\n",
    "coursera_df = pd.concat([courses_summary_df,brief_des_df],axis=1)\n",
    "coursera_df.to_csv('./coursera.csv',index=False)'''"
   ]
  },
  {
   "cell_type": "code",
   "execution_count": 25,
   "metadata": {
    "colab": {},
    "colab_type": "code",
    "id": "fyDNdCb7V5_8"
   },
   "outputs": [],
   "source": [
    "#skills_sum_df = pd.DataFrame(skills_sum, columns=['Skills'])\n",
    "#skills_sum_df.to_csv('./coursera_skills.csv')"
   ]
  },
  {
   "cell_type": "code",
   "execution_count": 26,
   "metadata": {
    "colab": {},
    "colab_type": "code",
    "id": "M8I2z16VV5__"
   },
   "outputs": [],
   "source": [
    "coursera_df=pd.read_csv('coursera.csv')\n",
    "skills_sum_df = pd.read_csv('./coursera_skills.csv')"
   ]
  },
  {
   "cell_type": "code",
   "execution_count": 27,
   "metadata": {
    "colab": {},
    "colab_type": "code",
    "id": "oXG_vTCdV6AB",
    "outputId": "29f5875f-831b-44fe-9acb-31ca4aadd918",
    "scrolled": true
   },
   "outputs": [
    {
     "data": {
      "text/html": [
       "<div>\n",
       "<style scoped>\n",
       "    .dataframe tbody tr th:only-of-type {\n",
       "        vertical-align: middle;\n",
       "    }\n",
       "\n",
       "    .dataframe tbody tr th {\n",
       "        vertical-align: top;\n",
       "    }\n",
       "\n",
       "    .dataframe thead th {\n",
       "        text-align: right;\n",
       "    }\n",
       "</style>\n",
       "<table border=\"1\" class=\"dataframe\">\n",
       "  <thead>\n",
       "    <tr style=\"text-align: right;\">\n",
       "      <th></th>\n",
       "      <th>Title</th>\n",
       "      <th>Offered by</th>\n",
       "      <th>Difficulty</th>\n",
       "      <th>Rating</th>\n",
       "      <th>Enrollment</th>\n",
       "      <th>Description</th>\n",
       "    </tr>\n",
       "  </thead>\n",
       "  <tbody>\n",
       "    <tr>\n",
       "      <td>0</td>\n",
       "      <td>IBM Data Science</td>\n",
       "      <td>IBM</td>\n",
       "      <td>Beginner</td>\n",
       "      <td>4.6</td>\n",
       "      <td>370k</td>\n",
       "      <td>Data Science has been ranked as one of the hot...</td>\n",
       "    </tr>\n",
       "    <tr>\n",
       "      <td>1</td>\n",
       "      <td>Introduction to Data Science</td>\n",
       "      <td>IBM</td>\n",
       "      <td>Beginner</td>\n",
       "      <td>4.6</td>\n",
       "      <td>240k</td>\n",
       "      <td>In this Specialization learners will develop f...</td>\n",
       "    </tr>\n",
       "    <tr>\n",
       "      <td>2</td>\n",
       "      <td>Google IT Support</td>\n",
       "      <td>Google</td>\n",
       "      <td>Beginner</td>\n",
       "      <td>4.8</td>\n",
       "      <td>260k</td>\n",
       "      <td>This 5-course certificate, developed by Google...</td>\n",
       "    </tr>\n",
       "    <tr>\n",
       "      <td>3</td>\n",
       "      <td>Deep Learning</td>\n",
       "      <td>deeplearning.ai</td>\n",
       "      <td>Intermediate</td>\n",
       "      <td>4.8</td>\n",
       "      <td>580k</td>\n",
       "      <td>If you want to break into AI, this Specializat...</td>\n",
       "    </tr>\n",
       "    <tr>\n",
       "      <td>4</td>\n",
       "      <td>Python for Everybody</td>\n",
       "      <td>University of Michigan</td>\n",
       "      <td>Beginner</td>\n",
       "      <td>4.8</td>\n",
       "      <td>1.1m</td>\n",
       "      <td>This Specialization builds on the success of t...</td>\n",
       "    </tr>\n",
       "  </tbody>\n",
       "</table>\n",
       "</div>"
      ],
      "text/plain": [
       "                          Title              Offered by    Difficulty  Rating  \\\n",
       "0              IBM Data Science                     IBM      Beginner     4.6   \n",
       "1  Introduction to Data Science                     IBM      Beginner     4.6   \n",
       "2             Google IT Support                  Google      Beginner     4.8   \n",
       "3                 Deep Learning         deeplearning.ai  Intermediate     4.8   \n",
       "4          Python for Everybody  University of Michigan      Beginner     4.8   \n",
       "\n",
       "  Enrollment                                        Description  \n",
       "0       370k  Data Science has been ranked as one of the hot...  \n",
       "1       240k  In this Specialization learners will develop f...  \n",
       "2       260k  This 5-course certificate, developed by Google...  \n",
       "3       580k  If you want to break into AI, this Specializat...  \n",
       "4       1.1m  This Specialization builds on the success of t...  "
      ]
     },
     "execution_count": 27,
     "metadata": {},
     "output_type": "execute_result"
    }
   ],
   "source": [
    "coursera_df.head()"
   ]
  },
  {
   "cell_type": "markdown",
   "metadata": {},
   "source": [
    "## 1.3 Kaggle Survey - 2018 and 2019 \n",
    "\n",
    "These datasets will allow us to look at what kind of skills and tools are being used by people currently working data science jobs. We can simply read in the data from a CSV file, so no scraping is required here."
   ]
  },
  {
   "cell_type": "markdown",
   "metadata": {
    "colab_type": "text",
    "id": "kKIJYN30V6AH"
   },
   "source": [
    "## 2. Cleaning and Exploratory analysis"
   ]
  },
  {
   "cell_type": "markdown",
   "metadata": {
    "colab_type": "text",
    "id": "91DNLIUqV6AH"
   },
   "source": [
    "We will show for our three data sources how the data were cleaned and analyzed to identify relevant and important industry skills. As we are dealing with text data, we will be applying natural language processing algorithms to clean and analyze our data"
   ]
  },
  {
   "cell_type": "code",
   "execution_count": 28,
   "metadata": {
    "colab": {},
    "colab_type": "code",
    "id": "DRLPZt1HV6AI",
    "outputId": "1e84c7c1-1ba0-4afb-ff94-b872738f241e"
   },
   "outputs": [
    {
     "name": "stdout",
     "output_type": "stream",
     "text": [
      "Requirement already satisfied: nltk in c:\\users\\david\\anaconda3\\lib\\site-packages (3.4.5)\n",
      "Requirement already satisfied: six in c:\\users\\david\\anaconda3\\lib\\site-packages (from nltk) (1.12.0)\n"
     ]
    },
    {
     "name": "stderr",
     "output_type": "stream",
     "text": [
      "[nltk_data] Downloading package wordnet to\n",
      "[nltk_data]     C:\\Users\\David\\AppData\\Roaming\\nltk_data...\n",
      "[nltk_data]   Package wordnet is already up-to-date!\n",
      "[nltk_data] Downloading package stopwords to\n",
      "[nltk_data]     C:\\Users\\David\\AppData\\Roaming\\nltk_data...\n",
      "[nltk_data]   Package stopwords is already up-to-date!\n"
     ]
    }
   ],
   "source": [
    "!pip install nltk\n",
    "import nltk\n",
    "from nltk.corpus import stopwords \n",
    "nltk.download('wordnet')\n",
    "nltk.download('stopwords')\n",
    "from nltk.tokenize import RegexpTokenizer\n",
    "import pandas as pd\n",
    "from sklearn.feature_extraction.text import CountVectorizer\n",
    "from sklearn.feature_extraction.text import TfidfVectorizer\n",
    "import numpy as np\n",
    "import re\n",
    "from nltk.stem.porter import *\n",
    "from nltk.stem.snowball import SnowballStemmer\n",
    "\n",
    "from collections import Counter\n",
    "import pprint \n"
   ]
  },
  {
   "cell_type": "markdown",
   "metadata": {
    "colab_type": "text",
    "id": "Cu6nyt0nV6AL"
   },
   "source": [
    "### 2.1 SimplyHired cleaning and EDA"
   ]
  },
  {
   "cell_type": "markdown",
   "metadata": {
    "colab_type": "text",
    "id": "AyWYt7WTV6AL"
   },
   "source": [
    "We'll start by cleaning the dataframe. First, we filter the irrelevant jobs out. To do this, we will create a list of keywords for jobs we want to retain and filter our dataframe."
   ]
  },
  {
   "cell_type": "code",
   "execution_count": 29,
   "metadata": {
    "colab": {},
    "colab_type": "code",
    "id": "F6czPD5UV6AM"
   },
   "outputs": [],
   "source": [
    "job_data['title'] = job_data[\"Title\"].str.lower() "
   ]
  },
  {
   "cell_type": "code",
   "execution_count": 30,
   "metadata": {
    "colab": {},
    "colab_type": "code",
    "id": "8A4jZCWfV6AP"
   },
   "outputs": [],
   "source": [
    "relevant_titles = set(['data scientist','data science','data engineer','data and analytics','machine learning','artificial intelligence','big data','data analyst','data visualization',\n",
    "                       'asset intelligence','digital analytics'])\n"
   ]
  },
  {
   "cell_type": "markdown",
   "metadata": {
    "colab_type": "text",
    "id": "B5vFpOhlV6AR"
   },
   "source": [
    "See if Job Title contains relevant job title:"
   ]
  },
  {
   "cell_type": "code",
   "execution_count": 31,
   "metadata": {
    "colab": {},
    "colab_type": "code",
    "id": "jwpUQB_sV6AS",
    "outputId": "7c04874c-d173-4a81-dcf8-d6cb468e0aee"
   },
   "outputs": [
    {
     "name": "stdout",
     "output_type": "stream",
     "text": [
      "machine learning|data engineer|data analyst|asset intelligence|data visualization|digital analytics|data and analytics|data scientist|big data|artificial intelligence|data science\n"
     ]
    }
   ],
   "source": [
    "pattern = '|'.join(relevant_titles)\n",
    "job_data['relevant'] = job_data.title.str.contains(pattern)\n",
    "print(pattern)"
   ]
  },
  {
   "cell_type": "code",
   "execution_count": 32,
   "metadata": {
    "colab": {},
    "colab_type": "code",
    "id": "NDDJUuFQV6AX"
   },
   "outputs": [],
   "source": [
    "job_data = job_data[job_data.relevant != False]"
   ]
  },
  {
   "cell_type": "code",
   "execution_count": 33,
   "metadata": {
    "colab": {},
    "colab_type": "code",
    "id": "yax3iA-GV6Ad",
    "outputId": "eeb4af5e-59c5-4e85-df03-13b626cb1036"
   },
   "outputs": [
    {
     "name": "stdout",
     "output_type": "stream",
     "text": [
      "After removing irrelevant jobs, there are now 633 jobs.\n"
     ]
    }
   ],
   "source": [
    "print('After removing irrelevant jobs, there are now', len(job_data.index), 'jobs.')"
   ]
  },
  {
   "cell_type": "markdown",
   "metadata": {
    "colab_type": "text",
    "id": "f5Zlx8fdV6Ai"
   },
   "source": [
    "Because SimplyHired aggregates many jobs, there are duplicate jobs from the same company. This will skew our dataset incorrectly, so, we want to filter out duplicate jobs. A job is assumed to be a duplicate if it has an identical title, company and location as another job. This is unlikely to result in different jobs being deleted. "
   ]
  },
  {
   "cell_type": "code",
   "execution_count": 34,
   "metadata": {
    "colab": {},
    "colab_type": "code",
    "id": "6U7ClCzeV6Ai"
   },
   "outputs": [],
   "source": [
    "# sorting by first name \n",
    "job_data.sort_values(\"title\", inplace = True) \n",
    "  \n",
    "# dropping ALL duplicte values \n",
    "job_data.drop_duplicates(subset =['title','Company','location'], \n",
    "                     keep = 'first', inplace = True) "
   ]
  },
  {
   "cell_type": "code",
   "execution_count": 35,
   "metadata": {
    "colab": {},
    "colab_type": "code",
    "id": "OCbDv8qDV6Ak",
    "outputId": "f27d6a8c-da34-4299-e98e-f2167fbd57b8"
   },
   "outputs": [
    {
     "name": "stdout",
     "output_type": "stream",
     "text": [
      "After removing duplicates, there are now 270 jobs total.\n"
     ]
    }
   ],
   "source": [
    "print('After removing duplicates, there are now', len(job_data.index), 'jobs total.')"
   ]
  },
  {
   "cell_type": "markdown",
   "metadata": {
    "colab_type": "text",
    "id": "TPXUFoP6V6As"
   },
   "source": [
    "__Now, from our data we want to see what skills are in highest demand. We will present 2 different methods for doing this:__"
   ]
  },
  {
   "cell_type": "markdown",
   "metadata": {
    "colab_type": "text",
    "id": "PZu-c9FuV6At"
   },
   "source": [
    "__2.1.1 Method 1: Skill Field - Number of Occurences__\n",
    "\n",
    "The postings on SimplyHired contain a \"skills\" field, where the employer can highlight skills that are important for the job. We will count the occurrence of skills using this field. This field contains up to 5 (and as few as zero) highlighted skills. We will read these from the dataframe:"
   ]
  },
  {
   "cell_type": "code",
   "execution_count": 36,
   "metadata": {
    "colab": {},
    "colab_type": "code",
    "id": "-ese2yZOV6Au"
   },
   "outputs": [],
   "source": [
    "job_skills = []\n",
    "# job_data_old.skills[:]\n",
    "jd=job_data.copy()\n",
    "# dropping null value columns to avoid errors \n",
    "jd.dropna(inplace = True) \n",
    "   \n",
    "# new data frame with split value columns \n",
    "Skill_df= jd[\"skills\"].str.split(\"|\", expand = True) \n",
    "Skill_df.columns = ['skill1','skill2','skill3',\n",
    "                     'skill4','skill5']"
   ]
  },
  {
   "cell_type": "code",
   "execution_count": 37,
   "metadata": {
    "colab": {},
    "colab_type": "code",
    "id": "07OUb6qGV6Aw",
    "outputId": "f1d66b93-e8cf-4fbc-cd15-d9a6aea011c2"
   },
   "outputs": [
    {
     "name": "stdout",
     "output_type": "stream",
     "text": [
      "{None: 47,\n",
      " 'A/B Testing': 3,\n",
      " 'AI': 14,\n",
      " 'AWS': 38,\n",
      " 'Adobe Analytics': 1,\n",
      " 'Agile': 6,\n",
      " 'Analysis Skills': 25,\n",
      " 'Angular': 1,\n",
      " 'Apache Hive': 17,\n",
      " 'Apache Pig': 3,\n",
      " 'Azure': 14,\n",
      " 'B2B Sales': 1,\n",
      " 'Big Data': 11,\n",
      " 'Business Analysis': 2,\n",
      " 'C/C++': 3,\n",
      " 'Cassandra': 1,\n",
      " 'Cognos': 1,\n",
      " 'Computer Literacy': 6,\n",
      " 'Conflict Management': 1,\n",
      " 'Continuous Integration': 3,\n",
      " 'Conversion Optimization': 1,\n",
      " 'Customer Segmentation': 1,\n",
      " 'Customer Service': 2,\n",
      " 'DB2': 1,\n",
      " 'Data Analysis Skills': 4,\n",
      " 'Data Mining': 24,\n",
      " 'Data Visualization': 4,\n",
      " 'Data Warehouse': 16,\n",
      " 'Database Marketing': 1,\n",
      " 'Digital Marketing': 1,\n",
      " 'Excel': 14,\n",
      " 'Financial Services': 8,\n",
      " 'Forecasting': 1,\n",
      " 'Git': 10,\n",
      " 'Go': 2,\n",
      " 'Google Analytics': 1,\n",
      " 'Google Cloud Platform': 10,\n",
      " 'GraphQL': 1,\n",
      " 'HTML5': 3,\n",
      " 'Hadoop': 49,\n",
      " 'Image Processing': 1,\n",
      " 'Java': 19,\n",
      " 'Jira': 1,\n",
      " 'Kubernetes': 6,\n",
      " 'Leadership Experience': 6,\n",
      " 'Machine Learning': 19,\n",
      " 'Management Experience': 3,\n",
      " 'Market Research': 1,\n",
      " 'Marketing': 1,\n",
      " 'Microsoft Project': 1,\n",
      " 'Microsoft SQL Server': 7,\n",
      " 'Microsoft Word': 5,\n",
      " 'MySQL': 6,\n",
      " 'Natural Language Processing': 32,\n",
      " 'NoSQL': 21,\n",
      " 'Node.js': 4,\n",
      " 'Oracle': 1,\n",
      " 'Organizational Skills': 4,\n",
      " 'PHP': 1,\n",
      " 'Perl': 2,\n",
      " 'PostgreSQL': 9,\n",
      " 'Power BI': 16,\n",
      " 'Process Improvement': 2,\n",
      " 'Project Management': 6,\n",
      " 'Python': 35,\n",
      " 'QlikView': 1,\n",
      " 'Quantitative Analysis': 1,\n",
      " 'R': 42,\n",
      " 'Relational Databases': 16,\n",
      " 'Relationship Management': 2,\n",
      " 'Ruby': 1,\n",
      " 'S3': 1,\n",
      " 'SAP': 3,\n",
      " 'SAP BusinessObjects': 2,\n",
      " 'SAS': 15,\n",
      " 'SQL': 100,\n",
      " 'Scala': 12,\n",
      " 'Shell Scripting': 1,\n",
      " 'Signal Processing': 2,\n",
      " 'Solr': 2,\n",
      " 'Spark': 50,\n",
      " 'Splunk': 1,\n",
      " 'Statistical Analysis': 8,\n",
      " 'System Design': 1,\n",
      " 'TFS': 1,\n",
      " 'Tableau': 34,\n",
      " 'Teaching': 1,\n",
      " 'TensorFlow': 26,\n",
      " 'Teradata': 4,\n",
      " 'Test Automation': 1,\n",
      " 'Time Management': 9,\n",
      " 'Visual Basic': 3,\n",
      " 'Writing Skills': 3,\n",
      " 'iOS': 1}\n"
     ]
    }
   ],
   "source": [
    "# Write skill counts\n",
    "string_skills = Skill_df.skill1.tolist()\n",
    "string_skills.append(Skill_df.skill2.tolist())\n",
    "string_skills.append(Skill_df.skill3.tolist())\n",
    "string_skills.append(Skill_df.skill4.tolist())\n",
    "string_skills.append(Skill_df.skill5.tolist())\n",
    "\n",
    "d = Counter(flatten(string_skills))\n",
    "\n",
    "n, m = d.keys(), d.values()\n",
    "\n",
    "pprint.pprint(dict(d.items()))\n"
   ]
  },
  {
   "cell_type": "code",
   "execution_count": 38,
   "metadata": {
    "colab": {},
    "colab_type": "code",
    "id": "xy6eN03YV6Ay"
   },
   "outputs": [],
   "source": [
    "sklist_csv = list(set(flatten(string_skills)))\n",
    "sklist_cs=[]\n",
    "i=0\n",
    "for skill in sklist_csv:\n",
    "    sklist_cs.append(str(skill).lower())"
   ]
  },
  {
   "cell_type": "markdown",
   "metadata": {},
   "source": [
    "Now we will plot the distribution of skills."
   ]
  },
  {
   "cell_type": "code",
   "execution_count": 39,
   "metadata": {
    "colab": {},
    "colab_type": "code",
    "id": "52lyhVIeV6A6",
    "outputId": "68d72473-79c8-4d18-bc9c-bde7cb0119b7"
   },
   "outputs": [
    {
     "data": {
      "image/png": "[encoded data removed]",
      "text/plain": [
       "<Figure size 1080x360 with 1 Axes>"
      ]
     },
     "metadata": {
      "needs_background": "light"
     },
     "output_type": "display_data"
    }
   ],
   "source": [
    "skill=list(d.keys())\n",
    "occurrence=list(d.values())\n",
    "\n",
    "skill = [x for _,x in sorted(zip(occurrence,skill),reverse=True)]\n",
    "occurrence = sorted(occurrence,reverse=True)\n",
    "\n",
    "job_skill=skill\n",
    "job_skill_occurrence=occurrence\n",
    "\n",
    "top_sk = 60\n",
    "\n",
    "fig_dims = (15, 5)\n",
    "fig, ax = plt.subplots(figsize=fig_dims)\n",
    "plott=sns.barplot(x=skill[0:top_sk],y=occurrence[0:top_sk])\n",
    "plott.set(xlabel='Skill', ylabel='Occurrence',title='SimplyHired Data Science Jobs - Top Skills')\n",
    "plott.set_xticklabels(plott.get_xticklabels(), rotation=90)\n",
    "plt.show()"
   ]
  },
  {
   "cell_type": "markdown",
   "metadata": {
    "colab_type": "text",
    "id": "cTrIZxERV6A9"
   },
   "source": [
    "Based on skill frequency alone, it seems that SQL, Spark, and Hadoop are the top 3 in-demand skills. It is of interest to note that all three of these skills are used in Big Data. However, job descriptions contain many skills, so perhaps we are losing information by simply using the \"Skills\" field. Some postings had no skills at all listed in this field. So we will now use the whole job description to gain more insight."
   ]
  },
  {
   "cell_type": "markdown",
   "metadata": {
    "colab_type": "text",
    "id": "qRfZfecYV6Be"
   },
   "source": [
    "__2.1.2 Method 2: Search for skills in list in job description.__ \n",
    "\n",
    "We will create a master list of relevant skills obtained with Method 1 to search for skills in the job description field. We have manually modified this list to add certain skills. This method has potential to miss certain skills but we believe this one is the best method for us, provided that the master list of skills captures different ways of stating the skill. \n",
    "\n",
    "First, we need to create the master list of skills. First we will try to create a list based on the skills that occur in more than 3 course descriptions (from Coursera) or more than 3 job descriptions (from SimplyHired):"
   ]
  },
  {
   "cell_type": "code",
   "execution_count": 40,
   "metadata": {
    "colab": {},
    "colab_type": "code",
    "id": "rLFzGJtQV6BQ",
    "outputId": "da6bea04-5dca-4d22-f003-219ac369b46d"
   },
   "outputs": [],
   "source": [
    "coursera_df.head()\n",
    "skills_sum_df.head()\n",
    "skills_count = skills_sum_df.Skills.value_counts().to_dict()"
   ]
  },
  {
   "cell_type": "markdown",
   "metadata": {
    "colab_type": "text",
    "id": "UwL1Q83OV6Bl"
   },
   "source": [
    "We will define a helper funciton for data cleaning to remove special characters."
   ]
  },
  {
   "cell_type": "code",
   "execution_count": 41,
   "metadata": {
    "colab": {},
    "colab_type": "code",
    "id": "8E6G4nhEV6Ba"
   },
   "outputs": [],
   "source": [
    "def Punctuation(string): \n",
    "  \n",
    "    # punctuation marks \n",
    "    punctuations = '''!()-[]{};:'\"\\,<>./?@#$%^&*_~'''\n",
    "  \n",
    "    # traverse the given string and if any punctuation \n",
    "    # marks occur replace it with null \n",
    "    for x in string.lower(): \n",
    "        if x in punctuations: \n",
    "            string = string.replace(x, \"\") \n",
    "    outstr=str(string)\n",
    "    return outstr\n",
    "    # Print string without punctuation "
   ]
  },
  {
   "cell_type": "markdown",
   "metadata": {},
   "source": [
    "Create a list based on the skills that occur in more than 3 course descriptions (from Coursera) or more than 3 job descriptions (from SimplyHired):"
   ]
  },
  {
   "cell_type": "code",
   "execution_count": 42,
   "metadata": {
    "colab": {},
    "colab_type": "code",
    "id": "95sNv9c3V6Bf",
    "outputId": "389085fb-e472-4c29-fc93-b873d08f359e",
    "scrolled": true
   },
   "outputs": [
    {
     "name": "stdout",
     "output_type": "stream",
     "text": [
      "['python program', 'machine learn', 'data analysi', 'data visualization dataviz', 'data sci', 'communic', 'tensorflow', 'sql', 'project manag', 'algorithm', 'r program', 'problem solv', 'deep learn', 'negoti', 'javascript', 'computer program', 'plan', 'write', 'leadership', 'market', 'cloud comput', 'debug', 'statist', 'manag', 'regression analysi', 'google cloud platform', 'financ', 'data structur', 'brand manag', 'strategic manag', 'objectoriented programming oop', 'cryptographi', 'cascading style sheets cc', 'analyt', 'microsoft excel', 'artificial intelligence ai', 'risk manag', 'business strategi', 'convolutional neural network', 'panda', 'mongodb', 'creativ', 'grammar', 'present', 'hash tabl', 'numpi', 'rstudio', 'artificial neural network', 'english languag', 'social media', 'apache spark', 'html', 'cloud storag', 'product manag', 'strategic think', 'troubleshoot', 'exploratory data analysi', 'google app engine ga', 'github', 'financial stat', 'project plan', 'account', 'application programming interfaces api', 'linux', 'data manag', 'financial market', 'big data', 'linear regress', 'data cleans', 'dynamic program', 'mathematical optim', 'project', 'music product', 'google compute engin', 'data virtu', 'statistical hypothesis test', 'change manag', 'art histori', 'predictive model', 'entrepreneurship', 'coach', 'music record', 'reinforcement learn', 'plan', 'authent', 'jqueri', 'statistical infer', 'html5', 'bigqueri', 'business analyt', 'art', 'balance sheet', 'design think', 'goal set', 'geographic information system gi', 'decision tre', 'marketing strategi', 'histori', 'sqlite', 'lean six sigma', 'graph theori', 'digital strategi', 'forecast', 'predictive analyt', 'software test', 'ipv4', 'computer vis', 'parallel comput', 'ab test', 'nodej', 'digital market', 'marketing performance measurement and manag', 'music', 'pricing strategi', 'python syntax and semant', 'java program', 'json', 'powershel', 'reactive program', 'matplotlib', 'inductive transf', 'model select', 'schedul', 'speech', 'simul', 'financial account', 'sql', 'spark', 'hadoop', 'none', 'r', 'aw', 'python', 'tableau', 'natural language process', 'tensorflow', 'analysis skil', 'data min', 'nosql', 'machine learn', 'java', 'apache h', 'relational databas', 'power bi', 'data warehous', 'sas', 'excel', 'azur', 'ai', 'scala', 'big data', 'google cloud platform', 'git', 'time manag', 'postgresql', 'statistical analysi', 'financial servic', 'microsoft sql serv', 'project manag', 'mysql', 'leadership experi', 'kubernet', 'computer literaci', 'agil', 'microsoft word', 'teradata', 'organizational skil', 'nodej', 'data visu', 'data analysis skil', 'writing skil', 'visual bas', 'sap', 'management experi', 'html5', 'continuous integr', 'cc++', 'apache pig', 'ab test']\n"
     ]
    }
   ],
   "source": [
    "# Import the data from the csv file we created with our RSS feed processor\n",
    "from nltk.stem.snowball import SnowballStemmer\n",
    "stemmer = SnowballStemmer(\"english\")\n",
    "tokenizer = RegexpTokenizer(r'\\w+')\n",
    "sk_list = list(skills_count.keys())\n",
    "sk_count = list(skills_count.values())\n",
    "master_sk_list=[]\n",
    "# Processing each article in our file\n",
    "\n",
    "min_relevance = 3\n",
    "\n",
    "i=0\n",
    "for skill in sk_list:\n",
    "    content_cleaned = ''\n",
    "\n",
    "    # Remove non-alphabetic values and set all letters to lowercase\n",
    "    #text = re.sub(\"[^A-Za-z']+\", ' ', text).lower()\n",
    "    skill = Punctuation(skill)\n",
    "    skill = skill.lower()\n",
    "    skill=stemmer.stem(skill)\n",
    "    if sk_count[i] >= min_relevance:\n",
    "        master_sk_list.append(skill)\n",
    "    i+=1\n",
    "\n",
    "sk_list = list(skills_count.keys())\n",
    "sk_count = list(skills_count.values())\n",
    "i=0\n",
    "\n",
    "\n",
    "for skill in job_skill:\n",
    "    content_cleaned = ''\n",
    "\n",
    "    # Remove non-alphabetic values and set all letters to lowercase\n",
    "    #text = re.sub(\"[^A-Za-z']+\", ' ', text).lower()\n",
    "\n",
    "    skill=str(skill)\n",
    "    skill = Punctuation(skill)\n",
    "    skill = skill.lower()\n",
    "    skill=stemmer.stem(skill)\n",
    "    if job_skill_occurrence[i] >= min_relevance:\n",
    "        master_sk_list.append(skill)\n",
    "    i+=1\n",
    "print(master_sk_list)"
   ]
  },
  {
   "cell_type": "markdown",
   "metadata": {
    "colab_type": "text",
    "id": "JkonyxJaV6Bj"
   },
   "source": [
    "Unfortunately, this list is not in a form that is amenable to searching through documents. Some manual modifications were made to the list, for example some small words will need spaces inserted in front and behind, like ' r ', while some will not.  The skills were also sorted into soft skills and technical skills, manually. The final list:"
   ]
  },
  {
   "cell_type": "code",
   "execution_count": 43,
   "metadata": {
    "colab": {},
    "colab_type": "code",
    "id": "btIvyCOvV6Bk"
   },
   "outputs": [],
   "source": [
    "soft_skills_tbc = ['accountability',\n",
    "'accounting',\n",
    "'analysis skills',\n",
    "' art ',\n",
    "'art history',\n",
    "'b2b sales',\n",
    "'balance sheet',\n",
    "'business analy',\n",
    "'brand management',\n",
    "'business strategy',\n",
    "'coaching',\n",
    "'collaborat',\n",
    "'communication',\n",
    "'computer literacy',\n",
    "'conflict management',\n",
    "'consulting',\n",
    "'creativ',\n",
    "'customer service',\n",
    "'database marketing',\n",
    "'digital marketing',\n",
    "'ethics',\n",
    "'entrepreneurship',\n",
    "'finance',\n",
    "'financial services',\n",
    "'independent',\n",
    "'integrity',\n",
    "'leadership experience',\n",
    "'management experience',\n",
    "'market research',\n",
    "'marketing',\n",
    "'negotiation',\n",
    "'organizational skills',\n",
    "'presentation',\n",
    "'problem solving',\n",
    "'project management',\n",
    "'quantitative analy',\n",
    "'relationship management',\n",
    "'reporting',\n",
    "'results oriented',\n",
    "'risk management',\n",
    "'speech',\n",
    "'teaching',\n",
    "'team',\n",
    "'time management',\n",
    "'writing']\n",
    "\n",
    "tech_skills_tbc=[' ai ',\n",
    "' aws ',\n",
    "' c ',\n",
    "' excel ',\n",
    "' git ',\n",
    "' ios ',\n",
    "' java ',\n",
    "' r ',\n",
    "'a/b testing',\n",
    "'adobe analytics',\n",
    "'agile',\n",
    "'angular',\n",
    "'apache hive',\n",
    "'apache pig',\n",
    "'artificial intelligence',\n",
    "'azure',\n",
    "'big data',\n",
    "'c/c++',\n",
    "'c++',\n",
    "'cascading style sheets',\n",
    "'calculus',\n",
    "'cassandra',\n",
    "'cluster',\n",
    "'cognos',\n",
    "'colab',\n",
    "'computer sci',\n",
    "'continuous integration',\n",
    "'conversion optimization',\n",
    "'cron',\n",
    "'customer segmentation',\n",
    "'cryptography',\n",
    "'data analysis skills',\n",
    "'data architecture',\n",
    "'data clean',\n",
    "'data exploration',\n",
    "'data governance',\n",
    "'data mapping',\n",
    "'data mining',\n",
    "'data visualization',\n",
    "'data warehouse',\n",
    "'db2',\n",
    "'deep learning',\n",
    "'decision tree',\n",
    "'forecasting',\n",
    "'google',\n",
    "'graph theory',\n",
    "'graphql',\n",
    "'hadoop',\n",
    "'html',\n",
    "'hash table',\n",
    "'image processing',\n",
    "'javascript',\n",
    "'jira',\n",
    "'jupyter',\n",
    "'kubernetes',\n",
    "'linear algebra',\n",
    "'linux',\n",
    "'machine learning',\n",
    "'mathematic',\n",
    "'matlab',\n",
    "'microsoft project',\n",
    "'microsoft sql server',\n",
    "'microsoft word',\n",
    "'mysql',\n",
    "'natural language processing',\n",
    "'neural network',\n",
    "'node.js',\n",
    "'none',\n",
    "'nosql',\n",
    "'optimization',\n",
    "'oracle',\n",
    "'perl',\n",
    "'php',\n",
    "'postgresql',\n",
    "'power bi',\n",
    "'process improvement',\n",
    "'pycharm',\n",
    "'python',\n",
    "'qlikview',\n",
    "'regression',\n",
    "'relational database',\n",
    "'rstudio',\n",
    "'ruby',\n",
    "'s3',\n",
    "'sap',\n",
    "'sap businessobjects',\n",
    "'sas',\n",
    "'scala',\n",
    "'shell scripting',\n",
    "'signal processing',\n",
    "'solr',\n",
    "'spark',\n",
    "'splunk',\n",
    "'spss',\n",
    "'sql',\n",
    "'social media',\n",
    "'simulation',\n",
    "'statistic',\n",
    "'storytelling',\n",
    "'system design',\n",
    "'systems management',\n",
    "'tableau',\n",
    "'tensorflow',\n",
    "'teradata',\n",
    "'test automation',\n",
    "'tfs',\n",
    "'unix',\n",
    "'vba',\n",
    "'visual analyitics',\n",
    "'visual basic',\n",
    "'visualization',\n",
    "'web scraping'\n",
    "'zeppelin',\n",
    "'cloud',\n",
    "'programming']\n",
    "    \n",
    "\n",
    "# Import the data from the csv file we created with our RSS feed processor\n",
    "from nltk.stem.snowball import SnowballStemmer\n",
    "SnowballStemmer = SnowballStemmer(\"english\")\n",
    "tokenizer = RegexpTokenizer(r'\\w+')\n",
    "soft_skills=[]\n",
    "tech_skills=[]\n",
    "\n",
    "\n",
    "for skill in tech_skills_tbc:\n",
    "\n",
    "    skill = skill.lower()\n",
    "    skill=stemmer.stem(skill)\n",
    "    tech_skills.append(skill)\n",
    "\n",
    "for skill in soft_skills_tbc:\n",
    "\n",
    "    skill = skill.lower()\n",
    "    skill=stemmer.stem(skill)\n",
    "    soft_skills.append(skill)\n"
   ]
  },
  {
   "cell_type": "markdown",
   "metadata": {},
   "source": [
    "Now we search through every job description for each skill in our master list. We will only count each skill once per job description. \n",
    "\n",
    "The text contains unneeded characters (eg., HTML tags). Here we strip all non-letter characters, make the text lowercase, remove stopwords, and count word frequency. We will only count each word once for each job description."
   ]
  },
  {
   "cell_type": "code",
   "execution_count": 44,
   "metadata": {
    "colab": {},
    "colab_type": "code",
    "id": "d4FIGSSYV6Bm"
   },
   "outputs": [],
   "source": [
    "# Import the data from the csv file we created with our RSS feed processor\n",
    "tokenizer = RegexpTokenizer(r'\\w+')\n",
    "stop_words = set(stopwords.words('english'))\n",
    "clean_text = []\n",
    "tokenized_words = []\n",
    "mega_list = []\n",
    "tsk_count= np.zeros(len(tech_skills))\n",
    "ssk_count= np.zeros(len(soft_skills))\n",
    "\n",
    "# Processing each article in our file\n",
    "for row in job_data['Description']:\n",
    "\n",
    "    content_cleaned = ''\n",
    "\n",
    "    text=re.sub('<.*?>', '', str(row))\n",
    "    # Remove non-alphabetic values and set all letters to lowercase\n",
    "    #text = re.sub(\"[^A-Za-z']+\", ' ', text).lower()\n",
    "    text = Punctuation(text)\n",
    "    text = text.lower()\n",
    "\n",
    "    \n",
    "    \n",
    "    i=0\n",
    "    for skill in tech_skills:\n",
    "        if text.find(skill) >=0:\n",
    "            tsk_count[i] =tsk_count[i]+1\n",
    "        i=i+1\n",
    "        \n",
    "    i=0\n",
    "    for skill in soft_skills:\n",
    "        if text.find(skill) >=0:\n",
    "            ssk_count[i] =ssk_count[i]+1\n",
    "        i=i+1\n",
    "    \n",
    "    clean_text.append(text)\n",
    "\n",
    "    tokenized_words.append(content_cleaned.split())\n",
    "\n",
    "job_data['Description_LC'] = clean_text"
   ]
  },
  {
   "cell_type": "code",
   "execution_count": 45,
   "metadata": {
    "colab": {},
    "colab_type": "code",
    "id": "FKFZqR9iV6Bv",
    "outputId": "ddc31022-2fa5-4838-9ccc-194fdcbf5a4a",
    "scrolled": true
   },
   "outputs": [
    {
     "data": {
      "image/png": "[encoded data removed]",
      "text/plain": [
       "<Figure size 1080x360 with 1 Axes>"
      ]
     },
     "metadata": {
      "needs_background": "light"
     },
     "output_type": "display_data"
    }
   ],
   "source": [
    "skill=list(tech_skills)\n",
    "occurrence=list(tsk_count)\n",
    "\n",
    "skill = [x for _,x in sorted(zip(occurrence,skill),reverse=True)]\n",
    "occurrence = sorted(occurrence,reverse=True)\n",
    "\n",
    "skill_job=skill\n",
    "occurrence_job=occurrence\n",
    "\n",
    "top_sk = 40\n",
    "\n",
    "fig_dims = (15, 5)\n",
    "fig, ax = plt.subplots(figsize=fig_dims)\n",
    "plott=sns.barplot(x=skill[0:top_sk],y=occurrence[0:top_sk])\n",
    "plott.set(xlabel='Skill', ylabel='Occurrence',title='SimplyHired Data Science Jobs - Top Technical Skills')\n",
    "plott.set_xticklabels(plott.get_xticklabels(), rotation=90)\n",
    "plt.show()"
   ]
  },
  {
   "cell_type": "markdown",
   "metadata": {},
   "source": [
    "The top skills are computer sci(ence), python, sql, statist(ics) and programming. These are common data science skills, so this distribution is not unexpected. "
   ]
  },
  {
   "cell_type": "code",
   "execution_count": 46,
   "metadata": {
    "colab": {},
    "colab_type": "code",
    "id": "G4CbeoxzV6Bq",
    "outputId": "6cfefc62-3ede-42bd-cec0-48e4848f1281",
    "scrolled": true
   },
   "outputs": [
    {
     "data": {
      "image/png": "[encoded data removed]",
      "text/plain": [
       "<Figure size 1080x360 with 1 Axes>"
      ]
     },
     "metadata": {
      "needs_background": "light"
     },
     "output_type": "display_data"
    }
   ],
   "source": [
    "skill=list(soft_skills)\n",
    "occurrence=list(ssk_count)\n",
    "\n",
    "skill = [x for _,x in sorted(zip(occurrence,skill),reverse=True)]\n",
    "occurrence = sorted(occurrence,reverse=True)\n",
    "\n",
    "soft_skill_job=skill\n",
    "soft_occurrence_job=occurrence\n",
    "\n",
    "top_sk = 40\n",
    "\n",
    "fig_dims = (15, 5)\n",
    "fig, ax = plt.subplots(figsize=fig_dims)\n",
    "plott=sns.barplot(x=skill[0:top_sk],y=occurrence[0:top_sk])\n",
    "plott.set(xlabel='Skill', ylabel='Occurrence',title='SimplyHired Data Science Jobs - Top Soft/Business Skills')\n",
    "plott.set_xticklabels(plott.get_xticklabels(), rotation=90)\n",
    "plt.show()"
   ]
  },
  {
   "cell_type": "markdown",
   "metadata": {},
   "source": [
    "The top skills are \"team\", communic(ation), collaborat(ion), report(ing), and present(ation). These important skills in academia and industry, and do not seem to be lacking in most courses. Marketing and finance however are not covered as frequently in engineering courses, so this is an important area to address in course design. "
   ]
  },
  {
   "cell_type": "code",
   "execution_count": 47,
   "metadata": {
    "colab": {},
    "colab_type": "code",
    "id": "fyVciWtSV6Bx"
   },
   "outputs": [],
   "source": [
    "job_data.to_csv(\"SimplyHired_Jobs_duplicates_removed.csv\", index=False)"
   ]
  },
  {
   "cell_type": "markdown",
   "metadata": {
    "colab_type": "text",
    "id": "JpqrnKchV6BO"
   },
   "source": [
    "Now we can look at what skills are being taught in online courses:"
   ]
  },
  {
   "cell_type": "markdown",
   "metadata": {
    "colab_type": "text",
    "id": "0QdBYL1YV6BP"
   },
   "source": [
    "### 2.2 Coursera cleaning and EDA"
   ]
  },
  {
   "cell_type": "markdown",
   "metadata": {
    "colab_type": "text",
    "id": "XPRIR3vgV6Bc"
   },
   "source": [
    "__2.1.1 Method 1: Skill Field - Number of Occurences__\n",
    "\n",
    "Refering back to our coursera dataframe, we can now plot the top 20 skills that are taught by those courses. Coursera presents a similar \"Skills\" field to SimplyHired, where a few top skills in the course are highlighted. So based on this \"skills\" field, here are the top skills taught in online courses:"
   ]
  },
  {
   "cell_type": "code",
   "execution_count": 48,
   "metadata": {
    "colab": {},
    "colab_type": "code",
    "id": "hpRHXVO2V6Bd",
    "outputId": "d8ea1fb8-c76d-4002-9840-77079117b840"
   },
   "outputs": [
    {
     "data": {
      "image/png": "[encoded data removed]",
      "text/plain": [
       "<Figure size 1008x360 with 1 Axes>"
      ]
     },
     "metadata": {
      "needs_background": "light"
     },
     "output_type": "display_data"
    }
   ],
   "source": [
    "top_skills = skills_sum_df.Skills.value_counts()\n",
    "top_skills[0:20].plot(kind='bar',figsize=(14,5))\n",
    "plt.show()"
   ]
  },
  {
   "cell_type": "markdown",
   "metadata": {
    "colab_type": "text",
    "id": "k8vpQywwV6B2"
   },
   "source": [
    "The top skills are Python programming, machine learning, data analysis, data visualization and data science. While the distribution is similar to the top required skills in the job postings from SimplyHired, we are missing out on additional skills taught that are mentioned in the \"Description\" field, so we will now perform a search through all the course descriptions using the same list as we used for the job descriptions."
   ]
  },
  {
   "cell_type": "markdown",
   "metadata": {
    "colab_type": "text",
    "id": "aYc_SehwV6B3"
   },
   "source": [
    "__2.1.2 Method 2: Search for skills in list in course description.__ \n",
    "\n",
    "Just as we did for job descriptions (2.1.2) we can clean the course descrption text and search for our hard and soft skills in the course descriptions:"
   ]
  },
  {
   "cell_type": "code",
   "execution_count": 49,
   "metadata": {
    "colab": {},
    "colab_type": "code",
    "id": "rIWdSFYSV6B4"
   },
   "outputs": [],
   "source": [
    "# Import the data from the csv file we created with our RSS feed processor\n",
    "tokenizer = RegexpTokenizer(r'\\w+')\n",
    "stop_words = set(stopwords.words('english'))\n",
    "clean_text = []\n",
    "tokenized_words = []\n",
    "mega_list = []\n",
    "tsk_count= np.zeros(len(tech_skills))\n",
    "ssk_count= np.zeros(len(soft_skills))\n",
    "\n",
    "# Processing each article in our file\n",
    "for row in coursera_df['Description']:\n",
    "\n",
    "    content_cleaned = ''\n",
    "\n",
    "    text=re.sub('<.*?>', '', str(row))\n",
    "    # Remove non-alphabetic values and set all letters to lowercase\n",
    "    #text = re.sub(\"[^A-Za-z']+\", ' ', text).lower()\n",
    "    text = Punctuation(text)\n",
    "    text = text.lower()\n",
    "\n",
    "    \n",
    "    \n",
    "    i=0\n",
    "    for skill in tech_skills:\n",
    "        if text.find(skill) >=0:\n",
    "            tsk_count[i] =tsk_count[i]+1\n",
    "        i=i+1\n",
    "        \n",
    "    i=0\n",
    "    for skill in soft_skills:\n",
    "        if text.find(skill) >=0:\n",
    "            ssk_count[i] =ssk_count[i]+1\n",
    "        i=i+1\n",
    "    \n",
    "    clean_text.append(text)\n",
    "\n",
    "    tokenized_words.append(content_cleaned.split())\n",
    "\n",
    "coursera_df['Description_LC'] = clean_text"
   ]
  },
  {
   "cell_type": "code",
   "execution_count": 50,
   "metadata": {
    "colab": {},
    "colab_type": "code",
    "id": "piyoKn4XV6B_",
    "outputId": "03472b5d-bbd0-49e7-e06f-321ae626d975"
   },
   "outputs": [
    {
     "data": {
      "image/png": "[encoded data removed]",
      "text/plain": [
       "<Figure size 1080x360 with 1 Axes>"
      ]
     },
     "metadata": {
      "needs_background": "light"
     },
     "output_type": "display_data"
    }
   ],
   "source": [
    "skill=list(tech_skills)\n",
    "occurrence=list(tsk_count)\n",
    "\n",
    "skill = [x for _,x in sorted(zip(occurrence,skill),reverse=True)]\n",
    "occurrence = sorted(occurrence,reverse=True)\n",
    "\n",
    "skill_course=skill\n",
    "occurrence_course=occurrence\n",
    "\n",
    "top_sk = 40\n",
    "\n",
    "fig_dims = (15, 5)\n",
    "fig, ax = plt.subplots(figsize=fig_dims)\n",
    "plott=sns.barplot(x=skill[0:top_sk],y=occurrence[0:top_sk])\n",
    "plott.set(xlabel='Skill', ylabel='Occurrence',title='Coursera - Top Technical Skills')\n",
    "plott.set_xticklabels(plott.get_xticklabels(), rotation=90)\n",
    "plt.show()"
   ]
  },
  {
   "cell_type": "markdown",
   "metadata": {},
   "source": [
    "The top skills are program(ming) (by far), visual(ization), machine learn(ing), python and googl(e). There is considerable overlap with the job data from SimplyHired, though the distribution is different."
   ]
  },
  {
   "cell_type": "code",
   "execution_count": 51,
   "metadata": {
    "colab": {},
    "colab_type": "code",
    "id": "7blr3s7rV6B-",
    "outputId": "1c9c67a2-6a23-40b1-f67f-3d6c8055c27c",
    "scrolled": true
   },
   "outputs": [
    {
     "data": {
      "image/png": "[encoded data removed]",
      "text/plain": [
       "<Figure size 1080x360 with 1 Axes>"
      ]
     },
     "metadata": {
      "needs_background": "light"
     },
     "output_type": "display_data"
    }
   ],
   "source": [
    "skill=list(soft_skills)\n",
    "occurrence=list(ssk_count)\n",
    "\n",
    "skill = [x for _,x in sorted(zip(occurrence,skill),reverse=True)]\n",
    "occurrence = sorted(occurrence,reverse=True)\n",
    "\n",
    "soft_skill_course=skill\n",
    "soft_occurrence_course=occurrence\n",
    "\n",
    "top_sk = 40\n",
    "\n",
    "fig_dims = (15, 5)\n",
    "fig, ax = plt.subplots(figsize=fig_dims)\n",
    "plott=sns.barplot(x=skill[0:top_sk],y=occurrence[0:top_sk])\n",
    "plott.set(xlabel='Skill', ylabel='Occurrence',title='Coursera Data Science Courses - Top Soft/Business Skills')\n",
    "plott.set_xticklabels(plott.get_xticklabels(), rotation=90)\n",
    "plt.show()"
   ]
  },
  {
   "cell_type": "markdown",
   "metadata": {},
   "source": [
    "The top skills are teach(ing), communic(ation), financ(e), present(ation) and market(ing). These courses seem to be targeted towards employable skills, as there is considerable overlap with the job data from SimplyHired."
   ]
  },
  {
   "cell_type": "markdown",
   "metadata": {
    "colab_type": "text",
    "id": "PdE4SIVFV6CB"
   },
   "source": [
    "### Combining the SimplyHired and Coursera datasets:\n",
    "\n",
    "Let's average these two datasets so that we can see which skills are more important overall. We will weight the Coursera and SimplyHired data equally, and normalize each dataset prior to averaging. We will normalize each dataset to the top skill, and assign the top skill a value of 0.5. "
   ]
  },
  {
   "cell_type": "code",
   "execution_count": 52,
   "metadata": {
    "colab": {},
    "colab_type": "code",
    "id": "r20MDKrSV6CB"
   },
   "outputs": [],
   "source": [
    "# n_jobs=len(job_data.index)\n",
    "# n_course=len((coursera_df.index))\n",
    "n_jobs=occurrence_job[0]\n",
    "n_course=occurrence_course[0]\n",
    "sn_jobs=soft_occurrence_job[0]\n",
    "sn_course=soft_occurrence_course[0]\n",
    "\n",
    "skill_norm=skill_job\n",
    "occurrence_norm=np.zeros(len(occurrence_job))\n",
    "soft_skill_norm=soft_skill_job\n",
    "soft_occurrence_norm=np.zeros(len(soft_occurrence_job))\n",
    "occ_both_skill=np.zeros((len(occurrence_job),2))\n",
    "occ_both_soft=np.zeros((len(soft_occurrence_job),2))\n",
    "\n",
    "# This block computes the normalized skill count\n",
    "i=0\n",
    "for skill in skill_job:\n",
    "    i_d=skill_course.index(skill)\n",
    "    # We will give each dataset an equal priority\n",
    "    occurrence_norm[i]=0.5*occurrence_job[i]/(n_jobs)+0.5*occurrence_course[i_d]/(n_course)\n",
    "    occ_both_skill[i,0]=0.5*occurrence_job[i]/(n_jobs)\n",
    "    occ_both_skill[i,1]=0.5*occurrence_course[i_d]/(n_course)\n",
    "    i+=1 \n",
    "         \n",
    "i=0\n",
    "for skill in soft_skill_job:\n",
    "    i_d=soft_skill_course.index(skill)\n",
    "    # We will give each dataset an equal priority\n",
    "    soft_occurrence_norm[i]=0.5*soft_occurrence_job[i]/(sn_jobs)+0.5*soft_occurrence_course[i_d]/(sn_course)\n",
    "    occ_both_soft[i,0]=0.5*soft_occurrence_job[i_d]/(sn_jobs)\n",
    "    occ_both_soft[i,1]=0.5*soft_occurrence_course[i_d]/(sn_course)\n",
    "\n",
    "    i+=1 "
   ]
  },
  {
   "cell_type": "code",
   "execution_count": 53,
   "metadata": {},
   "outputs": [
    {
     "data": {
      "image/png": "[encoded data removed]",
      "text/plain": [
       "<Figure size 1080x360 with 1 Axes>"
      ]
     },
     "metadata": {
      "needs_background": "light"
     },
     "output_type": "display_data"
    }
   ],
   "source": [
    "skill=skill_norm\n",
    "occurrence=occurrence_norm\n",
    "\n",
    "skill = [x for _,x in sorted(zip(occurrence,skill),reverse=True)]\n",
    "occurrence = sorted(occurrence,reverse=True)\n",
    "\n",
    "overall_skill=skill \n",
    "overall_occurrence=occurrence \n",
    "\n",
    "top_sk = 40\n",
    "\n",
    "fig_dims = (15, 5)\n",
    "fig, ax = plt.subplots(figsize=fig_dims)\n",
    "plott=sns.barplot(x=skill[0:top_sk],y=occurrence[0:top_sk])\n",
    "plott.set(xlabel='Skill', ylabel='Normalized Occurrence',title='Coursera + SimplyHired - Top Technical Skills')\n",
    "plott.set_xticklabels(plott.get_xticklabels(), rotation=90)\n",
    "plt.show()"
   ]
  },
  {
   "cell_type": "markdown",
   "metadata": {},
   "source": [
    "This aggregate skill distribution will inform our course and program design. We can also visualize the distribution of skills separately for the Course and Job data:"
   ]
  },
  {
   "cell_type": "code",
   "execution_count": 54,
   "metadata": {},
   "outputs": [
    {
     "data": {
      "image/png": "[encoded data removed]",
      "text/plain": [
       "<Figure size 1080x360 with 1 Axes>"
      ]
     },
     "metadata": {
      "needs_background": "light"
     },
     "output_type": "display_data"
    }
   ],
   "source": [
    "skill=skill_norm\n",
    "occurrence=occurrence_norm\n",
    "\n",
    "skill = [x for _,x in sorted(zip(occ_both_skill[:,0],skill),reverse=True)]\n",
    "occurrenceSH = sorted(occ_both_skill[:,0],reverse=True)\n",
    "occurrenceC = sorted(occ_both_skill[:,1],reverse=True)\n",
    "\n",
    "\n",
    "top_sk = 30\n",
    "\n",
    "# set width of bar\n",
    "barWidth = 0.4\n",
    " \n",
    "# set height of bar\n",
    "bars1 = occurrenceSH[0:top_sk]\n",
    "bars2 = occurrenceC[0:top_sk]\n",
    "\n",
    " \n",
    "# Set position of bar on X axis\n",
    "r1 = np.arange(len(bars1))\n",
    "r2 = [x + barWidth for x in r1]\n",
    "\n",
    "fig_dims = (15, 5)\n",
    "fig, ax = plt.subplots(figsize=fig_dims)\n",
    "  \n",
    "# Make the plot\n",
    "plt.bar(r1, bars1, color='b', width=barWidth, edgecolor='white', label='SimplyHired')\n",
    "plt.bar(r2, bars2, color='g', width=barWidth, edgecolor='white', label='Coursera')\n",
    " \n",
    "ax.set(xlabel='Skill', ylabel='Normalized Occurrence',title='Coursera + SimplyHired - Top Technical Skills')\n",
    "plt.xlabel('Skill', fontweight='bold')\n",
    "plt.xticks([r + barWidth for r in range(len(bars1))], skill[0:top_sk])\n",
    "\n",
    "ax.set_xticklabels(plott.get_xticklabels(), rotation=90)\n",
    "# Create legend & Show graphic\n",
    "plt.legend()\n",
    "plt.show()\n"
   ]
  },
  {
   "cell_type": "markdown",
   "metadata": {},
   "source": [
    "Now, we will plot the soft skills combining course and job descriptions. Again, we will use this to evaluate our course curriculum. "
   ]
  },
  {
   "cell_type": "code",
   "execution_count": 55,
   "metadata": {
    "colab": {},
    "colab_type": "code",
    "id": "-NkmGFb3V6CH",
    "outputId": "a33834f9-d444-4f22-f1d7-f147916e3009"
   },
   "outputs": [
    {
     "data": {
      "image/png": "[encoded data removed]",
      "text/plain": [
       "<Figure size 1080x360 with 1 Axes>"
      ]
     },
     "metadata": {
      "needs_background": "light"
     },
     "output_type": "display_data"
    }
   ],
   "source": [
    "skill=soft_skill_norm\n",
    "occurrence=soft_occurrence_norm\n",
    "\n",
    "skill = [x for _,x in sorted(zip(occurrence,skill),reverse=True)]\n",
    "occurrence = sorted(occurrence,reverse=True)\n",
    "\n",
    "overall_soft_skill=skill\n",
    "overall_soft_occurrence=occurrence\n",
    "\n",
    "top_sk = 60\n",
    "\n",
    "fig_dims = (15, 5)\n",
    "fig, ax = plt.subplots(figsize=fig_dims)\n",
    "plott=sns.barplot(x=skill[0:top_sk],y=occurrence[0:top_sk])\n",
    "plott.set(xlabel='Skill', ylabel='Normalized Occurrence',title='Coursera + SimplyHired - Top Soft/Business Skills')\n",
    "plott.set_xticklabels(plott.get_xticklabels(), rotation=90)\n",
    "plt.show()"
   ]
  },
  {
   "cell_type": "code",
   "execution_count": 56,
   "metadata": {},
   "outputs": [
    {
     "data": {
      "image/png": "[encoded data removed]",
      "text/plain": [
       "<Figure size 1080x360 with 1 Axes>"
      ]
     },
     "metadata": {
      "needs_background": "light"
     },
     "output_type": "display_data"
    }
   ],
   "source": [
    "skill=soft_skill_norm\n",
    "\n",
    "skill = [x for _,x in sorted(zip(occ_both_soft[:,0],skill),reverse=True)]\n",
    "occurrenceSH = sorted(occ_both_soft[:,0],reverse=True)\n",
    "occurrenceC = sorted(occ_both_soft[:,1],reverse=True)\n",
    "\n",
    "top_sk = 20\n",
    "\n",
    "# set width of bar\n",
    "barWidth = 0.4\n",
    " \n",
    "# set height of bar\n",
    "bars1 = occurrenceSH[0:top_sk]\n",
    "bars2 = occurrenceC[0:top_sk]\n",
    "\n",
    " \n",
    "# Set position of bar on X axis\n",
    "r1 = np.arange(len(bars1))\n",
    "r2 = [x + barWidth for x in r1]\n",
    "\n",
    "fig_dims = (15, 5)\n",
    "fig, ax = plt.subplots(figsize=fig_dims)\n",
    "  \n",
    "# Make the plot\n",
    "plt.bar(r1, bars1, color='b', width=barWidth, edgecolor='white', label='SimplyHired')\n",
    "plt.bar(r2, bars2, color='g', width=barWidth, edgecolor='white', label='Coursera')\n",
    " \n",
    "ax.set(xlabel='Skill', ylabel='Normalized Occurrence',title='Coursera + SimplyHired - Top Soft/Business Skills')\n",
    "plt.xlabel('Skill', fontweight='bold')\n",
    "plt.xticks([r + barWidth for r in range(len(bars1))], skill[0:top_sk])\n",
    "\n",
    "ax.set_xticklabels(plott.get_xticklabels(), rotation=90)\n",
    "# Create legend & Show graphic\n",
    "plt.legend()\n",
    "plt.show()"
   ]
  },
  {
   "cell_type": "markdown",
   "metadata": {
    "colab_type": "text",
    "id": "qQwlNKJdV6CI"
   },
   "source": [
    "### 2.3 Kaggle Datascience Surveys EDA"
   ]
  },
  {
   "cell_type": "markdown",
   "metadata": {
    "colab_type": "text",
    "id": "rtdX94YHV6CL"
   },
   "source": [
    "The 2019 and 2019 data were cleaned in a similar way as assignment 1."
   ]
  },
  {
   "cell_type": "markdown",
   "metadata": {
    "colab_type": "text",
    "id": "gOjtVyTyV6CM"
   },
   "source": [
    "__2.3.1 Summary of the Data Cleaning__\n",
    "\n",
    "the orginal data contains a lot of categorical data, that contains interval, texual data with a lot of nan values. The general strategy of handling the variable are: \n",
    "\n",
    "1.   checking the missing data and proportion of missing data, except for the columns with \"part\" (the options one)\n",
    "2.   for small proportion, dropping the data, for large percentage, fill in with unknow as another character or fill in with the most common value if that account for over 70 percent of the all answers.\n",
    "3.   for general catgorical textual data, us ethe dummy coding to make each value a binary variable\n",
    "4.   for special numerical data, use the numerical coding\n",
    "5.   for the columns with \"parts\", binarize the columns where replace all nah value as 0 and other text as 1."
   ]
  },
  {
   "cell_type": "markdown",
   "metadata": {
    "colab_type": "text",
    "id": "KRB-AaOZV6CN"
   },
   "source": [
    "We will import our cleaned data frames to show exploratory analysis :"
   ]
  },
  {
   "cell_type": "code",
   "execution_count": 57,
   "metadata": {
    "colab": {},
    "colab_type": "code",
    "id": "ZkFF2kq0V6CN",
    "outputId": "3a1a164d-3f1b-466d-c304-40153c5926ad"
   },
   "outputs": [
    {
     "data": {
      "text/html": [
       "<div>\n",
       "<style scoped>\n",
       "    .dataframe tbody tr th:only-of-type {\n",
       "        vertical-align: middle;\n",
       "    }\n",
       "\n",
       "    .dataframe tbody tr th {\n",
       "        vertical-align: top;\n",
       "    }\n",
       "\n",
       "    .dataframe thead th {\n",
       "        text-align: right;\n",
       "    }\n",
       "</style>\n",
       "<table border=\"1\" class=\"dataframe\">\n",
       "  <thead>\n",
       "    <tr style=\"text-align: right;\">\n",
       "      <th></th>\n",
       "      <th>Q1</th>\n",
       "      <th>('Q9_Part_1', 'Analyze and understand data to influence product or business decisions')</th>\n",
       "      <th>('Q9_Part_2', 'Build and/or run the data infrastructure that my business uses for storing, analyzing, and operationalizing data')</th>\n",
       "      <th>('Q9_Part_3', 'Build prototypes to explore applying machine learning to new areas')</th>\n",
       "      <th>('Q9_Part_4', 'Build and/or run a machine learning service that operationally improves my product or workflows')</th>\n",
       "      <th>('Q9_Part_5', 'Experimentation and iteration to improve existing ML models')</th>\n",
       "      <th>('Q9_Part_6', 'Do research that advances the state of the art of machine learning')</th>\n",
       "      <th>('Q9_Part_7', 'None of these activities are an important part of my role at work')</th>\n",
       "      <th>('Q9_Part_8', 'Other')</th>\n",
       "      <th>('Q12_Part_1', 'Twitter (data science influencers)')</th>\n",
       "      <th>...</th>\n",
       "      <th>Q23_4-5 years</th>\n",
       "      <th>Q23_5-10 years</th>\n",
       "      <th>Q23_&lt; 1 years</th>\n",
       "      <th>Q23_unknow</th>\n",
       "      <th>Q22_2-5 times</th>\n",
       "      <th>Q22_6-24 times</th>\n",
       "      <th>Q22_&gt; 25 times</th>\n",
       "      <th>Q22_Never</th>\n",
       "      <th>Q22_Once</th>\n",
       "      <th>Q22_unknow</th>\n",
       "    </tr>\n",
       "  </thead>\n",
       "  <tbody>\n",
       "    <tr>\n",
       "      <td>0</td>\n",
       "      <td>23.0</td>\n",
       "      <td>0</td>\n",
       "      <td>0</td>\n",
       "      <td>0</td>\n",
       "      <td>0</td>\n",
       "      <td>0</td>\n",
       "      <td>0</td>\n",
       "      <td>0</td>\n",
       "      <td>0</td>\n",
       "      <td>1</td>\n",
       "      <td>...</td>\n",
       "      <td>0</td>\n",
       "      <td>0</td>\n",
       "      <td>0</td>\n",
       "      <td>0</td>\n",
       "      <td>0</td>\n",
       "      <td>0</td>\n",
       "      <td>0</td>\n",
       "      <td>1</td>\n",
       "      <td>0</td>\n",
       "      <td>0</td>\n",
       "    </tr>\n",
       "    <tr>\n",
       "      <td>1</td>\n",
       "      <td>42.0</td>\n",
       "      <td>1</td>\n",
       "      <td>1</td>\n",
       "      <td>1</td>\n",
       "      <td>1</td>\n",
       "      <td>0</td>\n",
       "      <td>0</td>\n",
       "      <td>0</td>\n",
       "      <td>0</td>\n",
       "      <td>0</td>\n",
       "      <td>...</td>\n",
       "      <td>0</td>\n",
       "      <td>0</td>\n",
       "      <td>0</td>\n",
       "      <td>1</td>\n",
       "      <td>0</td>\n",
       "      <td>0</td>\n",
       "      <td>0</td>\n",
       "      <td>0</td>\n",
       "      <td>0</td>\n",
       "      <td>1</td>\n",
       "    </tr>\n",
       "    <tr>\n",
       "      <td>2</td>\n",
       "      <td>42.0</td>\n",
       "      <td>0</td>\n",
       "      <td>0</td>\n",
       "      <td>0</td>\n",
       "      <td>0</td>\n",
       "      <td>0</td>\n",
       "      <td>0</td>\n",
       "      <td>0</td>\n",
       "      <td>0</td>\n",
       "      <td>0</td>\n",
       "      <td>...</td>\n",
       "      <td>0</td>\n",
       "      <td>0</td>\n",
       "      <td>0</td>\n",
       "      <td>0</td>\n",
       "      <td>0</td>\n",
       "      <td>0</td>\n",
       "      <td>0</td>\n",
       "      <td>0</td>\n",
       "      <td>1</td>\n",
       "      <td>0</td>\n",
       "    </tr>\n",
       "    <tr>\n",
       "      <td>3</td>\n",
       "      <td>23.0</td>\n",
       "      <td>0</td>\n",
       "      <td>0</td>\n",
       "      <td>0</td>\n",
       "      <td>0</td>\n",
       "      <td>0</td>\n",
       "      <td>0</td>\n",
       "      <td>0</td>\n",
       "      <td>0</td>\n",
       "      <td>0</td>\n",
       "      <td>...</td>\n",
       "      <td>0</td>\n",
       "      <td>0</td>\n",
       "      <td>1</td>\n",
       "      <td>0</td>\n",
       "      <td>0</td>\n",
       "      <td>0</td>\n",
       "      <td>0</td>\n",
       "      <td>1</td>\n",
       "      <td>0</td>\n",
       "      <td>0</td>\n",
       "    </tr>\n",
       "    <tr>\n",
       "      <td>4</td>\n",
       "      <td>52.0</td>\n",
       "      <td>0</td>\n",
       "      <td>0</td>\n",
       "      <td>1</td>\n",
       "      <td>0</td>\n",
       "      <td>0</td>\n",
       "      <td>1</td>\n",
       "      <td>0</td>\n",
       "      <td>0</td>\n",
       "      <td>0</td>\n",
       "      <td>...</td>\n",
       "      <td>0</td>\n",
       "      <td>0</td>\n",
       "      <td>0</td>\n",
       "      <td>0</td>\n",
       "      <td>0</td>\n",
       "      <td>0</td>\n",
       "      <td>0</td>\n",
       "      <td>1</td>\n",
       "      <td>0</td>\n",
       "      <td>0</td>\n",
       "    </tr>\n",
       "  </tbody>\n",
       "</table>\n",
       "<p>5 rows × 331 columns</p>\n",
       "</div>"
      ],
      "text/plain": [
       "     Q1  \\\n",
       "0  23.0   \n",
       "1  42.0   \n",
       "2  42.0   \n",
       "3  23.0   \n",
       "4  52.0   \n",
       "\n",
       "   ('Q9_Part_1', 'Analyze and understand data to influence product or business decisions')  \\\n",
       "0                                                  0                                         \n",
       "1                                                  1                                         \n",
       "2                                                  0                                         \n",
       "3                                                  0                                         \n",
       "4                                                  0                                         \n",
       "\n",
       "   ('Q9_Part_2', 'Build and/or run the data infrastructure that my business uses for storing, analyzing, and operationalizing data')  \\\n",
       "0                                                  0                                                                                   \n",
       "1                                                  1                                                                                   \n",
       "2                                                  0                                                                                   \n",
       "3                                                  0                                                                                   \n",
       "4                                                  0                                                                                   \n",
       "\n",
       "   ('Q9_Part_3', 'Build prototypes to explore applying machine learning to new areas')  \\\n",
       "0                                                  0                                     \n",
       "1                                                  1                                     \n",
       "2                                                  0                                     \n",
       "3                                                  0                                     \n",
       "4                                                  1                                     \n",
       "\n",
       "   ('Q9_Part_4', 'Build and/or run a machine learning service that operationally improves my product or workflows')  \\\n",
       "0                                                  0                                                                  \n",
       "1                                                  1                                                                  \n",
       "2                                                  0                                                                  \n",
       "3                                                  0                                                                  \n",
       "4                                                  0                                                                  \n",
       "\n",
       "   ('Q9_Part_5', 'Experimentation and iteration to improve existing ML models')  \\\n",
       "0                                                  0                              \n",
       "1                                                  0                              \n",
       "2                                                  0                              \n",
       "3                                                  0                              \n",
       "4                                                  0                              \n",
       "\n",
       "   ('Q9_Part_6', 'Do research that advances the state of the art of machine learning')  \\\n",
       "0                                                  0                                     \n",
       "1                                                  0                                     \n",
       "2                                                  0                                     \n",
       "3                                                  0                                     \n",
       "4                                                  1                                     \n",
       "\n",
       "   ('Q9_Part_7', 'None of these activities are an important part of my role at work')  \\\n",
       "0                                                  0                                    \n",
       "1                                                  0                                    \n",
       "2                                                  0                                    \n",
       "3                                                  0                                    \n",
       "4                                                  0                                    \n",
       "\n",
       "   ('Q9_Part_8', 'Other')  \\\n",
       "0                       0   \n",
       "1                       0   \n",
       "2                       0   \n",
       "3                       0   \n",
       "4                       0   \n",
       "\n",
       "   ('Q12_Part_1', 'Twitter (data science influencers)')  ...  Q23_4-5 years  \\\n",
       "0                                                  1     ...              0   \n",
       "1                                                  0     ...              0   \n",
       "2                                                  0     ...              0   \n",
       "3                                                  0     ...              0   \n",
       "4                                                  0     ...              0   \n",
       "\n",
       "   Q23_5-10 years  Q23_< 1 years  Q23_unknow  Q22_2-5 times  Q22_6-24 times  \\\n",
       "0               0              0           0              0               0   \n",
       "1               0              0           1              0               0   \n",
       "2               0              0           0              0               0   \n",
       "3               0              1           0              0               0   \n",
       "4               0              0           0              0               0   \n",
       "\n",
       "   Q22_> 25 times  Q22_Never  Q22_Once  Q22_unknow  \n",
       "0               0          1         0           0  \n",
       "1               0          0         0           1  \n",
       "2               0          0         1           0  \n",
       "3               0          1         0           0  \n",
       "4               0          1         0           0  \n",
       "\n",
       "[5 rows x 331 columns]"
      ]
     },
     "execution_count": 57,
     "metadata": {},
     "output_type": "execute_result"
    }
   ],
   "source": [
    "SS = pd.read_csv('./salaryClean2018_final.csv')\n",
    "SS.head()"
   ]
  },
  {
   "cell_type": "markdown",
   "metadata": {
    "colab_type": "text",
    "id": "Me1XAQzKV6CP"
   },
   "source": [
    "__2.3.2. Correlation Analysis__\n",
    "\n",
    "We dercided to look at the correlation between skillsets and salaries. We believe this will give our program an advantage if we are able to teach students the skills that are in demand for high paying jobs."
   ]
  },
  {
   "cell_type": "code",
   "execution_count": 58,
   "metadata": {
    "colab": {},
    "colab_type": "code",
    "id": "sVkoF8JEV6CP"
   },
   "outputs": [],
   "source": [
    "#calculate correlation\n",
    "corr = SS.corr()\n",
    "\n",
    "# sorting the result and plot\n",
    "correlation = corr.Q10_Encoded.apply(lambda x: abs(x)).sort_values()"
   ]
  },
  {
   "cell_type": "code",
   "execution_count": 59,
   "metadata": {
    "colab": {},
    "colab_type": "code",
    "id": "98nMNay2V6CS",
    "outputId": "c10d5917-3c33-4037-dd83-ea9710e5ec19"
   },
   "outputs": [
    {
     "data": {
      "text/plain": [
       "Text(0.5, 1.0, 'TOP 50 most important features according to correlation with Salary')"
      ]
     },
     "execution_count": 59,
     "metadata": {},
     "output_type": "execute_result"
    },
    {
     "data": {
      "image/png": "[encoded data removed]",
      "text/plain": [
       "<Figure size 1080x360 with 1 Axes>"
      ]
     },
     "metadata": {
      "needs_background": "light"
     },
     "output_type": "display_data"
    }
   ],
   "source": [
    "#print(correlation.sort_values(ascending=False)[1:50],\"\\n\")\n",
    "n=50\n",
    "plt.figure(figsize=(15,5))\n",
    "p=sns.barplot(x=correlation.sort_values(ascending=False)[0:n+1].index,y=correlation.sort_values(ascending=False)[0:n+1])\n",
    "a = p.set_xticklabels(p.get_xticklabels(), rotation=90)\n",
    "plt.title(\"TOP 50 most important features according to correlation with Salary\")"
   ]
  },
  {
   "cell_type": "markdown",
   "metadata": {
    "colab_type": "text",
    "id": "3NY5cW9pV6CX"
   },
   "source": [
    "**Summary of Insights**:\n",
    "\n",
    "> In the ordered correlation list,  Whether know how to use **AWS** and AWS by-products is positively relavent to the salary, such as AWS Elastic computer cloud, AWS relational database, AWS redshift. An introduction toAWS and learning how to use AWS might be essential.\n",
    "\n",
    "> in the orderded correltion list, whether knowling **machine learning** algorithm and whether using the ML tools and experience in using ML is also highly relavent to the salary level. learning how to apply and build ML is critical in the program.\n",
    "\n",
    "> In the ordered list, the **basic statictical software**, such as excel,google sheets is also high relevent to the financial success, and a lot of language and algorithm appeared in the list also required a solid fundation on the **stats and linear algebra**.\n",
    "\n",
    "> in the ordered list, relational data base management tools such as **SQL**,AWS relational database, has appeared several times which might also be consider in putting the course design"
   ]
  },
  {
   "cell_type": "markdown",
   "metadata": {
    "colab_type": "text",
    "id": "nZTC__czV6CY"
   },
   "source": [
    "__2.3.3 Filtering and Ordering__\n",
    "\n",
    "This section aims to find out the most common skill set for people who are relatively new in the industry but have relatively high salary, this will be more relevant to people who are just starting preparing themselves for the market"
   ]
  },
  {
   "cell_type": "code",
   "execution_count": 60,
   "metadata": {
    "colab": {},
    "colab_type": "code",
    "id": "FiwXlpNWV6CZ",
    "outputId": "3c0434c3-4672-412a-d9e9-8f2c0d7c3f98"
   },
   "outputs": [
    {
     "name": "stderr",
     "output_type": "stream",
     "text": [
      "C:\\Users\\David\\Anaconda3\\lib\\site-packages\\IPython\\core\\interactiveshell.py:3058: DtypeWarning: Columns (73,77,114,146,153,171,175,212,224,228,231) have mixed types. Specify dtype option on import or set low_memory=False.\n",
      "  interactivity=interactivity, compiler=compiler, result=result)\n"
     ]
    }
   ],
   "source": [
    "Salary = pd.read_csv('Kaggle_Salary.csv',low_memory=True)"
   ]
  },
  {
   "cell_type": "code",
   "execution_count": 61,
   "metadata": {
    "colab": {},
    "colab_type": "code",
    "id": "6hi4ZjQUV6Cc",
    "outputId": "0e84833c-9c7f-48c5-e019-0b9658924b8e"
   },
   "outputs": [
    {
     "name": "stdout",
     "output_type": "stream",
     "text": [
      "(10126, 248)\n"
     ]
    },
    {
     "name": "stderr",
     "output_type": "stream",
     "text": [
      "C:\\Users\\David\\Anaconda3\\lib\\site-packages\\pandas\\core\\computation\\expressions.py:194: UserWarning: evaluating in Python space because the '+' operator is not supported by numexpr for the bool dtype, use '|' instead\n",
      "  op=op_str, alt_op=unsupported[op_str]\n"
     ]
    }
   ],
   "source": [
    "filter2 = Salary[\"Q15\"].isin(['1-2 years', '< 1 years','3-5 years'])\n",
    "filter3 = Salary[\"Q10_Encoded\"]>10\n",
    "filter1 =Salary[\"Q23\"].isin(['1-2 years', '2-3 years', '< 1 years', '3-4 years', '4-5 years'])\n",
    "\n",
    "Salary_t=Salary[filter1 + filter2 + filter3]\n",
    "print(Salary_t.shape)\n"
   ]
  },
  {
   "cell_type": "code",
   "execution_count": 62,
   "metadata": {
    "colab": {},
    "colab_type": "code",
    "id": "gS_-R_GPV6Ce",
    "outputId": "29f12e89-cdcc-4701-dc89-e7d5459a71af"
   },
   "outputs": [
    {
     "name": "stdout",
     "output_type": "stream",
     "text": [
      "top primary tools used\n"
     ]
    },
    {
     "data": {
      "text/plain": [
       "Local development environments (RStudio, JupyterLab, etc.)              5327\n",
       "Basic statistical software (Microsoft Excel, Google Sheets, etc.)       1765\n",
       "Cloud-based data software & APIs (AWS, GCP, Azure, etc.)                 923\n",
       "Other                                                                    719\n",
       "Business intelligence software (Salesforce, Tableau, Spotfire, etc.)     705\n",
       "Advanced statistical software (SPSS, SAS, etc.)                          597\n",
       "Name: Q14, dtype: int64"
      ]
     },
     "execution_count": 62,
     "metadata": {},
     "output_type": "execute_result"
    }
   ],
   "source": [
    "#value counts the tech skill columns\n",
    "print(\"top primary tools used\")\n",
    "Salary_t.Q14.value_counts()"
   ]
  },
  {
   "cell_type": "code",
   "execution_count": 63,
   "metadata": {
    "colab": {},
    "colab_type": "code",
    "id": "nmAzaDt1V6Cg",
    "outputId": "108bfeaf-2cbb-4302-dfd4-8ba9905fc37a"
   },
   "outputs": [
    {
     "name": "stdout",
     "output_type": "stream",
     "text": [
      "what are the language that data scientists recommend to start first:  Python\n"
     ]
    },
    {
     "data": {
      "text/plain": [
       "Python        7629\n",
       "R              938\n",
       "SQL            690\n",
       "C++            114\n",
       "MATLAB          96\n",
       "Other           89\n",
       "C               79\n",
       "Java            60\n",
       "None            53\n",
       "Javascript      37\n",
       "Bash            29\n",
       "TypeScript       5\n",
       "Name: Q19, dtype: int64"
      ]
     },
     "execution_count": 63,
     "metadata": {},
     "output_type": "execute_result"
    }
   ],
   "source": [
    "print(\"what are the language that data scientists recommend to start first:  Python\")\n",
    "Salary_t.Q19.value_counts()"
   ]
  },
  {
   "cell_type": "code",
   "execution_count": 64,
   "metadata": {
    "colab": {},
    "colab_type": "code",
    "id": "qAW-3KHeV6Ch",
    "outputId": "1f7da6db-6454-430a-fa65-6d50a50fddce"
   },
   "outputs": [
    {
     "name": "stdout",
     "output_type": "stream",
     "text": [
      "top Tools to analyze data used\n"
     ]
    },
    {
     "data": {
      "text/plain": [
       "Local development environments (RStudio, JupyterLab, etc.)              5327\n",
       "Basic statistical software (Microsoft Excel, Google Sheets, etc.)       1765\n",
       "Cloud-based data software & APIs (AWS, GCP, Azure, etc.)                 923\n",
       "Other                                                                    719\n",
       "Business intelligence software (Salesforce, Tableau, Spotfire, etc.)     705\n",
       "Advanced statistical software (SPSS, SAS, etc.)                          597\n",
       "Name: Q14, dtype: int64"
      ]
     },
     "execution_count": 64,
     "metadata": {},
     "output_type": "execute_result"
    }
   ],
   "source": [
    "print(\"top Tools to analyze data used\")\n",
    "Salary_t.Q14.value_counts()"
   ]
  },
  {
   "cell_type": "code",
   "execution_count": 65,
   "metadata": {
    "colab": {},
    "colab_type": "code",
    "id": "TdDF28gUV6Cj",
    "outputId": "ed4ccf3b-c846-434c-a393-387c713f3b30"
   },
   "outputs": [
    {
     "name": "stdout",
     "output_type": "stream",
     "text": [
      "top language used\n",
      "Python    8666\n",
      "Name: Q18_Part_1, dtype: int64\n",
      "R    3253\n",
      "Name: Q18_Part_2, dtype: int64\n",
      "SQL    5020\n",
      "Name: Q18_Part_3, dtype: int64\n",
      "C    826\n",
      "Name: Q18_Part_4, dtype: int64\n",
      "Java    1469\n",
      "Name: Q18_Part_6, dtype: int64\n",
      "Javascript    1615\n",
      "Name: Q18_Part_7, dtype: int64\n",
      "TypeScript    331\n",
      "Name: Q18_Part_8, dtype: int64\n",
      "Bash    1563\n",
      "Name: Q18_Part_9, dtype: int64\n"
     ]
    }
   ],
   "source": [
    "print(\"top language used\")\n",
    "print(Salary_t.Q18_Part_1.value_counts())\n",
    "print(Salary_t.Q18_Part_2.value_counts())\n",
    "print(Salary_t.Q18_Part_3.value_counts())\n",
    "print(Salary_t.Q18_Part_4.value_counts())\n",
    "print(Salary_t.Q18_Part_6.value_counts())\n",
    "print(Salary_t.Q18_Part_7.value_counts())\n",
    "print(Salary_t.Q18_Part_8.value_counts())\n",
    "print(Salary_t.Q18_Part_9.value_counts())"
   ]
  },
  {
   "cell_type": "code",
   "execution_count": 66,
   "metadata": {
    "colab": {},
    "colab_type": "code",
    "id": "W2WwdQADV6Ck",
    "outputId": "98942b32-926e-4cf1-9f98-4fa064e475b5"
   },
   "outputs": [
    {
     "name": "stdout",
     "output_type": "stream",
     "text": [
      "top data visualization libaries used is Matplotlib and Gg plot \n",
      " Ggplot / ggplot2     2945\n",
      "Name: Q20_Part_1, dtype: int64\n",
      " Matplotlib     6974\n",
      "Name: Q20_Part_2, dtype: int64\n",
      " Altair     122\n",
      "Name: Q20_Part_3, dtype: int64\n",
      " Shiny     951\n",
      "Name: Q20_Part_4, dtype: int64\n",
      " Plotly / Plotly Express     2366\n",
      "Name: Q20_Part_6, dtype: int64\n",
      " Bokeh     780\n",
      "Name: Q20_Part_7, dtype: int64\n",
      " Seaborn     4661\n",
      "Name: Q20_Part_8, dtype: int64\n",
      " Geoplotlib     455\n",
      "Name: Q20_Part_9, dtype: int64\n"
     ]
    }
   ],
   "source": [
    "print(\"top data visualization libaries used is Matplotlib and Gg plot \")\n",
    "print(Salary_t.Q20_Part_1.value_counts())\n",
    "print(Salary_t.Q20_Part_2.value_counts())\n",
    "print(Salary_t.Q20_Part_3.value_counts())\n",
    "print(Salary_t.Q20_Part_4.value_counts())\n",
    "print(Salary_t.Q20_Part_6.value_counts())\n",
    "print(Salary_t.Q20_Part_7.value_counts())\n",
    "print(Salary_t.Q20_Part_8.value_counts())\n",
    "print(Salary_t.Q20_Part_9.value_counts())"
   ]
  },
  {
   "cell_type": "code",
   "execution_count": 67,
   "metadata": {
    "colab": {},
    "colab_type": "code",
    "id": "mferMpqsV6Cm",
    "outputId": "e7390839-1ced-45e4-ec88-ceb5fdf2f3c9"
   },
   "outputs": [
    {
     "name": "stdout",
     "output_type": "stream",
     "text": [
      "top ML algorithm used is linear and logistic regression and decision trees and gradient boosting machines, connvolutional neural networks \n",
      "Linear or Logistic Regression    6971\n",
      "Name: Q24_Part_1, dtype: int64\n",
      "Decision Trees or Random Forests    5921\n",
      "Name: Q24_Part_2, dtype: int64\n",
      "Gradient Boosting Machines (xgboost, lightgbm, etc)    3981\n",
      "Name: Q24_Part_3, dtype: int64\n",
      "Bayesian Approaches    2519\n",
      "Name: Q24_Part_4, dtype: int64\n",
      "Dense Neural Networks (MLPs, etc)    2160\n",
      "Name: Q24_Part_6, dtype: int64\n",
      "Convolutional Neural Networks    3560\n",
      "Name: Q24_Part_7, dtype: int64\n",
      "Generative Adversarial Networks    637\n",
      "Name: Q24_Part_8, dtype: int64\n",
      "Recurrent Neural Networks    2333\n",
      "Name: Q24_Part_9, dtype: int64\n"
     ]
    }
   ],
   "source": [
    "print(\"top ML algorithm used is linear and logistic regression and decision trees and gradient boosting machines, connvolutional neural networks \")\n",
    "print(Salary_t.Q24_Part_1.value_counts())\n",
    "print(Salary_t.Q24_Part_2.value_counts())\n",
    "print(Salary_t.Q24_Part_3.value_counts())\n",
    "print(Salary_t.Q24_Part_4.value_counts())\n",
    "print(Salary_t.Q24_Part_6.value_counts())\n",
    "print(Salary_t.Q24_Part_7.value_counts())\n",
    "print(Salary_t.Q24_Part_8.value_counts())\n",
    "print(Salary_t.Q24_Part_9.value_counts())"
   ]
  },
  {
   "cell_type": "code",
   "execution_count": 68,
   "metadata": {
    "colab": {},
    "colab_type": "code",
    "id": "fUoeB2dMV6Co",
    "outputId": "18016d1e-c6af-40c5-9730-b949c9675a4e"
   },
   "outputs": [
    {
     "name": "stdout",
     "output_type": "stream",
     "text": [
      "top NLP Method used is word embedding\n",
      "Word embeddings/vectors (GLoVe, fastText, word2vec)    1503\n",
      "Name: Q27_Part_1, dtype: int64\n",
      "Encoder-decorder models (seq2seq, vanilla transformers)    948\n",
      "Name: Q27_Part_2, dtype: int64\n",
      "Contextualized embeddings (ELMo, CoVe)    415\n",
      "Name: Q27_Part_3, dtype: int64\n",
      "Transformer language models (GPT-2, BERT, XLnet, etc)    756\n",
      "Name: Q27_Part_4, dtype: int64\n"
     ]
    }
   ],
   "source": [
    "print(\"top NLP Method used is word embedding\")\n",
    "print(Salary_t.Q27_Part_1.value_counts())\n",
    "print(Salary_t.Q27_Part_2.value_counts())\n",
    "print(Salary_t.Q27_Part_3.value_counts())\n",
    "print(Salary_t.Q27_Part_4.value_counts())"
   ]
  },
  {
   "cell_type": "code",
   "execution_count": 69,
   "metadata": {
    "colab": {},
    "colab_type": "code",
    "id": "Ugu1f6uvV6Cq",
    "outputId": "84cf5095-3784-48b3-993f-56a810715808"
   },
   "outputs": [
    {
     "name": "stdout",
     "output_type": "stream",
     "text": [
      "top ML framework used is Scikit-learn,  TensorFlow,  Keras\n",
      "  Scikit-learn     6423\n",
      "Name: Q28_Part_1, dtype: int64\n",
      "  TensorFlow     3905\n",
      "Name: Q28_Part_2, dtype: int64\n",
      " Keras     3923\n",
      "Name: Q28_Part_3, dtype: int64\n",
      " RandomForest    3191\n",
      "Name: Q28_Part_4, dtype: int64\n",
      " PyTorch     2331\n",
      "Name: Q28_Part_6, dtype: int64\n",
      " Caret     861\n",
      "Name: Q28_Part_7, dtype: int64\n",
      " LightGBM     1587\n",
      "Name: Q28_Part_8, dtype: int64\n",
      " Spark MLib     734\n",
      "Name: Q28_Part_9, dtype: int64\n"
     ]
    }
   ],
   "source": [
    "print(\"top ML framework used is Scikit-learn,  TensorFlow,  Keras\")\n",
    "print(Salary_t.Q28_Part_1.value_counts())\n",
    "print(Salary_t.Q28_Part_2.value_counts())\n",
    "print(Salary_t.Q28_Part_3.value_counts())\n",
    "print(Salary_t.Q28_Part_4.value_counts())\n",
    "print(Salary_t.Q28_Part_6.value_counts())\n",
    "print(Salary_t.Q28_Part_7.value_counts())\n",
    "print(Salary_t.Q28_Part_8.value_counts())\n",
    "print(Salary_t.Q28_Part_9.value_counts())"
   ]
  },
  {
   "cell_type": "code",
   "execution_count": 70,
   "metadata": {
    "colab": {},
    "colab_type": "code",
    "id": "xeMbuNkaV6Ct",
    "outputId": "0a183922-ced1-4f60-a5b1-70a8641850b7"
   },
   "outputs": [
    {
     "name": "stdout",
     "output_type": "stream",
     "text": [
      "top CLOUD computing platform  used is AWS Amazon Web Services and GCP GoogleCould PLatform\n",
      " Google Cloud Platform (GCP)     1959\n",
      "Name: Q29_Part_1, dtype: int64\n",
      " Amazon Web Services (AWS)     2506\n",
      "Name: Q29_Part_2, dtype: int64\n",
      " Microsoft Azure     1217\n",
      "Name: Q29_Part_3, dtype: int64\n",
      " IBM Cloud     353\n",
      "Name: Q29_Part_4, dtype: int64\n",
      " Salesforce Cloud     109\n",
      "Name: Q29_Part_6, dtype: int64\n",
      " Oracle Cloud     152\n",
      "Name: Q29_Part_7, dtype: int64\n",
      " SAP Cloud     79\n",
      "Name: Q29_Part_8, dtype: int64\n",
      " VMware Cloud     162\n",
      "Name: Q29_Part_9, dtype: int64\n"
     ]
    }
   ],
   "source": [
    "print(\"top CLOUD computing platform  used is AWS Amazon Web Services and GCP GoogleCould PLatform\")\n",
    "print(Salary_t.Q29_Part_1.value_counts())\n",
    "print(Salary_t.Q29_Part_2.value_counts())\n",
    "print(Salary_t.Q29_Part_3.value_counts())\n",
    "print(Salary_t.Q29_Part_4.value_counts())\n",
    "print(Salary_t.Q29_Part_6.value_counts())\n",
    "print(Salary_t.Q29_Part_7.value_counts())\n",
    "print(Salary_t.Q29_Part_8.value_counts())\n",
    "print(Salary_t.Q29_Part_9.value_counts())"
   ]
  },
  {
   "cell_type": "code",
   "execution_count": 71,
   "metadata": {
    "colab": {},
    "colab_type": "code",
    "id": "FBsBM0jGV6Cu",
    "outputId": "9fb5c709-ae42-4e6f-f6b3-57d17edf712f"
   },
   "outputs": [
    {
     "name": "stdout",
     "output_type": "stream",
     "text": [
      "top big data tools used is MYSQL, Microsoft SQL Server  \n",
      "MySQL    2866\n",
      "Name: Q34_Part_1, dtype: int64\n",
      "PostgresSQL    1950\n",
      "Name: Q34_Part_2, dtype: int64\n",
      "SQLite    1368\n",
      "Name: Q34_Part_3, dtype: int64\n",
      "Microsoft SQL Server    1688\n",
      "Name: Q34_Part_4, dtype: int64\n",
      "Microsoft Access    506\n",
      "Name: Q34_Part_6, dtype: int64\n",
      "AWS Relational Database Service    537\n",
      "Name: Q34_Part_7, dtype: int64\n",
      "AWS DynamoDB    379\n",
      "Name: Q34_Part_8, dtype: int64\n",
      "Azure SQL Database    422\n",
      "Name: Q34_Part_9, dtype: int64\n"
     ]
    }
   ],
   "source": [
    "print(\"top big data tools used is MYSQL, Microsoft SQL Server  \")\n",
    "print(Salary_t.Q34_Part_1.value_counts())\n",
    "print(Salary_t.Q34_Part_2.value_counts())\n",
    "print(Salary_t.Q34_Part_3.value_counts())\n",
    "print(Salary_t.Q34_Part_4.value_counts())\n",
    "print(Salary_t.Q34_Part_6.value_counts())\n",
    "print(Salary_t.Q34_Part_7.value_counts())\n",
    "print(Salary_t.Q34_Part_8.value_counts())\n",
    "print(Salary_t.Q34_Part_9.value_counts())"
   ]
  },
  {
   "cell_type": "code",
   "execution_count": 72,
   "metadata": {
    "colab": {},
    "colab_type": "code",
    "id": "I8z4hWu_V6Cy",
    "outputId": "d4936e54-b5c0-4407-c3c3-ff6d06f6b079"
   },
   "outputs": [
    {
     "name": "stdout",
     "output_type": "stream",
     "text": [
      "top notebook used is Kaggle Notebooks and Google Colab\n",
      " Kaggle Notebooks (Kernels)     3164\n",
      "Name: Q17_Part_1, dtype: int64\n",
      " Google Colab     2887\n",
      "Name: Q17_Part_2, dtype: int64\n",
      " Microsoft Azure Notebooks     627\n",
      "Name: Q17_Part_3, dtype: int64\n",
      " Google Cloud Notebook Products (AI Platform, Datalab, etc)     772\n",
      "Name: Q17_Part_4, dtype: int64\n",
      " FloydHub     70\n",
      "Name: Q17_Part_6, dtype: int64\n",
      " Binder / JupyterHub     1106\n",
      "Name: Q17_Part_7, dtype: int64\n",
      " IBM Watson Studio     463\n",
      "Name: Q17_Part_8, dtype: int64\n",
      "Code Ocean     53\n",
      "Name: Q17_Part_9, dtype: int64\n"
     ]
    }
   ],
   "source": [
    "print(\"top notebook used is Kaggle Notebooks and Google Colab\")\n",
    "print(Salary_t.Q17_Part_1.value_counts())\n",
    "print(Salary_t.Q17_Part_2.value_counts())\n",
    "print(Salary_t.Q17_Part_3.value_counts())\n",
    "print(Salary_t.Q17_Part_4.value_counts())\n",
    "print(Salary_t.Q17_Part_6.value_counts())\n",
    "print(Salary_t.Q17_Part_7.value_counts())\n",
    "print(Salary_t.Q17_Part_8.value_counts())\n",
    "print(Salary_t.Q17_Part_9.value_counts())"
   ]
  },
  {
   "cell_type": "code",
   "execution_count": 73,
   "metadata": {
    "colab": {},
    "colab_type": "code",
    "id": "75H5oNrwV6C1",
    "outputId": "64f3b8ca-157d-4407-db72-5aaeeddb7042"
   },
   "outputs": [
    {
     "name": "stdout",
     "output_type": "stream",
     "text": [
      "Jupyter (JupyterLab, Jupyter Notebooks, etc)     7232\n",
      "Name: Q16_Part_1, dtype: int64\n",
      " RStudio     3126\n",
      "Name: Q16_Part_2, dtype: int64\n",
      " PyCharm     2901\n",
      "Name: Q16_Part_3, dtype: int64\n",
      " Atom     982\n",
      "Name: Q16_Part_4, dtype: int64\n",
      " Visual Studio / Visual Studio Code     3153\n",
      "Name: Q16_Part_6, dtype: int64\n",
      "  Spyder      1985\n",
      "Name: Q16_Part_7, dtype: int64\n",
      "  Vim / Emacs      1273\n",
      "Name: Q16_Part_8, dtype: int64\n",
      "top 5 IDE are: Jupyter 7232,  Matlab : 3153, RStudio 3126, Pycharm:2901, Spyder 1925\n"
     ]
    }
   ],
   "source": [
    "print(Salary_t.Q16_Part_1.value_counts())\n",
    "print(Salary_t.Q16_Part_2.value_counts())\n",
    "print(Salary_t.Q16_Part_3.value_counts())\n",
    "print(Salary_t.Q16_Part_4.value_counts())\n",
    "print(Salary_t.Q16_Part_6.value_counts())\n",
    "print(Salary_t.Q16_Part_7.value_counts())\n",
    "print(Salary_t.Q16_Part_8.value_counts())\n",
    "print(\"top 5 IDE are: Jupyter 7232,  Matlab : 3153, RStudio 3126, Pycharm:2901, Spyder 1925\" )"
   ]
  },
  {
   "cell_type": "markdown",
   "metadata": {
    "colab_type": "text",
    "id": "bSh4NNGoV6C4"
   },
   "source": [
    "**Summary of the results**:\n",
    "\n",
    "> **top primary tools used in data analysis**: Local development environments (RStudio, JupyterLab, etc.)\n",
    "\n",
    "> **top primary language used in DA**: Python, SQL, R\n",
    "\n",
    "> **Top primary language that DAs recommend to start with:** Python\n",
    "\n",
    "> **top cloud computing platform used in DA:** (AWS) Amazon Web Services and (GCP) GoogleCould PLatform\n",
    "\n",
    "> **Top IDE used in DA**:Jupyter,  Matlab, RStudio, Pycharm\n",
    "\n",
    "> **top big data management tools used**: MYSQL, Microsoft SQL Server\n",
    "\n",
    "> **top notebooks used in regular basis**: Kaggle Notebooks, Google Colab\n",
    "\n",
    "> **top ML algorithm used in DA**: linear and logistic regression, decision tree, gradient boosting machines, connvolutional neural networks\n",
    "\n",
    "> **top ML framework used in DA**: Scikit-learn,  TensorFlow,  Keras\n",
    "\n",
    "> **top NLP Method used in DA:** Word embedding\n",
    "\n",
    "> **Top data visualization libaries used**:Matplotlib and Ggplot"
   ]
  },
  {
   "cell_type": "markdown",
   "metadata": {
    "colab_type": "text",
    "id": "QlHHaFKdV6C4"
   },
   "source": [
    "## 3 - Course Curriculum Redesign\n",
    "\n",
    "To first understand what is taught in MIE 1624, the current course curriculum for MIE 1624 is below:\n",
    "\n",
    "## 3.1 Current Course Curriculum\n",
    "\n",
    "MIE1624HS – Introduction to Data Science and Analytics (MIE1624HS)\n",
    "Course description: The objective of the course is to learn analytical models and overview quantitative algorithms for solving engineering and business problems. Data science or analytics is the process of deriving insights from data in order to make optimal decisions. It allows hundreds of companies and governments to save lives, increase profits and minimize resource usage. Considerable attention in the course is devoted to applications of computational and modeling algorithms to finance, risk management, marketing, health care, smart city projects, crime prevention, predictive maintenance, web and social media analytics, personal analytics, etc. We will show how various data science and analytics techniques such as basic statistics, regressions, uncertainty modeling, simulation and optimization modeling, data mining and machine learning, text analytics, artificial intelligence and visualizations can be implemented and applied using Python. Python and IBM Watson Analytics are modeling and visualization software used in this course. Practical aspects of computational models and case studies in Interactive Python are emphasized.\n",
    "\n",
    "Course Outline Introduction to data science and analytics\n",
    "\n",
    "#### Data science concepts\n",
    "- Application areas of quantitative modeling \n",
    "\n",
    "#### Python programming, data science software\n",
    "- Introduction to Python\n",
    "- Comparison of Python, R and Matlab usage in data science \n",
    "\n",
    "#### Basic statistics\n",
    "- Random variables, sampling\n",
    "- Distributions and statistical measures\n",
    "- Hypothesis testing\n",
    "- Statistics case studies in IPython \n",
    "\n",
    "#### Overview of linear algebra\n",
    "- Linear algebra and matrix computations\n",
    "- Functions, derivatives, convexity\n",
    "\n",
    "#### Optimization\n",
    "- Unconstrained non-linear optimization algorithms\n",
    "- Overview of constrained optimization algorithms\n",
    "- Optimization case studies in IPython \n",
    "\n",
    "#### Modeling techniques, regression\n",
    "- Mathematical modeling process\n",
    "- Linear regression\n",
    "- Logistic regression\n",
    "- Regression case studies in IPython \n",
    "\n",
    "#### Data visualization and visual analytics\n",
    "- Visual analytics\n",
    "- Visualizations in Python and visual analytics in IBM Watson Analytics \n",
    "\n",
    "#### Advanced machine learning\n",
    "- Classification (decision trees)\n",
    "- Advanced supervised machine learning algorithms (Naive Bayes, k-NN, SVM)\n",
    "- Intro to ensemble learning algorithms (Random Forest, Gradient Boosting)\n",
    "- Intro to neural networks and deep learning\n",
    "- Text analytics and natural language processing\n",
    "- Clustering (K-means, Fuzzy C-means, Hierarchical Clustering, DBSCAN)\n",
    "- Dimensionality reduction\n",
    "- Association rules\n",
    "- Overview of reinforcement learning\n",
    "- Machine learning case studies in IPython \n",
    "\n",
    "#### Simulation modeling\n",
    "- Random number generation\n",
    "- Monte Carlo simulations\n",
    "- Simulation case studies in IPython \n",
    "\n",
    "#### Storytelling based on analytics, analytical decision making\n",
    "- Validating analytics\n",
    "- Storytelling based on analytics\n",
    "- Decision-making based on analytics\n",
    "\n",
    "\n",
    "Assignments, Exams and Grading\n",
    "Assignment #1 (15%), Assignment #2 (15%)\n",
    "Course Project (30%)\n",
    "In-Class Group Presentation (15%)\n",
    "Final Exam (25%)"
   ]
  },
  {
   "cell_type": "markdown",
   "metadata": {
    "colab_type": "text",
    "id": "ekbe7C3VV6C5"
   },
   "source": [
    "In string format (we have added a few skills as strings to the end of the description, which are included in the course):"
   ]
  },
  {
   "cell_type": "code",
   "execution_count": 74,
   "metadata": {
    "colab": {},
    "colab_type": "code",
    "id": "NllKFHNTV6C5"
   },
   "outputs": [],
   "source": [
    "desc_str=['Course description: The objective of the course is to learn analytical models and overview quantitative algorithms for solving engineering and business problems. Data science or analytics is the process of deriving insights from data in order to make optimal decisions. It allows hundreds of companies and governments to save lives, increase profits and minimize resource usage. Considerable attention in the course is devoted to applications of computational and modeling algorithms to finance, risk management, marketing, health care, smart city projects, crime prevention, predictive maintenance, web and social media analytics, personal analytics, etc. We will show how various data science and analytics techniques such as basic statistics, regressions, uncertainty modeling, simulation and optimization modeling, data mining and machine learning, text analytics, artificial intelligence (ai) and visualizations can be implemented and applied using Python. Python and IBM Watson Analytics are modeling and visualization software used in this course. Practical aspects of computational models and case studies in Interactive Python are emphasized.',\n",
    "'Course Outline Introduction to data science and analytics',\n",
    "'Data science concepts',\n",
    "'Application areas of quantitative modeling Python programming, data science software',\n",
    "'Introduction to Python',\n",
    "'Comparison of Python, R and Matlab usage in data science Basic statistics',\n",
    "'Random variables, sampling',\n",
    "'Distributions and statistical measures',\n",
    "'Hypothesis testing',\n",
    "'Statistics case studies in IPython Overview of linear algebra',\n",
    "'Linear algebra and matrix computations',\n",
    "'Functions, derivatives, convexity Optimization',\n",
    "'Unconstrained non-linear optimization algorithms',\n",
    "'Overview of constrained optimization algorithms',\n",
    "'Optimization case studies in IPython Modeling techniques, regression',\n",
    "'Mathematical modeling process',\n",
    "'Linear regression',\n",
    "'Logistic regression',\n",
    "'Regression case studies in IPython Data visualization and visual analytics',\n",
    "'Visual analytics',\n",
    "'Visualizations in Python and visual analytics in IBM Watson Analytics Advanced machine learning',\n",
    "'Classification (decision trees)',\n",
    "'Advanced supervised machine learning algorithms (Naive Bayes, k-NN, SVM)',\n",
    "'Intro to ensemble learning algorithms (Random Forest, Gradient Boosting)',\n",
    "'Intro to neural networks and deep learning',\n",
    "'Text analytics and natural language processing',\n",
    "'Clustering (K-means, Fuzzy C-means, Hierarchical Clustering, DBSCAN)',\n",
    "'Dimensionality reduction',\n",
    "'Association rules',\n",
    "'Overview of reinforcement learning',\n",
    "'Machine learning case studies in IPython Simulation modeling',\n",
    "'Random number generation',\n",
    "'Monte Carlo simulations',\n",
    "'Simulation case studies in IPython Storytelling based on analytics, analytical decision making',\n",
    "'Validating analytics',\n",
    "'Storytelling based on analytics',\n",
    "'Decision making based on analytics',\n",
    "'computer science','html','data cleaning', 'Process Improvement']"
   ]
  },
  {
   "cell_type": "markdown",
   "metadata": {
    "colab_type": "text",
    "id": "RH0nK-8oV6C_"
   },
   "source": [
    "Now we will search the description to see if the course contains the top technical skills from the coursera courses and the SimplyHired jobs:"
   ]
  },
  {
   "cell_type": "code",
   "execution_count": 75,
   "metadata": {
    "colab": {},
    "colab_type": "code",
    "id": "XDEn3jKfV6DA"
   },
   "outputs": [],
   "source": [
    "# Import the data from the csv file we created with our RSS feed processor\n",
    "tokenizer = RegexpTokenizer(r'\\w+')\n",
    "stop_words = set(stopwords.words('english'))\n",
    "\n",
    "course_skill_count= np.zeros(len(overall_skill))\n",
    "skill_in_course=[]\n",
    "\n",
    "course_desc=str(desc_str)\n",
    "\n",
    "\n",
    "course_desc=re.sub('<.*?>', '', str(course_desc))\n",
    "# Remove non-alphabetic values and set all letters to lowercase\n",
    "#text = re.sub(\"[^A-Za-z']+\", ' ', text).lower()\n",
    "course_desc = Punctuation(course_desc)\n",
    "course_desc = course_desc.lower()\n",
    "\n",
    "i=0\n",
    "for skill in overall_skill:\n",
    "    if course_desc.find(skill) >=0:\n",
    "        course_skill_count[i] = course_skill_count[i]+1\n",
    "        skill_in_course.append('Skill Taught in MIE1614')\n",
    "    else:\n",
    "        skill_in_course.append('Skill Not Taught in MIE1614')\n",
    "\n",
    "    i=i+1\n"
   ]
  },
  {
   "cell_type": "markdown",
   "metadata": {},
   "source": [
    "Now we will color our aggregated coursera + SimplyHired skills lists based on which skills are contained in MIE 1624:"
   ]
  },
  {
   "cell_type": "code",
   "execution_count": 76,
   "metadata": {
    "colab": {},
    "colab_type": "code",
    "id": "6TWQ3aaMV6DB",
    "outputId": "46bc4210-5215-4c7e-8940-25c1114b2883"
   },
   "outputs": [
    {
     "data": {
      "image/png": "[encoded data removed]",
      "text/plain": [
       "<Figure size 1080x360 with 1 Axes>"
      ]
     },
     "metadata": {
      "needs_background": "light"
     },
     "output_type": "display_data"
    }
   ],
   "source": [
    "import matplotlib.patches as mpatches\n",
    "skill=skill_norm\n",
    "occurrence=occurrence_norm\n",
    "\n",
    "skill = [x for _,x in sorted(zip(occurrence,skill),reverse=True)]\n",
    "occurrence = sorted(occurrence,reverse=True)\n",
    "\n",
    "overall_skill=skill\n",
    "overall_occurrence=occurrence\n",
    "\n",
    "top_sk = 50\n",
    "\n",
    "fig_dims = (15, 5)\n",
    "fig, ax = plt.subplots(figsize=fig_dims)\n",
    "clrs = ['green' if (x == 'Skill Taught in MIE1614') else 'red' for x in skill_in_course ]\n",
    "plott=sns.barplot(x=skill[0:top_sk],y=occurrence[0:top_sk],palette=clrs)\n",
    "plott.set(xlabel='Skill', ylabel='Normalized Occurrence',title='Coursera + SimplyHired - Top Technical Skills')\n",
    "plott.set_xticklabels(plott.get_xticklabels(), rotation=90)\n",
    "\n",
    "red_patch = mpatches.Patch(color='red', label='Skill Not Taught in MIE1614')\n",
    "green_patch = mpatches.Patch(color='green', label='Skill Taught in MIE1614')\n",
    "plt.legend(handles=[green_patch, red_patch])\n",
    "\n",
    "plt.show()"
   ]
  },
  {
   "cell_type": "markdown",
   "metadata": {
    "colab_type": "text",
    "id": "yJG6ErwQV6DC"
   },
   "source": [
    "We can see that that the course description contains some, but not all of the top skills from Coursera and SimplyHired. In addition, some of the skills that are taught are covered in not as much detail as others (for example, priogramming in R). The list does however contain some insights:\n",
    "\n",
    "Skills not in MIE 1624 include:\n",
    "- **Big Data (also: SQL, Spark, Hadoop, NoSQL, Data Warehouse)**\n",
    "- Data Architecture (also: Kubernetes, s3)\n",
    "- Certain Programming Languages (including: R, Scala, java, javascript, c)\n",
    "- Cloud computing (Google, Azure)\n",
    "- Agile software development\n",
    "- Certain Stats/Machine learning platforms (TensorFlow, SAS, Excel)\n",
    "- Data Visualization Software (Tableau)\n",
    "\n",
    "Overall, most of the most relevant skills are covered extensively in this course. There is a large emphasis on programming in python, machine learning, statistics, data visualization, optimization and general math. In an introductory course, it does not make sense to introduce many programming languages, and python is overwhelmingly the most popular (according to all three datasets). \n",
    "\n",
    "The most relevant skills that are missing from the course are related to SQL and Big Data. Therefore, if we were to redesign the course to contain more employable skills, we would add SQL to the course. If we were to remove a certain skill from the course to make room for an intro to SQL, we could remove some of the more advanced machine learning models, and the section on simulation modelling.\n",
    "\n",
    "Now, let's look at how certain soft skills are covered in the course. Soft skills are not usually explicitly mentioned in the course description. Typically in courses, soft skills are used in course projects. Soft skills \"taught\" in the course will be identified manually. "
   ]
  },
  {
   "cell_type": "code",
   "execution_count": 77,
   "metadata": {
    "colab": {},
    "colab_type": "code",
    "id": "4fDQrv_kV6DD"
   },
   "outputs": [
    {
     "data": {
      "image/png": "[encoded data removed]",
      "text/plain": [
       "<Figure size 1080x360 with 1 Axes>"
      ]
     },
     "metadata": {
      "needs_background": "light"
     },
     "output_type": "display_data"
    }
   ],
   "source": [
    "soft_in_course=['Skill Taught in MIE1614',\n",
    "               'Skill Taught in MIE1614',\n",
    "               'Skill Taught in MIE1614',\n",
    "               'Skill Taught in MIE1614',\n",
    "               'Skill Taught in MIE1614',\n",
    "               'Skill Not Taught in MIE1614',\n",
    "               'Skill Taught in MIE1614',\n",
    "                'Skill Taught in MIE1614',\n",
    "               'Skill Taught in MIE1614',\n",
    "               'Skill Taught in MIE1614',\n",
    "               'Skill Taught in MIE1614',\n",
    "               'Skill Not Taught in MIE1614',\n",
    "               'Skill Taught in MIE1614',\n",
    "               'Skill Taught in MIE1614',\n",
    "               'Skill Taught in MIE1614',\n",
    "               'Skill Not Taught in MIE1614',\n",
    "               'Skill Taught in MIE1614',\n",
    "               'Skill Not Taught in MIE1614',\n",
    "               'Skill Not Taught in MIE1614',\n",
    "               'Skill Not Taught in MIE1614']\n",
    "\n",
    "skill=soft_skill_norm\n",
    "occurrence=soft_occurrence_norm\n",
    "\n",
    "skill = [x for _,x in sorted(zip(occurrence,skill),reverse=True)]\n",
    "occurrence = sorted(occurrence,reverse=True)\n",
    "\n",
    "overall_soft_skill=skill\n",
    "overall_soft_occurrence=occurrence\n",
    "\n",
    "top_sk = 20\n",
    "\n",
    "fig_dims = (15, 5)\n",
    "fig, ax = plt.subplots(figsize=fig_dims)\n",
    "clrs = ['green' if (x == 'Skill Taught in MIE1614') else 'red' for x in soft_in_course ]\n",
    "plott=sns.barplot(x=skill[0:top_sk],y=occurrence[0:top_sk],palette=clrs)\n",
    "plott.set(xlabel='Skill', ylabel='Normalized Occurrence',title='Coursera + SimplyHired - Top Soft/Business Skills')\n",
    "#hue=soft_in_course[0:top_sk]\n",
    "\n",
    "red_patch = mpatches.Patch(color='red', label='Skill Not Taught in MIE1614')\n",
    "green_patch = mpatches.Patch(color='green', label='Skill Taught in MIE1614')\n",
    "plt.legend(handles=[green_patch, red_patch])\n",
    "\n",
    "\n",
    "\n",
    "plott.set_xticklabels(plott.get_xticklabels(), rotation=90)\n",
    "plt.show()\n",
    "\n"
   ]
  },
  {
   "cell_type": "markdown",
   "metadata": {
    "colab_type": "text",
    "id": "eHSh3X74V6DE"
   },
   "source": [
    "It is clear that most of the top 20 soft/business skills from SimplyHired Job descriptions and Coursera courses are taught in MIE 1624. The notable exceptions are marketing and accounting. We can therefore add a marketing aspect to the course assignments. Teamwork, communication, presentation, collaboration are covered extensively in the current course, by way of the course project and presentations. For this reason, the general format of the group presentation project and course project will remain the same, with some more emphasis on marketing in one of the assignments. \n",
    "\n",
    "### Aspects of the Course to Remove \n",
    "There are some skills in the course curriculum that are not as frequently requested by employers. Therefore, the course curriculum redesign will remove simulation modelling and some of the more advanced machine learning algorithms, which were not as popular among employers as SQL and big data. The final exam will be replaced with an additional assignment, because it does not really teach any additional skills, compared to the assignment format where students more carefully implement more of the course algorithms. Additionally, the code from an assignment remains as an example for the student to use in the future, once the course is over. \n",
    "\n",
    "### Aspects to Add to the Course\n",
    "In place of Simulation Modelling, a lecture on big data will be added. This lecture will be reinforced with an additional assignment with a database that must be accessed in SQL. The marks in the course have been re-allocated to reflect the time spent on the assignments. They typically take over 40 hours, which is excessive for a 15% mark, so they will be worth 18.33% now. "
   ]
  },
  {
   "cell_type": "markdown",
   "metadata": {
    "colab_type": "text",
    "id": "Ws9WcU_0V6DE"
   },
   "source": [
    "## 3.2 Redesigned Course Cirriculum\n",
    "\n",
    "### MIE 1624 Introduction to data science and analytics\n",
    "\n",
    "#### Data science concepts\n",
    "- Application areas of quantitative modeling \n",
    "\n",
    "#### Python programming, data science software\n",
    "- Introduction to Python\n",
    "- Comparison of Python, R and Matlab usage in data science \n",
    "\n",
    "#### Basic statistics\n",
    "- Random variables, sampling\n",
    "- Distributions and statistical measures\n",
    "- Hypothesis testing\n",
    "- Statistics case studies in IPython \n",
    "\n",
    "#### Overview of linear algebra\n",
    "- Linear algebra and matrix computations\n",
    "- Functions, derivatives, convexity\n",
    "\n",
    "#### **Intro to Databases**\n",
    "- **Intro to SQL**\n",
    "- **Intro to big data** \n",
    "- **Aggregate functions and Data Manipulation**\n",
    "\n",
    "#### Data visualization and visual analytics\n",
    "- Visual analytics\n",
    "- Visualizations in Python and visual analytics in IBM Watson Analytics \n",
    "- Intro to Tableau\n",
    "\n",
    "#### Optimization\n",
    "- Unconstrained non-linear optimization algorithms\n",
    "- Overview of constrained optimization algorithms\n",
    "- Optimization case studies in IPython \n",
    "- Intro. to Simulation modeling\n",
    "\n",
    "#### Modeling techniques, regression\n",
    "- Mathematical modeling process\n",
    "- Linear regression\n",
    "- Logistic regression\n",
    "- Regression case studies in IPython \n",
    "\n",
    "#### Advanced machine learning\n",
    "- Classification (decision trees)\n",
    "- Advanced supervised machine learning algorithms (Naive Bayes, k-NN, SVM)\n",
    "- Intro to ensemble learning algorithms (Random Forest, Gradient Boosting)\n",
    "- ~~Intro to neural networks and deep learning~~\n",
    "- Text analytics and natural language processing\n",
    "- Clustering (K-means, Fuzzy C-means, Hierarchical Clustering, DBSCAN)\n",
    "- Dimensionality reduction\n",
    "- Association rules\n",
    "- Overview of reinforcement learning\n",
    "- Machine learning case studies in IPython \n",
    "\n",
    "#### ~~Simulation modeling~~\n",
    "- ~~Random number generation~~\n",
    "- ~~Monte Carlo simulations~~\n",
    "- ~~Simulation case studies in IPython~~ \n",
    "\n",
    "#### Storytelling based on analytics, analytical decision making\n",
    "- Validating analytics\n",
    "- Storytelling based on analytics\n",
    "- Decision-making based on analytics\n",
    "\n",
    "\n",
    "Assignments, Exams and Grading Assignment #1 (**18.33%**), Assignment #2 (**18.33%**), Assignment #3 (**18.33%**), Course Project (30%) In-Class Group Presentation (15%), ~~Final Exam (25%)~~"
   ]
  },
  {
   "cell_type": "markdown",
   "metadata": {},
   "source": [
    "### 3.2.1 Assignment Descriptions\n",
    "\n",
    "The current MIE 1624 assignments and projects cover many aspects of data science, but there are some aspects that are missing based on our analysis of job and course data. To this end, the assignments will be revised slightly, including an additional assignment on SQL and big data. \n",
    "\n",
    "### In-Class Presentation Assignment\n",
    "\n",
    "The purpose of the in-class presentation assignment is for students to research and teach a concept in data science to the class. The in-class presentation assignmnet would be unchanged from the current format, however, the topics of the in-class presentations would be modified to account for the content removed from the course. \n",
    "\n",
    "**Topic List**\n",
    "\n",
    "- Group 1 – Basic Statistics\n",
    "- Group 2 – Hypothesis Test for Categorical Data\n",
    "- Group 3 - Time Series\n",
    "- Group 4 - Handling Missing Values and Outlier Detection\n",
    "- Group 5 - Feature Engineering\n",
    "- Group 6 - Feature Engineering\n",
    "- Group 7 - Regularization in Linear Regression \n",
    "- Group 8 - Bias Variance Trade-off\n",
    "- Group 9 - Feature Scaling\n",
    "- Group 10 - Twitter Text Processing\n",
    "- Group 11 - Advanced Text Processing\n",
    "- Group 12 - Job Posting Web-Scraping\n",
    "- Group 13 - Naive Bayes\n",
    "- Group 14 - KNN\n",
    "- Group 15 - SVM\n",
    "- Group 16 - Random Forest\n",
    "- Group 17 - Gradient Boosting\n",
    "- Group 18 - Dimensionality Reduction\n",
    "- **Group 19 - Simulation Modelling** ~~Recommender System~~\n",
    "- **Group 20 - Random Number Generation** ~~Reinforcement Learning ~~\n",
    "- **Group 21 - Monte Carlo Simulations** ~~Simulation Modeling ~~\n",
    "- **Group 22 - Deep Learning** ~~RNN_LSTMs  ~~\n",
    "- **Group 23 - Neural Networks** ~~Autoencoders ~~\n",
    "\n",
    "\n",
    "**Learning Objectives**\n",
    "1. Develop the ability to work in a team on a consulting project.\n",
    "2. Research a data science concept of your choice\n",
    "3. Implement programming algorithms to understand the concepts further, in notebook format\n",
    "4. Create visualizations to demonstrate the concept\n",
    "5. Present the data to explain the concept to an audience\n",
    "\n",
    "Tech Skills (from top 50):\n",
    "'computer sci', 'python', 'program', 'visual', 'data visu', 'storytel', 'jupyt'\n",
    "\n",
    "Soft Skills (from top 20):\n",
    "'team', 'communic', 'collaborat', 'report', 'present', 'creativ', 'consult', 'problem solv', 'independ','project manag', 'write', 'teach', 'time manag'\n",
    "\n",
    "\n",
    "### Assignment 1  - Big Data, SQL and Visualization\n",
    "\n",
    "The first assignment would be a big data problem using SQL. The students would be required to scrape the data from the internet, for example job data from indeed or something similar. The purpose of the assignment would be to perform market research on a large group.\n",
    "\n",
    "**Learning Objectives**\n",
    "1. Scrape data from the internet using python\n",
    "2. Implement functionality to parse and clean data according to given requirements.\n",
    "3. Learn how to use SQL to store and access data\n",
    "4. Understand how exploring the data by creating visualizations leads to a deeper understanding of the data.\n",
    "5. Create a short marketing report or presentation about the target demographic\n",
    "\n",
    "Make a visualization here that shows which skills are covered in each assignment\n",
    "\n",
    "Tech Skills: 'computer sci', 'python', 'sql', 'statist', 'program', 'mathemat', 'visual', 'big data', 'scala', 'data visu', 'data min', 'tensorflow', 'data warehous', 'relational databas', 'natural language process', 'data clean', 'data architectur', 'html', 'storytel', 'jupyt',  'data explor', 'customer segment', 'data analysis skil'\n",
    "\n",
    "Soft Skills: \n",
    "'communic', 'report', 'present', 'integr', 'market', 'creativ', 'consult', 'problem solv', 'independ', 'write', 'time manag', \n",
    "\n",
    "### Assignment 2 - Basic Machine Learning\n",
    "\n",
    "The second assignment in the redesigned course would have similar learning objectives to the current Assignment 1 in the course offering, but with a greater emphasis on understanding the models being used and how to tune them effectively. For this purpose, a smaller dataset, such as the iris dataset, or a much smaller survey dataset could be used. The assignment would comprise of three analyses (binary classification, multi-class classification and ordinal multi-class classification) to demonstrate the differences between the methods. The assignment would use a smaller dataset, and have less emphasis on data cleaning but more focus on how to tune models effectively and which model parameters are important and markes would be allocated for good model performance. Essentially, the assignment would be to solve more problems that are simpler. \n",
    "\n",
    "**Learning Objectives**\n",
    "1. Understand how to clean and prepare data for machine learning, including working with multiple data types, incomplete data, and categorical data. Perform data standardization/normalization, if necessary, prior to modeling.\n",
    "2. Understand how to explore data to look for correlations between the features and the target variable.\n",
    "3. Understand how to apply **Multiple** machine learning algorithms (logistic regression) to the task of classification.\n",
    "4. Improve on skills and competencies required to compare performance of classification algorithm, including application of performance measurements, statistical hypothesis testing, and visualization of comparisons.\n",
    "5. Understand how to improve the performance of your model. \n",
    "6. Improve on skill and competencies required to collate and present domain specific, evidence-based insights.\n",
    "\n",
    "\n",
    "Tech Skills: 'python', 'statist', 'program', 'machine learn', 'mathemat', 'visual', 'data visu',  'regress', 'data clean', 'storytel', 'jupyt', 'data explor', 'data analysis skil', 'visual analyit'\n",
    "\n",
    "Soft Skills: 'communic', 'report', 'present', 'creativ', 'problem solv', 'independ','write', 'time manag', \n",
    "\n",
    "### Assignment 3 - Advanced Machine Learning + Natural Language Processing\n",
    "\n",
    "The second assignment would be similar to the current course. However, we could add in additional data from the twitter users, such as gender, location of user, number of followers number of tweets that the user has made, etc to gain additional insights and improve model accuracy. We would also use less tweets, so that the models would run faster. This would add more of a data cleaning/screening/visualization aspect to this assignment, which would be less of a focus in the first machine learning assignment (Assignment 2) in the redesigned curriculum.\n",
    "\n",
    "**Learning Objectives**\n",
    "1. Implement functionality to parse and clean data according to given requirements.\n",
    "2. Understand how exploring the data by creating visualizations leads to a deeper understanding of the data.\n",
    "3. Learn about training and testing machine learning algorithms (logistic regression, k-NN, decision trees, random forest, XGBoost).\n",
    "4. Understand how to apply machine learning algorithms to the task of text classification.\n",
    "5. Improve on skills and competencies required to collate and present domain specific, evidence-based insights.\n",
    "\n",
    "Tech Skills: 'computer sci', 'python', 'statist', 'program', 'machine learn', 'mathemat', 'optim', 'visual', 'data visu', 'data min', 'relational databas', 'regress', 'natural language process', 'data clean',  'data architectur', 'javascript', 'storytel', 'jupyt'\n",
    "\n",
    "Soft Skills: 'communic', 'report', 'present','market',  'creativ', 'problem solv', 'independ', 'write', 'time manag', \n",
    "\n",
    "\n",
    "### Course Project\n",
    "\n",
    "We propose to have a course project with a similar format as the current course, but to make the course project more open ended. We would ask the groups to solve a data science problem of their choice. This would add more of a creative/entrepreneurial aspect to the project, and research based students could potentially apply the course project to their own research. The learning objectives would remain unchanged.\n",
    "\n",
    "**Potential Topics**\n",
    "1. Job data analysis (or examine another statscan dataset)\n",
    "2. Speech/facial analysis\n",
    "3. Analysis of user data from social media\n",
    "4. Stock market analysis\n",
    "\n",
    "**Learning Objectives**\n",
    "1. Scrape data from the internet (or use another means of collection) and pre-process the data\n",
    "2. Present visual analytics on the data (to identify trends in the data)\n",
    "3. Perform machine learning on the data to understand the most important factors\n",
    "4. Create a business plan based on the analysis to address/solve a problem of their choice\n",
    "5. Develop presentation skills, reporting skills and teamwork\n",
    "6. Develop the ability to work in a team on a consulting project.\n",
    "\n",
    "Tech Skills: 'python', 'statist', 'program', 'machine learn', 'mathemat', 'visual', 'data visu',  'regress', 'data clean', 'storytel', 'jupyt', 'data explor', 'data analysis skil', 'visual analyit'\n",
    "\n",
    "Soft Skills: 'team', 'communic', 'collaborat', 'report', 'present', 'integr', 'market', 'financ', 'creativ', 'consult', 'problem solv', 'independ', 'account', 'account', 'coach', 'financial servic', 'project manag', 'write', 'ethic', 'teach', 'time manag'"
   ]
  },
  {
   "cell_type": "markdown",
   "metadata": {
    "colab_type": "text",
    "id": "F4Ndns1ZIB1G"
   },
   "source": [
    "## 4. Analysis of Other University Data Science Programs"
   ]
  },
  {
   "cell_type": "markdown",
   "metadata": {
    "colab_type": "text",
    "id": "Kx_45_urIB1G"
   },
   "source": [
    "We have looked for various universities around the world, which offer programs in Data Science. These programs are offered majorly in three different faculties:\n",
    "\n",
    "- Faculty of Engineering (Applied Sciences)\n",
    "- Faculty of Business (Business and Management)\n",
    "- Faculty of Science (Computer Sciences)\n",
    "\n",
    "The difference in the faculty offerings is in the core courses, and the pre-requisities. The degree titles also depend on which of the faculty is offering the program. Different program names are used by different universities depending on the faculty offering it; these includes masters in:\n",
    "\n",
    "- Data Science\n",
    "- Data Science and Analytics\n",
    "- Data Science and Machine Learning\n",
    "- Data Science and Artificial Intelligence\n",
    "- Management and Artificial Intelligence\n",
    "\n",
    "Few of the universities offer the program, which is a collaboratory program taught by more than one department; like in University of Waterloo, the program is offered with the collaboration of Faculty of Science (Department of Science) and Faculty of Mathematics.\n",
    "\n",
    "We have considered the following universities for analysis of other university data science program. The reason for the selection of theseuniversities for the analysis is that all these university program title is **Master of Data Science and Artificial Intelligence**, whichis the program we are developing. Secondly, these universities are in Canada (North America) and Europe. So, it covers the diversity of the regions also. The universities are as follow:\n",
    "\n",
    "- University of Waterloo (Canada)\n",
    "- University of London (UK)\n",
    "- Eindhoven University of Technology (Netherlands)\n",
    "- Bournemouth University (UK)\n",
    "\n",
    "Let's have a look on the program websites of these universities:"
   ]
  },
  {
   "cell_type": "code",
   "execution_count": 78,
   "metadata": {
    "colab": {},
    "colab_type": "code",
    "id": "xrWXcQ9BIB1H",
    "outputId": "a1852df1-7f27-4fb4-90e0-3800596a25f5"
   },
   "outputs": [],
   "source": [
    "url = 'https://uwaterloo.ca/graduate-studies-academic-calendar/mathematics/data-science-and-artificial-intelligence/master-data-science-and-artificial-intelligence-mdsai'\n"
   ]
  },
  {
   "cell_type": "code",
   "execution_count": 79,
   "metadata": {
    "colab": {
     "base_uri": "https://localhost:8080/",
     "height": 1000,
     "resources": {
      "http://localhost:8080/graduate-studies-academic-calendar/profiles/uw_base_profile/modules/custom/uw_social_media_sharing/images/Email.png": {
       "data": "CjwhRE9DVFlQRSBodG1sPgo8aHRtbCBsYW5nPWVuPgogIDxtZXRhIGNoYXJzZXQ9dXRmLTg+CiAgPG1ldGEgbmFtZT12aWV3cG9ydCBjb250ZW50PSJpbml0aWFsLXNjYWxlPTEsIG1pbmltdW0tc2NhbGU9MSwgd2lkdGg9ZGV2aWNlLXdpZHRoIj4KICA8dGl0bGU+RXJyb3IgNDA0IChOb3QgRm91bmQpISExPC90aXRsZT4KICA8c3R5bGU+CiAgICAqe21hcmdpbjowO3BhZGRpbmc6MH1odG1sLGNvZGV7Zm9udDoxNXB4LzIycHggYXJpYWwsc2Fucy1zZXJpZn1odG1se2JhY2tncm91bmQ6I2ZmZjtjb2xvcjojMjIyO3BhZGRpbmc6MTVweH1ib2R5e21hcmdpbjo3JSBhdXRvIDA7bWF4LXdpZHRoOjM5MHB4O21pbi1oZWlnaHQ6MTgwcHg7cGFkZGluZzozMHB4IDAgMTVweH0qID4gYm9keXtiYWNrZ3JvdW5kOnVybCgvL3d3dy5nb29nbGUuY29tL2ltYWdlcy9lcnJvcnMvcm9ib3QucG5nKSAxMDAlIDVweCBuby1yZXBlYXQ7cGFkZGluZy1yaWdodDoyMDVweH1we21hcmdpbjoxMXB4IDAgMjJweDtvdmVyZmxvdzpoaWRkZW59aW5ze2NvbG9yOiM3Nzc7dGV4dC1kZWNvcmF0aW9uOm5vbmV9YSBpbWd7Ym9yZGVyOjB9QG1lZGlhIHNjcmVlbiBhbmQgKG1heC13aWR0aDo3NzJweCl7Ym9keXtiYWNrZ3JvdW5kOm5vbmU7bWFyZ2luLXRvcDowO21heC13aWR0aDpub25lO3BhZGRpbmctcmlnaHQ6MH19I2xvZ297YmFja2dyb3VuZDp1cmwoLy93d3cuZ29vZ2xlLmNvbS9pbWFnZXMvbG9nb3MvZXJyb3JwYWdlL2Vycm9yX2xvZ28tMTUweDU0LnBuZykgbm8tcmVwZWF0O21hcmdpbi1sZWZ0Oi01cHh9QG1lZGlhIG9ubHkgc2NyZWVuIGFuZCAobWluLXJlc29sdXRpb246MTkyZHBpKXsjbG9nb3tiYWNrZ3JvdW5kOnVybCgvL3d3dy5nb29nbGUuY29tL2ltYWdlcy9sb2dvcy9lcnJvcnBhZ2UvZXJyb3JfbG9nby0xNTB4NTQtMngucG5nKSBuby1yZXBlYXQgMCUgMCUvMTAwJSAxMDAlOy1tb3otYm9yZGVyLWltYWdlOnVybCgvL3d3dy5nb29nbGUuY29tL2ltYWdlcy9sb2dvcy9lcnJvcnBhZ2UvZXJyb3JfbG9nby0xNTB4NTQtMngucG5nKSAwfX1AbWVkaWEgb25seSBzY3JlZW4gYW5kICgtd2Via2l0LW1pbi1kZXZpY2UtcGl4ZWwtcmF0aW86Mil7I2xvZ297YmFja2dyb3VuZDp1cmwoLy93d3cuZ29vZ2xlLmNvbS9pbWFnZXMvbG9nb3MvZXJyb3JwYWdlL2Vycm9yX2xvZ28tMTUweDU0LTJ4LnBuZykgbm8tcmVwZWF0Oy13ZWJraXQtYmFja2dyb3VuZC1zaXplOjEwMCUgMTAwJX19I2xvZ297ZGlzcGxheTppbmxpbmUtYmxvY2s7aGVpZ2h0OjU0cHg7d2lkdGg6MTUwcHh9CiAgPC9zdHlsZT4KICA8YSBocmVmPS8vd3d3Lmdvb2dsZS5jb20vPjxzcGFuIGlkPWxvZ28gYXJpYS1sYWJlbD1Hb29nbGU+PC9zcGFuPjwvYT4KICA8cD48Yj40MDQuPC9iPiA8aW5zPlRoYXTigJlzIGFuIGVycm9yLjwvaW5zPgogIDxwPiAgPGlucz5UaGF04oCZcyBhbGwgd2Uga25vdy48L2lucz4K",
       "headers": [
        [
         "content-length",
         "1449"
        ],
        [
         "content-type",
         "text/html; charset=utf-8"
        ]
       ],
       "ok": false,
       "status": 404,
       "status_text": ""
      },
      "http://localhost:8080/graduate-studies-academic-calendar/profiles/uw_base_profile/modules/custom/uw_social_media_sharing/images/Facebook.png": {
       "data": "CjwhRE9DVFlQRSBodG1sPgo8aHRtbCBsYW5nPWVuPgogIDxtZXRhIGNoYXJzZXQ9dXRmLTg+CiAgPG1ldGEgbmFtZT12aWV3cG9ydCBjb250ZW50PSJpbml0aWFsLXNjYWxlPTEsIG1pbmltdW0tc2NhbGU9MSwgd2lkdGg9ZGV2aWNlLXdpZHRoIj4KICA8dGl0bGU+RXJyb3IgNDA0IChOb3QgRm91bmQpISExPC90aXRsZT4KICA8c3R5bGU+CiAgICAqe21hcmdpbjowO3BhZGRpbmc6MH1odG1sLGNvZGV7Zm9udDoxNXB4LzIycHggYXJpYWwsc2Fucy1zZXJpZn1odG1se2JhY2tncm91bmQ6I2ZmZjtjb2xvcjojMjIyO3BhZGRpbmc6MTVweH1ib2R5e21hcmdpbjo3JSBhdXRvIDA7bWF4LXdpZHRoOjM5MHB4O21pbi1oZWlnaHQ6MTgwcHg7cGFkZGluZzozMHB4IDAgMTVweH0qID4gYm9keXtiYWNrZ3JvdW5kOnVybCgvL3d3dy5nb29nbGUuY29tL2ltYWdlcy9lcnJvcnMvcm9ib3QucG5nKSAxMDAlIDVweCBuby1yZXBlYXQ7cGFkZGluZy1yaWdodDoyMDVweH1we21hcmdpbjoxMXB4IDAgMjJweDtvdmVyZmxvdzpoaWRkZW59aW5ze2NvbG9yOiM3Nzc7dGV4dC1kZWNvcmF0aW9uOm5vbmV9YSBpbWd7Ym9yZGVyOjB9QG1lZGlhIHNjcmVlbiBhbmQgKG1heC13aWR0aDo3NzJweCl7Ym9keXtiYWNrZ3JvdW5kOm5vbmU7bWFyZ2luLXRvcDowO21heC13aWR0aDpub25lO3BhZGRpbmctcmlnaHQ6MH19I2xvZ297YmFja2dyb3VuZDp1cmwoLy93d3cuZ29vZ2xlLmNvbS9pbWFnZXMvbG9nb3MvZXJyb3JwYWdlL2Vycm9yX2xvZ28tMTUweDU0LnBuZykgbm8tcmVwZWF0O21hcmdpbi1sZWZ0Oi01cHh9QG1lZGlhIG9ubHkgc2NyZWVuIGFuZCAobWluLXJlc29sdXRpb246MTkyZHBpKXsjbG9nb3tiYWNrZ3JvdW5kOnVybCgvL3d3dy5nb29nbGUuY29tL2ltYWdlcy9sb2dvcy9lcnJvcnBhZ2UvZXJyb3JfbG9nby0xNTB4NTQtMngucG5nKSBuby1yZXBlYXQgMCUgMCUvMTAwJSAxMDAlOy1tb3otYm9yZGVyLWltYWdlOnVybCgvL3d3dy5nb29nbGUuY29tL2ltYWdlcy9sb2dvcy9lcnJvcnBhZ2UvZXJyb3JfbG9nby0xNTB4NTQtMngucG5nKSAwfX1AbWVkaWEgb25seSBzY3JlZW4gYW5kICgtd2Via2l0LW1pbi1kZXZpY2UtcGl4ZWwtcmF0aW86Mil7I2xvZ297YmFja2dyb3VuZDp1cmwoLy93d3cuZ29vZ2xlLmNvbS9pbWFnZXMvbG9nb3MvZXJyb3JwYWdlL2Vycm9yX2xvZ28tMTUweDU0LTJ4LnBuZykgbm8tcmVwZWF0Oy13ZWJraXQtYmFja2dyb3VuZC1zaXplOjEwMCUgMTAwJX19I2xvZ297ZGlzcGxheTppbmxpbmUtYmxvY2s7aGVpZ2h0OjU0cHg7d2lkdGg6MTUwcHh9CiAgPC9zdHlsZT4KICA8YSBocmVmPS8vd3d3Lmdvb2dsZS5jb20vPjxzcGFuIGlkPWxvZ28gYXJpYS1sYWJlbD1Hb29nbGU+PC9zcGFuPjwvYT4KICA8cD48Yj40MDQuPC9iPiA8aW5zPlRoYXTigJlzIGFuIGVycm9yLjwvaW5zPgogIDxwPiAgPGlucz5UaGF04oCZcyBhbGwgd2Uga25vdy48L2lucz4K",
       "headers": [
        [
         "content-length",
         "1449"
        ],
        [
         "content-type",
         "text/html; charset=utf-8"
        ]
       ],
       "ok": false,
       "status": 404,
       "status_text": ""
      },
      "http://localhost:8080/graduate-studies-academic-calendar/profiles/uw_base_profile/modules/custom/uw_social_media_sharing/images/Google+.png": {
       "data": "CjwhRE9DVFlQRSBodG1sPgo8aHRtbCBsYW5nPWVuPgogIDxtZXRhIGNoYXJzZXQ9dXRmLTg+CiAgPG1ldGEgbmFtZT12aWV3cG9ydCBjb250ZW50PSJpbml0aWFsLXNjYWxlPTEsIG1pbmltdW0tc2NhbGU9MSwgd2lkdGg9ZGV2aWNlLXdpZHRoIj4KICA8dGl0bGU+RXJyb3IgNDA0IChOb3QgRm91bmQpISExPC90aXRsZT4KICA8c3R5bGU+CiAgICAqe21hcmdpbjowO3BhZGRpbmc6MH1odG1sLGNvZGV7Zm9udDoxNXB4LzIycHggYXJpYWwsc2Fucy1zZXJpZn1odG1se2JhY2tncm91bmQ6I2ZmZjtjb2xvcjojMjIyO3BhZGRpbmc6MTVweH1ib2R5e21hcmdpbjo3JSBhdXRvIDA7bWF4LXdpZHRoOjM5MHB4O21pbi1oZWlnaHQ6MTgwcHg7cGFkZGluZzozMHB4IDAgMTVweH0qID4gYm9keXtiYWNrZ3JvdW5kOnVybCgvL3d3dy5nb29nbGUuY29tL2ltYWdlcy9lcnJvcnMvcm9ib3QucG5nKSAxMDAlIDVweCBuby1yZXBlYXQ7cGFkZGluZy1yaWdodDoyMDVweH1we21hcmdpbjoxMXB4IDAgMjJweDtvdmVyZmxvdzpoaWRkZW59aW5ze2NvbG9yOiM3Nzc7dGV4dC1kZWNvcmF0aW9uOm5vbmV9YSBpbWd7Ym9yZGVyOjB9QG1lZGlhIHNjcmVlbiBhbmQgKG1heC13aWR0aDo3NzJweCl7Ym9keXtiYWNrZ3JvdW5kOm5vbmU7bWFyZ2luLXRvcDowO21heC13aWR0aDpub25lO3BhZGRpbmctcmlnaHQ6MH19I2xvZ297YmFja2dyb3VuZDp1cmwoLy93d3cuZ29vZ2xlLmNvbS9pbWFnZXMvbG9nb3MvZXJyb3JwYWdlL2Vycm9yX2xvZ28tMTUweDU0LnBuZykgbm8tcmVwZWF0O21hcmdpbi1sZWZ0Oi01cHh9QG1lZGlhIG9ubHkgc2NyZWVuIGFuZCAobWluLXJlc29sdXRpb246MTkyZHBpKXsjbG9nb3tiYWNrZ3JvdW5kOnVybCgvL3d3dy5nb29nbGUuY29tL2ltYWdlcy9sb2dvcy9lcnJvcnBhZ2UvZXJyb3JfbG9nby0xNTB4NTQtMngucG5nKSBuby1yZXBlYXQgMCUgMCUvMTAwJSAxMDAlOy1tb3otYm9yZGVyLWltYWdlOnVybCgvL3d3dy5nb29nbGUuY29tL2ltYWdlcy9sb2dvcy9lcnJvcnBhZ2UvZXJyb3JfbG9nby0xNTB4NTQtMngucG5nKSAwfX1AbWVkaWEgb25seSBzY3JlZW4gYW5kICgtd2Via2l0LW1pbi1kZXZpY2UtcGl4ZWwtcmF0aW86Mil7I2xvZ297YmFja2dyb3VuZDp1cmwoLy93d3cuZ29vZ2xlLmNvbS9pbWFnZXMvbG9nb3MvZXJyb3JwYWdlL2Vycm9yX2xvZ28tMTUweDU0LTJ4LnBuZykgbm8tcmVwZWF0Oy13ZWJraXQtYmFja2dyb3VuZC1zaXplOjEwMCUgMTAwJX19I2xvZ297ZGlzcGxheTppbmxpbmUtYmxvY2s7aGVpZ2h0OjU0cHg7d2lkdGg6MTUwcHh9CiAgPC9zdHlsZT4KICA8YSBocmVmPS8vd3d3Lmdvb2dsZS5jb20vPjxzcGFuIGlkPWxvZ28gYXJpYS1sYWJlbD1Hb29nbGU+PC9zcGFuPjwvYT4KICA8cD48Yj40MDQuPC9iPiA8aW5zPlRoYXTigJlzIGFuIGVycm9yLjwvaW5zPgogIDxwPiAgPGlucz5UaGF04oCZcyBhbGwgd2Uga25vdy48L2lucz4K",
       "headers": [
        [
         "content-length",
         "1449"
        ],
        [
         "content-type",
         "text/html; charset=utf-8"
        ]
       ],
       "ok": false,
       "status": 404,
       "status_text": ""
      },
      "http://localhost:8080/graduate-studies-academic-calendar/profiles/uw_base_profile/modules/custom/uw_social_media_sharing/images/LinkedIn.png": {
       "data": "CjwhRE9DVFlQRSBodG1sPgo8aHRtbCBsYW5nPWVuPgogIDxtZXRhIGNoYXJzZXQ9dXRmLTg+CiAgPG1ldGEgbmFtZT12aWV3cG9ydCBjb250ZW50PSJpbml0aWFsLXNjYWxlPTEsIG1pbmltdW0tc2NhbGU9MSwgd2lkdGg9ZGV2aWNlLXdpZHRoIj4KICA8dGl0bGU+RXJyb3IgNDA0IChOb3QgRm91bmQpISExPC90aXRsZT4KICA8c3R5bGU+CiAgICAqe21hcmdpbjowO3BhZGRpbmc6MH1odG1sLGNvZGV7Zm9udDoxNXB4LzIycHggYXJpYWwsc2Fucy1zZXJpZn1odG1se2JhY2tncm91bmQ6I2ZmZjtjb2xvcjojMjIyO3BhZGRpbmc6MTVweH1ib2R5e21hcmdpbjo3JSBhdXRvIDA7bWF4LXdpZHRoOjM5MHB4O21pbi1oZWlnaHQ6MTgwcHg7cGFkZGluZzozMHB4IDAgMTVweH0qID4gYm9keXtiYWNrZ3JvdW5kOnVybCgvL3d3dy5nb29nbGUuY29tL2ltYWdlcy9lcnJvcnMvcm9ib3QucG5nKSAxMDAlIDVweCBuby1yZXBlYXQ7cGFkZGluZy1yaWdodDoyMDVweH1we21hcmdpbjoxMXB4IDAgMjJweDtvdmVyZmxvdzpoaWRkZW59aW5ze2NvbG9yOiM3Nzc7dGV4dC1kZWNvcmF0aW9uOm5vbmV9YSBpbWd7Ym9yZGVyOjB9QG1lZGlhIHNjcmVlbiBhbmQgKG1heC13aWR0aDo3NzJweCl7Ym9keXtiYWNrZ3JvdW5kOm5vbmU7bWFyZ2luLXRvcDowO21heC13aWR0aDpub25lO3BhZGRpbmctcmlnaHQ6MH19I2xvZ297YmFja2dyb3VuZDp1cmwoLy93d3cuZ29vZ2xlLmNvbS9pbWFnZXMvbG9nb3MvZXJyb3JwYWdlL2Vycm9yX2xvZ28tMTUweDU0LnBuZykgbm8tcmVwZWF0O21hcmdpbi1sZWZ0Oi01cHh9QG1lZGlhIG9ubHkgc2NyZWVuIGFuZCAobWluLXJlc29sdXRpb246MTkyZHBpKXsjbG9nb3tiYWNrZ3JvdW5kOnVybCgvL3d3dy5nb29nbGUuY29tL2ltYWdlcy9sb2dvcy9lcnJvcnBhZ2UvZXJyb3JfbG9nby0xNTB4NTQtMngucG5nKSBuby1yZXBlYXQgMCUgMCUvMTAwJSAxMDAlOy1tb3otYm9yZGVyLWltYWdlOnVybCgvL3d3dy5nb29nbGUuY29tL2ltYWdlcy9sb2dvcy9lcnJvcnBhZ2UvZXJyb3JfbG9nby0xNTB4NTQtMngucG5nKSAwfX1AbWVkaWEgb25seSBzY3JlZW4gYW5kICgtd2Via2l0LW1pbi1kZXZpY2UtcGl4ZWwtcmF0aW86Mil7I2xvZ297YmFja2dyb3VuZDp1cmwoLy93d3cuZ29vZ2xlLmNvbS9pbWFnZXMvbG9nb3MvZXJyb3JwYWdlL2Vycm9yX2xvZ28tMTUweDU0LTJ4LnBuZykgbm8tcmVwZWF0Oy13ZWJraXQtYmFja2dyb3VuZC1zaXplOjEwMCUgMTAwJX19I2xvZ297ZGlzcGxheTppbmxpbmUtYmxvY2s7aGVpZ2h0OjU0cHg7d2lkdGg6MTUwcHh9CiAgPC9zdHlsZT4KICA8YSBocmVmPS8vd3d3Lmdvb2dsZS5jb20vPjxzcGFuIGlkPWxvZ28gYXJpYS1sYWJlbD1Hb29nbGU+PC9zcGFuPjwvYT4KICA8cD48Yj40MDQuPC9iPiA8aW5zPlRoYXTigJlzIGFuIGVycm9yLjwvaW5zPgogIDxwPiAgPGlucz5UaGF04oCZcyBhbGwgd2Uga25vdy48L2lucz4K",
       "headers": [
        [
         "content-length",
         "1449"
        ],
        [
         "content-type",
         "text/html; charset=utf-8"
        ]
       ],
       "ok": false,
       "status": 404,
       "status_text": ""
      },
      "http://localhost:8080/graduate-studies-academic-calendar/profiles/uw_base_profile/modules/custom/uw_social_media_sharing/images/Twitter.png": {
       "data": "CjwhRE9DVFlQRSBodG1sPgo8aHRtbCBsYW5nPWVuPgogIDxtZXRhIGNoYXJzZXQ9dXRmLTg+CiAgPG1ldGEgbmFtZT12aWV3cG9ydCBjb250ZW50PSJpbml0aWFsLXNjYWxlPTEsIG1pbmltdW0tc2NhbGU9MSwgd2lkdGg9ZGV2aWNlLXdpZHRoIj4KICA8dGl0bGU+RXJyb3IgNDA0IChOb3QgRm91bmQpISExPC90aXRsZT4KICA8c3R5bGU+CiAgICAqe21hcmdpbjowO3BhZGRpbmc6MH1odG1sLGNvZGV7Zm9udDoxNXB4LzIycHggYXJpYWwsc2Fucy1zZXJpZn1odG1se2JhY2tncm91bmQ6I2ZmZjtjb2xvcjojMjIyO3BhZGRpbmc6MTVweH1ib2R5e21hcmdpbjo3JSBhdXRvIDA7bWF4LXdpZHRoOjM5MHB4O21pbi1oZWlnaHQ6MTgwcHg7cGFkZGluZzozMHB4IDAgMTVweH0qID4gYm9keXtiYWNrZ3JvdW5kOnVybCgvL3d3dy5nb29nbGUuY29tL2ltYWdlcy9lcnJvcnMvcm9ib3QucG5nKSAxMDAlIDVweCBuby1yZXBlYXQ7cGFkZGluZy1yaWdodDoyMDVweH1we21hcmdpbjoxMXB4IDAgMjJweDtvdmVyZmxvdzpoaWRkZW59aW5ze2NvbG9yOiM3Nzc7dGV4dC1kZWNvcmF0aW9uOm5vbmV9YSBpbWd7Ym9yZGVyOjB9QG1lZGlhIHNjcmVlbiBhbmQgKG1heC13aWR0aDo3NzJweCl7Ym9keXtiYWNrZ3JvdW5kOm5vbmU7bWFyZ2luLXRvcDowO21heC13aWR0aDpub25lO3BhZGRpbmctcmlnaHQ6MH19I2xvZ297YmFja2dyb3VuZDp1cmwoLy93d3cuZ29vZ2xlLmNvbS9pbWFnZXMvbG9nb3MvZXJyb3JwYWdlL2Vycm9yX2xvZ28tMTUweDU0LnBuZykgbm8tcmVwZWF0O21hcmdpbi1sZWZ0Oi01cHh9QG1lZGlhIG9ubHkgc2NyZWVuIGFuZCAobWluLXJlc29sdXRpb246MTkyZHBpKXsjbG9nb3tiYWNrZ3JvdW5kOnVybCgvL3d3dy5nb29nbGUuY29tL2ltYWdlcy9sb2dvcy9lcnJvcnBhZ2UvZXJyb3JfbG9nby0xNTB4NTQtMngucG5nKSBuby1yZXBlYXQgMCUgMCUvMTAwJSAxMDAlOy1tb3otYm9yZGVyLWltYWdlOnVybCgvL3d3dy5nb29nbGUuY29tL2ltYWdlcy9sb2dvcy9lcnJvcnBhZ2UvZXJyb3JfbG9nby0xNTB4NTQtMngucG5nKSAwfX1AbWVkaWEgb25seSBzY3JlZW4gYW5kICgtd2Via2l0LW1pbi1kZXZpY2UtcGl4ZWwtcmF0aW86Mil7I2xvZ297YmFja2dyb3VuZDp1cmwoLy93d3cuZ29vZ2xlLmNvbS9pbWFnZXMvbG9nb3MvZXJyb3JwYWdlL2Vycm9yX2xvZ28tMTUweDU0LTJ4LnBuZykgbm8tcmVwZWF0Oy13ZWJraXQtYmFja2dyb3VuZC1zaXplOjEwMCUgMTAwJX19I2xvZ297ZGlzcGxheTppbmxpbmUtYmxvY2s7aGVpZ2h0OjU0cHg7d2lkdGg6MTUwcHh9CiAgPC9zdHlsZT4KICA8YSBocmVmPS8vd3d3Lmdvb2dsZS5jb20vPjxzcGFuIGlkPWxvZ28gYXJpYS1sYWJlbD1Hb29nbGU+PC9zcGFuPjwvYT4KICA8cD48Yj40MDQuPC9iPiA8aW5zPlRoYXTigJlzIGFuIGVycm9yLjwvaW5zPgogIDxwPiAgPGlucz5UaGF04oCZcyBhbGwgd2Uga25vdy48L2lucz4K",
       "headers": [
        [
         "content-length",
         "1449"
        ],
        [
         "content-type",
         "text/html; charset=utf-8"
        ]
       ],
       "ok": false,
       "status": 404,
       "status_text": ""
      },
      "http://localhost:8080/graduate-studies-academic-calendar/profiles/uw_base_profile/modules/features/uw_nav_site_footer/logos/UWaterloo_logo.png": {
       "data": "CjwhRE9DVFlQRSBodG1sPgo8aHRtbCBsYW5nPWVuPgogIDxtZXRhIGNoYXJzZXQ9dXRmLTg+CiAgPG1ldGEgbmFtZT12aWV3cG9ydCBjb250ZW50PSJpbml0aWFsLXNjYWxlPTEsIG1pbmltdW0tc2NhbGU9MSwgd2lkdGg9ZGV2aWNlLXdpZHRoIj4KICA8dGl0bGU+RXJyb3IgNDA0IChOb3QgRm91bmQpISExPC90aXRsZT4KICA8c3R5bGU+CiAgICAqe21hcmdpbjowO3BhZGRpbmc6MH1odG1sLGNvZGV7Zm9udDoxNXB4LzIycHggYXJpYWwsc2Fucy1zZXJpZn1odG1se2JhY2tncm91bmQ6I2ZmZjtjb2xvcjojMjIyO3BhZGRpbmc6MTVweH1ib2R5e21hcmdpbjo3JSBhdXRvIDA7bWF4LXdpZHRoOjM5MHB4O21pbi1oZWlnaHQ6MTgwcHg7cGFkZGluZzozMHB4IDAgMTVweH0qID4gYm9keXtiYWNrZ3JvdW5kOnVybCgvL3d3dy5nb29nbGUuY29tL2ltYWdlcy9lcnJvcnMvcm9ib3QucG5nKSAxMDAlIDVweCBuby1yZXBlYXQ7cGFkZGluZy1yaWdodDoyMDVweH1we21hcmdpbjoxMXB4IDAgMjJweDtvdmVyZmxvdzpoaWRkZW59aW5ze2NvbG9yOiM3Nzc7dGV4dC1kZWNvcmF0aW9uOm5vbmV9YSBpbWd7Ym9yZGVyOjB9QG1lZGlhIHNjcmVlbiBhbmQgKG1heC13aWR0aDo3NzJweCl7Ym9keXtiYWNrZ3JvdW5kOm5vbmU7bWFyZ2luLXRvcDowO21heC13aWR0aDpub25lO3BhZGRpbmctcmlnaHQ6MH19I2xvZ297YmFja2dyb3VuZDp1cmwoLy93d3cuZ29vZ2xlLmNvbS9pbWFnZXMvbG9nb3MvZXJyb3JwYWdlL2Vycm9yX2xvZ28tMTUweDU0LnBuZykgbm8tcmVwZWF0O21hcmdpbi1sZWZ0Oi01cHh9QG1lZGlhIG9ubHkgc2NyZWVuIGFuZCAobWluLXJlc29sdXRpb246MTkyZHBpKXsjbG9nb3tiYWNrZ3JvdW5kOnVybCgvL3d3dy5nb29nbGUuY29tL2ltYWdlcy9sb2dvcy9lcnJvcnBhZ2UvZXJyb3JfbG9nby0xNTB4NTQtMngucG5nKSBuby1yZXBlYXQgMCUgMCUvMTAwJSAxMDAlOy1tb3otYm9yZGVyLWltYWdlOnVybCgvL3d3dy5nb29nbGUuY29tL2ltYWdlcy9sb2dvcy9lcnJvcnBhZ2UvZXJyb3JfbG9nby0xNTB4NTQtMngucG5nKSAwfX1AbWVkaWEgb25seSBzY3JlZW4gYW5kICgtd2Via2l0LW1pbi1kZXZpY2UtcGl4ZWwtcmF0aW86Mil7I2xvZ297YmFja2dyb3VuZDp1cmwoLy93d3cuZ29vZ2xlLmNvbS9pbWFnZXMvbG9nb3MvZXJyb3JwYWdlL2Vycm9yX2xvZ28tMTUweDU0LTJ4LnBuZykgbm8tcmVwZWF0Oy13ZWJraXQtYmFja2dyb3VuZC1zaXplOjEwMCUgMTAwJX19I2xvZ297ZGlzcGxheTppbmxpbmUtYmxvY2s7aGVpZ2h0OjU0cHg7d2lkdGg6MTUwcHh9CiAgPC9zdHlsZT4KICA8YSBocmVmPS8vd3d3Lmdvb2dsZS5jb20vPjxzcGFuIGlkPWxvZ28gYXJpYS1sYWJlbD1Hb29nbGU+PC9zcGFuPjwvYT4KICA8cD48Yj40MDQuPC9iPiA8aW5zPlRoYXTigJlzIGFuIGVycm9yLjwvaW5zPgogIDxwPiAgPGlucz5UaGF04oCZcyBhbGwgd2Uga25vdy48L2lucz4K",
       "headers": [
        [
         "content-length",
         "1449"
        ],
        [
         "content-type",
         "text/html; charset=utf-8"
        ]
       ],
       "ok": false,
       "status": 404,
       "status_text": ""
      }
     }
    },
    "colab_type": "code",
    "executionInfo": {
     "elapsed": 774,
     "status": "ok",
     "timestamp": 1585609813411,
     "user": {
      "displayName": "Zohaib Hassan Farooqi",
      "photoUrl": "",
      "userId": "11436644774730670565"
     },
     "user_tz": 240
    },
    "id": "g5facIbDIB1I",
    "outputId": "57a1a94d-2bb4-42bf-9389-cd78f5a8063d"
   },
   "outputs": [],
   "source": [
    "# University of Waterloo (Canada)\n",
    "url = 'https://uwaterloo.ca/graduate-studies-academic-calendar/mathematics/data-science-and-artificial-intelligence/master-data-science-and-artificial-intelligence-mdsai'\n"
   ]
  },
  {
   "cell_type": "code",
   "execution_count": 80,
   "metadata": {
    "colab": {
     "base_uri": "https://localhost:8080/",
     "height": 1000,
     "resources": {
      "http://localhost:8080/sites/default/files/css/css_5wRCVV8hiQppv9a0RnohH4YfhgXsX0ssrYk4oxaspzw.css?q7t56n": {
       "data": "CjwhRE9DVFlQRSBodG1sPgo8aHRtbCBsYW5nPWVuPgogIDxtZXRhIGNoYXJzZXQ9dXRmLTg+CiAgPG1ldGEgbmFtZT12aWV3cG9ydCBjb250ZW50PSJpbml0aWFsLXNjYWxlPTEsIG1pbmltdW0tc2NhbGU9MSwgd2lkdGg9ZGV2aWNlLXdpZHRoIj4KICA8dGl0bGU+RXJyb3IgNDA0IChOb3QgRm91bmQpISExPC90aXRsZT4KICA8c3R5bGU+CiAgICAqe21hcmdpbjowO3BhZGRpbmc6MH1odG1sLGNvZGV7Zm9udDoxNXB4LzIycHggYXJpYWwsc2Fucy1zZXJpZn1odG1se2JhY2tncm91bmQ6I2ZmZjtjb2xvcjojMjIyO3BhZGRpbmc6MTVweH1ib2R5e21hcmdpbjo3JSBhdXRvIDA7bWF4LXdpZHRoOjM5MHB4O21pbi1oZWlnaHQ6MTgwcHg7cGFkZGluZzozMHB4IDAgMTVweH0qID4gYm9keXtiYWNrZ3JvdW5kOnVybCgvL3d3dy5nb29nbGUuY29tL2ltYWdlcy9lcnJvcnMvcm9ib3QucG5nKSAxMDAlIDVweCBuby1yZXBlYXQ7cGFkZGluZy1yaWdodDoyMDVweH1we21hcmdpbjoxMXB4IDAgMjJweDtvdmVyZmxvdzpoaWRkZW59aW5ze2NvbG9yOiM3Nzc7dGV4dC1kZWNvcmF0aW9uOm5vbmV9YSBpbWd7Ym9yZGVyOjB9QG1lZGlhIHNjcmVlbiBhbmQgKG1heC13aWR0aDo3NzJweCl7Ym9keXtiYWNrZ3JvdW5kOm5vbmU7bWFyZ2luLXRvcDowO21heC13aWR0aDpub25lO3BhZGRpbmctcmlnaHQ6MH19I2xvZ297YmFja2dyb3VuZDp1cmwoLy93d3cuZ29vZ2xlLmNvbS9pbWFnZXMvbG9nb3MvZXJyb3JwYWdlL2Vycm9yX2xvZ28tMTUweDU0LnBuZykgbm8tcmVwZWF0O21hcmdpbi1sZWZ0Oi01cHh9QG1lZGlhIG9ubHkgc2NyZWVuIGFuZCAobWluLXJlc29sdXRpb246MTkyZHBpKXsjbG9nb3tiYWNrZ3JvdW5kOnVybCgvL3d3dy5nb29nbGUuY29tL2ltYWdlcy9sb2dvcy9lcnJvcnBhZ2UvZXJyb3JfbG9nby0xNTB4NTQtMngucG5nKSBuby1yZXBlYXQgMCUgMCUvMTAwJSAxMDAlOy1tb3otYm9yZGVyLWltYWdlOnVybCgvL3d3dy5nb29nbGUuY29tL2ltYWdlcy9sb2dvcy9lcnJvcnBhZ2UvZXJyb3JfbG9nby0xNTB4NTQtMngucG5nKSAwfX1AbWVkaWEgb25seSBzY3JlZW4gYW5kICgtd2Via2l0LW1pbi1kZXZpY2UtcGl4ZWwtcmF0aW86Mil7I2xvZ297YmFja2dyb3VuZDp1cmwoLy93d3cuZ29vZ2xlLmNvbS9pbWFnZXMvbG9nb3MvZXJyb3JwYWdlL2Vycm9yX2xvZ28tMTUweDU0LTJ4LnBuZykgbm8tcmVwZWF0Oy13ZWJraXQtYmFja2dyb3VuZC1zaXplOjEwMCUgMTAwJX19I2xvZ297ZGlzcGxheTppbmxpbmUtYmxvY2s7aGVpZ2h0OjU0cHg7d2lkdGg6MTUwcHh9CiAgPC9zdHlsZT4KICA8YSBocmVmPS8vd3d3Lmdvb2dsZS5jb20vPjxzcGFuIGlkPWxvZ28gYXJpYS1sYWJlbD1Hb29nbGU+PC9zcGFuPjwvYT4KICA8cD48Yj40MDQuPC9iPiA8aW5zPlRoYXTigJlzIGFuIGVycm9yLjwvaW5zPgogIDxwPiAgPGlucz5UaGF04oCZcyBhbGwgd2Uga25vdy48L2lucz4K",
       "headers": [
        [
         "content-length",
         "1449"
        ],
        [
         "content-type",
         "text/html; charset=utf-8"
        ]
       ],
       "ok": false,
       "status": 404,
       "status_text": ""
      },
      "http://localhost:8080/sites/default/files/css/css_CebIUCvzWohpifGGDKr9v7RGi7ts9I0pwloazc4HoBE.css?q7t56n": {
       "data": "CjwhRE9DVFlQRSBodG1sPgo8aHRtbCBsYW5nPWVuPgogIDxtZXRhIGNoYXJzZXQ9dXRmLTg+CiAgPG1ldGEgbmFtZT12aWV3cG9ydCBjb250ZW50PSJpbml0aWFsLXNjYWxlPTEsIG1pbmltdW0tc2NhbGU9MSwgd2lkdGg9ZGV2aWNlLXdpZHRoIj4KICA8dGl0bGU+RXJyb3IgNDA0IChOb3QgRm91bmQpISExPC90aXRsZT4KICA8c3R5bGU+CiAgICAqe21hcmdpbjowO3BhZGRpbmc6MH1odG1sLGNvZGV7Zm9udDoxNXB4LzIycHggYXJpYWwsc2Fucy1zZXJpZn1odG1se2JhY2tncm91bmQ6I2ZmZjtjb2xvcjojMjIyO3BhZGRpbmc6MTVweH1ib2R5e21hcmdpbjo3JSBhdXRvIDA7bWF4LXdpZHRoOjM5MHB4O21pbi1oZWlnaHQ6MTgwcHg7cGFkZGluZzozMHB4IDAgMTVweH0qID4gYm9keXtiYWNrZ3JvdW5kOnVybCgvL3d3dy5nb29nbGUuY29tL2ltYWdlcy9lcnJvcnMvcm9ib3QucG5nKSAxMDAlIDVweCBuby1yZXBlYXQ7cGFkZGluZy1yaWdodDoyMDVweH1we21hcmdpbjoxMXB4IDAgMjJweDtvdmVyZmxvdzpoaWRkZW59aW5ze2NvbG9yOiM3Nzc7dGV4dC1kZWNvcmF0aW9uOm5vbmV9YSBpbWd7Ym9yZGVyOjB9QG1lZGlhIHNjcmVlbiBhbmQgKG1heC13aWR0aDo3NzJweCl7Ym9keXtiYWNrZ3JvdW5kOm5vbmU7bWFyZ2luLXRvcDowO21heC13aWR0aDpub25lO3BhZGRpbmctcmlnaHQ6MH19I2xvZ297YmFja2dyb3VuZDp1cmwoLy93d3cuZ29vZ2xlLmNvbS9pbWFnZXMvbG9nb3MvZXJyb3JwYWdlL2Vycm9yX2xvZ28tMTUweDU0LnBuZykgbm8tcmVwZWF0O21hcmdpbi1sZWZ0Oi01cHh9QG1lZGlhIG9ubHkgc2NyZWVuIGFuZCAobWluLXJlc29sdXRpb246MTkyZHBpKXsjbG9nb3tiYWNrZ3JvdW5kOnVybCgvL3d3dy5nb29nbGUuY29tL2ltYWdlcy9sb2dvcy9lcnJvcnBhZ2UvZXJyb3JfbG9nby0xNTB4NTQtMngucG5nKSBuby1yZXBlYXQgMCUgMCUvMTAwJSAxMDAlOy1tb3otYm9yZGVyLWltYWdlOnVybCgvL3d3dy5nb29nbGUuY29tL2ltYWdlcy9sb2dvcy9lcnJvcnBhZ2UvZXJyb3JfbG9nby0xNTB4NTQtMngucG5nKSAwfX1AbWVkaWEgb25seSBzY3JlZW4gYW5kICgtd2Via2l0LW1pbi1kZXZpY2UtcGl4ZWwtcmF0aW86Mil7I2xvZ297YmFja2dyb3VuZDp1cmwoLy93d3cuZ29vZ2xlLmNvbS9pbWFnZXMvbG9nb3MvZXJyb3JwYWdlL2Vycm9yX2xvZ28tMTUweDU0LTJ4LnBuZykgbm8tcmVwZWF0Oy13ZWJraXQtYmFja2dyb3VuZC1zaXplOjEwMCUgMTAwJX19I2xvZ297ZGlzcGxheTppbmxpbmUtYmxvY2s7aGVpZ2h0OjU0cHg7d2lkdGg6MTUwcHh9CiAgPC9zdHlsZT4KICA8YSBocmVmPS8vd3d3Lmdvb2dsZS5jb20vPjxzcGFuIGlkPWxvZ28gYXJpYS1sYWJlbD1Hb29nbGU+PC9zcGFuPjwvYT4KICA8cD48Yj40MDQuPC9iPiA8aW5zPlRoYXTigJlzIGFuIGVycm9yLjwvaW5zPgogIDxwPiAgPGlucz5UaGF04oCZcyBhbGwgd2Uga25vdy48L2lucz4K",
       "headers": [
        [
         "content-length",
         "1449"
        ],
        [
         "content-type",
         "text/html; charset=utf-8"
        ]
       ],
       "ok": false,
       "status": 404,
       "status_text": ""
      },
      "http://localhost:8080/sites/default/files/css/css_yIfIeXYxIGgsum0pAMiEOv97B_YEREIAP164jK-pmGo.css?q7t56n": {
       "data": "CjwhRE9DVFlQRSBodG1sPgo8aHRtbCBsYW5nPWVuPgogIDxtZXRhIGNoYXJzZXQ9dXRmLTg+CiAgPG1ldGEgbmFtZT12aWV3cG9ydCBjb250ZW50PSJpbml0aWFsLXNjYWxlPTEsIG1pbmltdW0tc2NhbGU9MSwgd2lkdGg9ZGV2aWNlLXdpZHRoIj4KICA8dGl0bGU+RXJyb3IgNDA0IChOb3QgRm91bmQpISExPC90aXRsZT4KICA8c3R5bGU+CiAgICAqe21hcmdpbjowO3BhZGRpbmc6MH1odG1sLGNvZGV7Zm9udDoxNXB4LzIycHggYXJpYWwsc2Fucy1zZXJpZn1odG1se2JhY2tncm91bmQ6I2ZmZjtjb2xvcjojMjIyO3BhZGRpbmc6MTVweH1ib2R5e21hcmdpbjo3JSBhdXRvIDA7bWF4LXdpZHRoOjM5MHB4O21pbi1oZWlnaHQ6MTgwcHg7cGFkZGluZzozMHB4IDAgMTVweH0qID4gYm9keXtiYWNrZ3JvdW5kOnVybCgvL3d3dy5nb29nbGUuY29tL2ltYWdlcy9lcnJvcnMvcm9ib3QucG5nKSAxMDAlIDVweCBuby1yZXBlYXQ7cGFkZGluZy1yaWdodDoyMDVweH1we21hcmdpbjoxMXB4IDAgMjJweDtvdmVyZmxvdzpoaWRkZW59aW5ze2NvbG9yOiM3Nzc7dGV4dC1kZWNvcmF0aW9uOm5vbmV9YSBpbWd7Ym9yZGVyOjB9QG1lZGlhIHNjcmVlbiBhbmQgKG1heC13aWR0aDo3NzJweCl7Ym9keXtiYWNrZ3JvdW5kOm5vbmU7bWFyZ2luLXRvcDowO21heC13aWR0aDpub25lO3BhZGRpbmctcmlnaHQ6MH19I2xvZ297YmFja2dyb3VuZDp1cmwoLy93d3cuZ29vZ2xlLmNvbS9pbWFnZXMvbG9nb3MvZXJyb3JwYWdlL2Vycm9yX2xvZ28tMTUweDU0LnBuZykgbm8tcmVwZWF0O21hcmdpbi1sZWZ0Oi01cHh9QG1lZGlhIG9ubHkgc2NyZWVuIGFuZCAobWluLXJlc29sdXRpb246MTkyZHBpKXsjbG9nb3tiYWNrZ3JvdW5kOnVybCgvL3d3dy5nb29nbGUuY29tL2ltYWdlcy9sb2dvcy9lcnJvcnBhZ2UvZXJyb3JfbG9nby0xNTB4NTQtMngucG5nKSBuby1yZXBlYXQgMCUgMCUvMTAwJSAxMDAlOy1tb3otYm9yZGVyLWltYWdlOnVybCgvL3d3dy5nb29nbGUuY29tL2ltYWdlcy9sb2dvcy9lcnJvcnBhZ2UvZXJyb3JfbG9nby0xNTB4NTQtMngucG5nKSAwfX1AbWVkaWEgb25seSBzY3JlZW4gYW5kICgtd2Via2l0LW1pbi1kZXZpY2UtcGl4ZWwtcmF0aW86Mil7I2xvZ297YmFja2dyb3VuZDp1cmwoLy93d3cuZ29vZ2xlLmNvbS9pbWFnZXMvbG9nb3MvZXJyb3JwYWdlL2Vycm9yX2xvZ28tMTUweDU0LTJ4LnBuZykgbm8tcmVwZWF0Oy13ZWJraXQtYmFja2dyb3VuZC1zaXplOjEwMCUgMTAwJX19I2xvZ297ZGlzcGxheTppbmxpbmUtYmxvY2s7aGVpZ2h0OjU0cHg7d2lkdGg6MTUwcHh9CiAgPC9zdHlsZT4KICA8YSBocmVmPS8vd3d3Lmdvb2dsZS5jb20vPjxzcGFuIGlkPWxvZ28gYXJpYS1sYWJlbD1Hb29nbGU+PC9zcGFuPjwvYT4KICA8cD48Yj40MDQuPC9iPiA8aW5zPlRoYXTigJlzIGFuIGVycm9yLjwvaW5zPgogIDxwPiAgPGlucz5UaGF04oCZcyBhbGwgd2Uga25vdy48L2lucz4K",
       "headers": [
        [
         "content-length",
         "1449"
        ],
        [
         "content-type",
         "text/html; charset=utf-8"
        ]
       ],
       "ok": false,
       "status": 404,
       "status_text": ""
      },
      "http://localhost:8080/sites/default/files/js/js_wygTLx3G2Y9T1wOqOQClBKnR_w5iJCquztDkKh0O2TU.js": {
       "data": "CjwhRE9DVFlQRSBodG1sPgo8aHRtbCBsYW5nPWVuPgogIDxtZXRhIGNoYXJzZXQ9dXRmLTg+CiAgPG1ldGEgbmFtZT12aWV3cG9ydCBjb250ZW50PSJpbml0aWFsLXNjYWxlPTEsIG1pbmltdW0tc2NhbGU9MSwgd2lkdGg9ZGV2aWNlLXdpZHRoIj4KICA8dGl0bGU+RXJyb3IgNDA0IChOb3QgRm91bmQpISExPC90aXRsZT4KICA8c3R5bGU+CiAgICAqe21hcmdpbjowO3BhZGRpbmc6MH1odG1sLGNvZGV7Zm9udDoxNXB4LzIycHggYXJpYWwsc2Fucy1zZXJpZn1odG1se2JhY2tncm91bmQ6I2ZmZjtjb2xvcjojMjIyO3BhZGRpbmc6MTVweH1ib2R5e21hcmdpbjo3JSBhdXRvIDA7bWF4LXdpZHRoOjM5MHB4O21pbi1oZWlnaHQ6MTgwcHg7cGFkZGluZzozMHB4IDAgMTVweH0qID4gYm9keXtiYWNrZ3JvdW5kOnVybCgvL3d3dy5nb29nbGUuY29tL2ltYWdlcy9lcnJvcnMvcm9ib3QucG5nKSAxMDAlIDVweCBuby1yZXBlYXQ7cGFkZGluZy1yaWdodDoyMDVweH1we21hcmdpbjoxMXB4IDAgMjJweDtvdmVyZmxvdzpoaWRkZW59aW5ze2NvbG9yOiM3Nzc7dGV4dC1kZWNvcmF0aW9uOm5vbmV9YSBpbWd7Ym9yZGVyOjB9QG1lZGlhIHNjcmVlbiBhbmQgKG1heC13aWR0aDo3NzJweCl7Ym9keXtiYWNrZ3JvdW5kOm5vbmU7bWFyZ2luLXRvcDowO21heC13aWR0aDpub25lO3BhZGRpbmctcmlnaHQ6MH19I2xvZ297YmFja2dyb3VuZDp1cmwoLy93d3cuZ29vZ2xlLmNvbS9pbWFnZXMvbG9nb3MvZXJyb3JwYWdlL2Vycm9yX2xvZ28tMTUweDU0LnBuZykgbm8tcmVwZWF0O21hcmdpbi1sZWZ0Oi01cHh9QG1lZGlhIG9ubHkgc2NyZWVuIGFuZCAobWluLXJlc29sdXRpb246MTkyZHBpKXsjbG9nb3tiYWNrZ3JvdW5kOnVybCgvL3d3dy5nb29nbGUuY29tL2ltYWdlcy9sb2dvcy9lcnJvcnBhZ2UvZXJyb3JfbG9nby0xNTB4NTQtMngucG5nKSBuby1yZXBlYXQgMCUgMCUvMTAwJSAxMDAlOy1tb3otYm9yZGVyLWltYWdlOnVybCgvL3d3dy5nb29nbGUuY29tL2ltYWdlcy9sb2dvcy9lcnJvcnBhZ2UvZXJyb3JfbG9nby0xNTB4NTQtMngucG5nKSAwfX1AbWVkaWEgb25seSBzY3JlZW4gYW5kICgtd2Via2l0LW1pbi1kZXZpY2UtcGl4ZWwtcmF0aW86Mil7I2xvZ297YmFja2dyb3VuZDp1cmwoLy93d3cuZ29vZ2xlLmNvbS9pbWFnZXMvbG9nb3MvZXJyb3JwYWdlL2Vycm9yX2xvZ28tMTUweDU0LTJ4LnBuZykgbm8tcmVwZWF0Oy13ZWJraXQtYmFja2dyb3VuZC1zaXplOjEwMCUgMTAwJX19I2xvZ297ZGlzcGxheTppbmxpbmUtYmxvY2s7aGVpZ2h0OjU0cHg7d2lkdGg6MTUwcHh9CiAgPC9zdHlsZT4KICA8YSBocmVmPS8vd3d3Lmdvb2dsZS5jb20vPjxzcGFuIGlkPWxvZ28gYXJpYS1sYWJlbD1Hb29nbGU+PC9zcGFuPjwvYT4KICA8cD48Yj40MDQuPC9iPiA8aW5zPlRoYXTigJlzIGFuIGVycm9yLjwvaW5zPgogIDxwPiAgPGlucz5UaGF04oCZcyBhbGwgd2Uga25vdy48L2lucz4K",
       "headers": [
        [
         "content-length",
         "1449"
        ],
        [
         "content-type",
         "text/html; charset=utf-8"
        ]
       ],
       "ok": false,
       "status": 404,
       "status_text": ""
      },
      "http://localhost:8080/sites/default/files/logo.png": {
       "data": "CjwhRE9DVFlQRSBodG1sPgo8aHRtbCBsYW5nPWVuPgogIDxtZXRhIGNoYXJzZXQ9dXRmLTg+CiAgPG1ldGEgbmFtZT12aWV3cG9ydCBjb250ZW50PSJpbml0aWFsLXNjYWxlPTEsIG1pbmltdW0tc2NhbGU9MSwgd2lkdGg9ZGV2aWNlLXdpZHRoIj4KICA8dGl0bGU+RXJyb3IgNDA0IChOb3QgRm91bmQpISExPC90aXRsZT4KICA8c3R5bGU+CiAgICAqe21hcmdpbjowO3BhZGRpbmc6MH1odG1sLGNvZGV7Zm9udDoxNXB4LzIycHggYXJpYWwsc2Fucy1zZXJpZn1odG1se2JhY2tncm91bmQ6I2ZmZjtjb2xvcjojMjIyO3BhZGRpbmc6MTVweH1ib2R5e21hcmdpbjo3JSBhdXRvIDA7bWF4LXdpZHRoOjM5MHB4O21pbi1oZWlnaHQ6MTgwcHg7cGFkZGluZzozMHB4IDAgMTVweH0qID4gYm9keXtiYWNrZ3JvdW5kOnVybCgvL3d3dy5nb29nbGUuY29tL2ltYWdlcy9lcnJvcnMvcm9ib3QucG5nKSAxMDAlIDVweCBuby1yZXBlYXQ7cGFkZGluZy1yaWdodDoyMDVweH1we21hcmdpbjoxMXB4IDAgMjJweDtvdmVyZmxvdzpoaWRkZW59aW5ze2NvbG9yOiM3Nzc7dGV4dC1kZWNvcmF0aW9uOm5vbmV9YSBpbWd7Ym9yZGVyOjB9QG1lZGlhIHNjcmVlbiBhbmQgKG1heC13aWR0aDo3NzJweCl7Ym9keXtiYWNrZ3JvdW5kOm5vbmU7bWFyZ2luLXRvcDowO21heC13aWR0aDpub25lO3BhZGRpbmctcmlnaHQ6MH19I2xvZ297YmFja2dyb3VuZDp1cmwoLy93d3cuZ29vZ2xlLmNvbS9pbWFnZXMvbG9nb3MvZXJyb3JwYWdlL2Vycm9yX2xvZ28tMTUweDU0LnBuZykgbm8tcmVwZWF0O21hcmdpbi1sZWZ0Oi01cHh9QG1lZGlhIG9ubHkgc2NyZWVuIGFuZCAobWluLXJlc29sdXRpb246MTkyZHBpKXsjbG9nb3tiYWNrZ3JvdW5kOnVybCgvL3d3dy5nb29nbGUuY29tL2ltYWdlcy9sb2dvcy9lcnJvcnBhZ2UvZXJyb3JfbG9nby0xNTB4NTQtMngucG5nKSBuby1yZXBlYXQgMCUgMCUvMTAwJSAxMDAlOy1tb3otYm9yZGVyLWltYWdlOnVybCgvL3d3dy5nb29nbGUuY29tL2ltYWdlcy9sb2dvcy9lcnJvcnBhZ2UvZXJyb3JfbG9nby0xNTB4NTQtMngucG5nKSAwfX1AbWVkaWEgb25seSBzY3JlZW4gYW5kICgtd2Via2l0LW1pbi1kZXZpY2UtcGl4ZWwtcmF0aW86Mil7I2xvZ297YmFja2dyb3VuZDp1cmwoLy93d3cuZ29vZ2xlLmNvbS9pbWFnZXMvbG9nb3MvZXJyb3JwYWdlL2Vycm9yX2xvZ28tMTUweDU0LTJ4LnBuZykgbm8tcmVwZWF0Oy13ZWJraXQtYmFja2dyb3VuZC1zaXplOjEwMCUgMTAwJX19I2xvZ297ZGlzcGxheTppbmxpbmUtYmxvY2s7aGVpZ2h0OjU0cHg7d2lkdGg6MTUwcHh9CiAgPC9zdHlsZT4KICA8YSBocmVmPS8vd3d3Lmdvb2dsZS5jb20vPjxzcGFuIGlkPWxvZ28gYXJpYS1sYWJlbD1Hb29nbGU+PC9zcGFuPjwvYT4KICA8cD48Yj40MDQuPC9iPiA8aW5zPlRoYXTigJlzIGFuIGVycm9yLjwvaW5zPgogIDxwPiAgPGlucz5UaGF04oCZcyBhbGwgd2Uga25vdy48L2lucz4K",
       "headers": [
        [
         "content-length",
         "1449"
        ],
        [
         "content-type",
         "text/html; charset=utf-8"
        ]
       ],
       "ok": false,
       "status": 404,
       "status_text": ""
      }
     }
    },
    "colab_type": "code",
    "executionInfo": {
     "elapsed": 3917,
     "status": "ok",
     "timestamp": 1585609840677,
     "user": {
      "displayName": "Zohaib Hassan Farooqi",
      "photoUrl": "",
      "userId": "11436644774730670565"
     },
     "user_tz": 240
    },
    "id": "etZPqnJkIB1K",
    "outputId": "02ec052e-cf68-4390-aef7-d7d852c9fb06"
   },
   "outputs": [],
   "source": [
    "# University of London (UK)\n",
    "url = 'https://london.ac.uk/msc-data-science-and-artificial-intelligence-structure'\n"
   ]
  },
  {
   "cell_type": "code",
   "execution_count": 81,
   "metadata": {
    "colab": {
     "base_uri": "https://localhost:8080/",
     "height": 1000,
     "resources": {
      "http://localhost:8080/typo3conf/ext/cookie_consent/Resources/Public/CSS/CookieConsent.css?1584468144": {
       "data": "CjwhRE9DVFlQRSBodG1sPgo8aHRtbCBsYW5nPWVuPgogIDxtZXRhIGNoYXJzZXQ9dXRmLTg+CiAgPG1ldGEgbmFtZT12aWV3cG9ydCBjb250ZW50PSJpbml0aWFsLXNjYWxlPTEsIG1pbmltdW0tc2NhbGU9MSwgd2lkdGg9ZGV2aWNlLXdpZHRoIj4KICA8dGl0bGU+RXJyb3IgNDA0IChOb3QgRm91bmQpISExPC90aXRsZT4KICA8c3R5bGU+CiAgICAqe21hcmdpbjowO3BhZGRpbmc6MH1odG1sLGNvZGV7Zm9udDoxNXB4LzIycHggYXJpYWwsc2Fucy1zZXJpZn1odG1se2JhY2tncm91bmQ6I2ZmZjtjb2xvcjojMjIyO3BhZGRpbmc6MTVweH1ib2R5e21hcmdpbjo3JSBhdXRvIDA7bWF4LXdpZHRoOjM5MHB4O21pbi1oZWlnaHQ6MTgwcHg7cGFkZGluZzozMHB4IDAgMTVweH0qID4gYm9keXtiYWNrZ3JvdW5kOnVybCgvL3d3dy5nb29nbGUuY29tL2ltYWdlcy9lcnJvcnMvcm9ib3QucG5nKSAxMDAlIDVweCBuby1yZXBlYXQ7cGFkZGluZy1yaWdodDoyMDVweH1we21hcmdpbjoxMXB4IDAgMjJweDtvdmVyZmxvdzpoaWRkZW59aW5ze2NvbG9yOiM3Nzc7dGV4dC1kZWNvcmF0aW9uOm5vbmV9YSBpbWd7Ym9yZGVyOjB9QG1lZGlhIHNjcmVlbiBhbmQgKG1heC13aWR0aDo3NzJweCl7Ym9keXtiYWNrZ3JvdW5kOm5vbmU7bWFyZ2luLXRvcDowO21heC13aWR0aDpub25lO3BhZGRpbmctcmlnaHQ6MH19I2xvZ297YmFja2dyb3VuZDp1cmwoLy93d3cuZ29vZ2xlLmNvbS9pbWFnZXMvbG9nb3MvZXJyb3JwYWdlL2Vycm9yX2xvZ28tMTUweDU0LnBuZykgbm8tcmVwZWF0O21hcmdpbi1sZWZ0Oi01cHh9QG1lZGlhIG9ubHkgc2NyZWVuIGFuZCAobWluLXJlc29sdXRpb246MTkyZHBpKXsjbG9nb3tiYWNrZ3JvdW5kOnVybCgvL3d3dy5nb29nbGUuY29tL2ltYWdlcy9sb2dvcy9lcnJvcnBhZ2UvZXJyb3JfbG9nby0xNTB4NTQtMngucG5nKSBuby1yZXBlYXQgMCUgMCUvMTAwJSAxMDAlOy1tb3otYm9yZGVyLWltYWdlOnVybCgvL3d3dy5nb29nbGUuY29tL2ltYWdlcy9sb2dvcy9lcnJvcnBhZ2UvZXJyb3JfbG9nby0xNTB4NTQtMngucG5nKSAwfX1AbWVkaWEgb25seSBzY3JlZW4gYW5kICgtd2Via2l0LW1pbi1kZXZpY2UtcGl4ZWwtcmF0aW86Mil7I2xvZ297YmFja2dyb3VuZDp1cmwoLy93d3cuZ29vZ2xlLmNvbS9pbWFnZXMvbG9nb3MvZXJyb3JwYWdlL2Vycm9yX2xvZ28tMTUweDU0LTJ4LnBuZykgbm8tcmVwZWF0Oy13ZWJraXQtYmFja2dyb3VuZC1zaXplOjEwMCUgMTAwJX19I2xvZ297ZGlzcGxheTppbmxpbmUtYmxvY2s7aGVpZ2h0OjU0cHg7d2lkdGg6MTUwcHh9CiAgPC9zdHlsZT4KICA8YSBocmVmPS8vd3d3Lmdvb2dsZS5jb20vPjxzcGFuIGlkPWxvZ28gYXJpYS1sYWJlbD1Hb29nbGU+PC9zcGFuPjwvYT4KICA8cD48Yj40MDQuPC9iPiA8aW5zPlRoYXTigJlzIGFuIGVycm9yLjwvaW5zPgogIDxwPiAgPGlucz5UaGF04oCZcyBhbGwgd2Uga25vdy48L2lucz4K",
       "headers": [
        [
         "content-length",
         "1449"
        ],
        [
         "content-type",
         "text/html; charset=utf-8"
        ]
       ],
       "ok": false,
       "status": 404,
       "status_text": ""
      },
      "http://localhost:8080/typo3conf/ext/tue_menu/Resources/Public/CSS/TueMenu.min.css?1584468236": {
       "data": "CjwhRE9DVFlQRSBodG1sPgo8aHRtbCBsYW5nPWVuPgogIDxtZXRhIGNoYXJzZXQ9dXRmLTg+CiAgPG1ldGEgbmFtZT12aWV3cG9ydCBjb250ZW50PSJpbml0aWFsLXNjYWxlPTEsIG1pbmltdW0tc2NhbGU9MSwgd2lkdGg9ZGV2aWNlLXdpZHRoIj4KICA8dGl0bGU+RXJyb3IgNDA0IChOb3QgRm91bmQpISExPC90aXRsZT4KICA8c3R5bGU+CiAgICAqe21hcmdpbjowO3BhZGRpbmc6MH1odG1sLGNvZGV7Zm9udDoxNXB4LzIycHggYXJpYWwsc2Fucy1zZXJpZn1odG1se2JhY2tncm91bmQ6I2ZmZjtjb2xvcjojMjIyO3BhZGRpbmc6MTVweH1ib2R5e21hcmdpbjo3JSBhdXRvIDA7bWF4LXdpZHRoOjM5MHB4O21pbi1oZWlnaHQ6MTgwcHg7cGFkZGluZzozMHB4IDAgMTVweH0qID4gYm9keXtiYWNrZ3JvdW5kOnVybCgvL3d3dy5nb29nbGUuY29tL2ltYWdlcy9lcnJvcnMvcm9ib3QucG5nKSAxMDAlIDVweCBuby1yZXBlYXQ7cGFkZGluZy1yaWdodDoyMDVweH1we21hcmdpbjoxMXB4IDAgMjJweDtvdmVyZmxvdzpoaWRkZW59aW5ze2NvbG9yOiM3Nzc7dGV4dC1kZWNvcmF0aW9uOm5vbmV9YSBpbWd7Ym9yZGVyOjB9QG1lZGlhIHNjcmVlbiBhbmQgKG1heC13aWR0aDo3NzJweCl7Ym9keXtiYWNrZ3JvdW5kOm5vbmU7bWFyZ2luLXRvcDowO21heC13aWR0aDpub25lO3BhZGRpbmctcmlnaHQ6MH19I2xvZ297YmFja2dyb3VuZDp1cmwoLy93d3cuZ29vZ2xlLmNvbS9pbWFnZXMvbG9nb3MvZXJyb3JwYWdlL2Vycm9yX2xvZ28tMTUweDU0LnBuZykgbm8tcmVwZWF0O21hcmdpbi1sZWZ0Oi01cHh9QG1lZGlhIG9ubHkgc2NyZWVuIGFuZCAobWluLXJlc29sdXRpb246MTkyZHBpKXsjbG9nb3tiYWNrZ3JvdW5kOnVybCgvL3d3dy5nb29nbGUuY29tL2ltYWdlcy9sb2dvcy9lcnJvcnBhZ2UvZXJyb3JfbG9nby0xNTB4NTQtMngucG5nKSBuby1yZXBlYXQgMCUgMCUvMTAwJSAxMDAlOy1tb3otYm9yZGVyLWltYWdlOnVybCgvL3d3dy5nb29nbGUuY29tL2ltYWdlcy9sb2dvcy9lcnJvcnBhZ2UvZXJyb3JfbG9nby0xNTB4NTQtMngucG5nKSAwfX1AbWVkaWEgb25seSBzY3JlZW4gYW5kICgtd2Via2l0LW1pbi1kZXZpY2UtcGl4ZWwtcmF0aW86Mil7I2xvZ297YmFja2dyb3VuZDp1cmwoLy93d3cuZ29vZ2xlLmNvbS9pbWFnZXMvbG9nb3MvZXJyb3JwYWdlL2Vycm9yX2xvZ28tMTUweDU0LTJ4LnBuZykgbm8tcmVwZWF0Oy13ZWJraXQtYmFja2dyb3VuZC1zaXplOjEwMCUgMTAwJX19I2xvZ297ZGlzcGxheTppbmxpbmUtYmxvY2s7aGVpZ2h0OjU0cHg7d2lkdGg6MTUwcHh9CiAgPC9zdHlsZT4KICA8YSBocmVmPS8vd3d3Lmdvb2dsZS5jb20vPjxzcGFuIGlkPWxvZ28gYXJpYS1sYWJlbD1Hb29nbGU+PC9zcGFuPjwvYT4KICA8cD48Yj40MDQuPC9iPiA8aW5zPlRoYXTigJlzIGFuIGVycm9yLjwvaW5zPgogIDxwPiAgPGlucz5UaGF04oCZcyBhbGwgd2Uga25vdy48L2lucz4K",
       "headers": [
        [
         "content-length",
         "1449"
        ],
        [
         "content-type",
         "text/html; charset=utf-8"
        ]
       ],
       "ok": false,
       "status": 404,
       "status_text": ""
      },
      "http://localhost:8080/typo3conf/ext/tue_styling/Resources/Public/CSS/TueStyling.min.css?1584468239": {
       "data": "CjwhRE9DVFlQRSBodG1sPgo8aHRtbCBsYW5nPWVuPgogIDxtZXRhIGNoYXJzZXQ9dXRmLTg+CiAgPG1ldGEgbmFtZT12aWV3cG9ydCBjb250ZW50PSJpbml0aWFsLXNjYWxlPTEsIG1pbmltdW0tc2NhbGU9MSwgd2lkdGg9ZGV2aWNlLXdpZHRoIj4KICA8dGl0bGU+RXJyb3IgNDA0IChOb3QgRm91bmQpISExPC90aXRsZT4KICA8c3R5bGU+CiAgICAqe21hcmdpbjowO3BhZGRpbmc6MH1odG1sLGNvZGV7Zm9udDoxNXB4LzIycHggYXJpYWwsc2Fucy1zZXJpZn1odG1se2JhY2tncm91bmQ6I2ZmZjtjb2xvcjojMjIyO3BhZGRpbmc6MTVweH1ib2R5e21hcmdpbjo3JSBhdXRvIDA7bWF4LXdpZHRoOjM5MHB4O21pbi1oZWlnaHQ6MTgwcHg7cGFkZGluZzozMHB4IDAgMTVweH0qID4gYm9keXtiYWNrZ3JvdW5kOnVybCgvL3d3dy5nb29nbGUuY29tL2ltYWdlcy9lcnJvcnMvcm9ib3QucG5nKSAxMDAlIDVweCBuby1yZXBlYXQ7cGFkZGluZy1yaWdodDoyMDVweH1we21hcmdpbjoxMXB4IDAgMjJweDtvdmVyZmxvdzpoaWRkZW59aW5ze2NvbG9yOiM3Nzc7dGV4dC1kZWNvcmF0aW9uOm5vbmV9YSBpbWd7Ym9yZGVyOjB9QG1lZGlhIHNjcmVlbiBhbmQgKG1heC13aWR0aDo3NzJweCl7Ym9keXtiYWNrZ3JvdW5kOm5vbmU7bWFyZ2luLXRvcDowO21heC13aWR0aDpub25lO3BhZGRpbmctcmlnaHQ6MH19I2xvZ297YmFja2dyb3VuZDp1cmwoLy93d3cuZ29vZ2xlLmNvbS9pbWFnZXMvbG9nb3MvZXJyb3JwYWdlL2Vycm9yX2xvZ28tMTUweDU0LnBuZykgbm8tcmVwZWF0O21hcmdpbi1sZWZ0Oi01cHh9QG1lZGlhIG9ubHkgc2NyZWVuIGFuZCAobWluLXJlc29sdXRpb246MTkyZHBpKXsjbG9nb3tiYWNrZ3JvdW5kOnVybCgvL3d3dy5nb29nbGUuY29tL2ltYWdlcy9sb2dvcy9lcnJvcnBhZ2UvZXJyb3JfbG9nby0xNTB4NTQtMngucG5nKSBuby1yZXBlYXQgMCUgMCUvMTAwJSAxMDAlOy1tb3otYm9yZGVyLWltYWdlOnVybCgvL3d3dy5nb29nbGUuY29tL2ltYWdlcy9sb2dvcy9lcnJvcnBhZ2UvZXJyb3JfbG9nby0xNTB4NTQtMngucG5nKSAwfX1AbWVkaWEgb25seSBzY3JlZW4gYW5kICgtd2Via2l0LW1pbi1kZXZpY2UtcGl4ZWwtcmF0aW86Mil7I2xvZ297YmFja2dyb3VuZDp1cmwoLy93d3cuZ29vZ2xlLmNvbS9pbWFnZXMvbG9nb3MvZXJyb3JwYWdlL2Vycm9yX2xvZ28tMTUweDU0LTJ4LnBuZykgbm8tcmVwZWF0Oy13ZWJraXQtYmFja2dyb3VuZC1zaXplOjEwMCUgMTAwJX19I2xvZ297ZGlzcGxheTppbmxpbmUtYmxvY2s7aGVpZ2h0OjU0cHg7d2lkdGg6MTUwcHh9CiAgPC9zdHlsZT4KICA8YSBocmVmPS8vd3d3Lmdvb2dsZS5jb20vPjxzcGFuIGlkPWxvZ28gYXJpYS1sYWJlbD1Hb29nbGU+PC9zcGFuPjwvYT4KICA8cD48Yj40MDQuPC9iPiA8aW5zPlRoYXTigJlzIGFuIGVycm9yLjwvaW5zPgogIDxwPiAgPGlucz5UaGF04oCZcyBhbGwgd2Uga25vdy48L2lucz4K",
       "headers": [
        [
         "content-length",
         "1449"
        ],
        [
         "content-type",
         "text/html; charset=utf-8"
        ]
       ],
       "ok": false,
       "status": 404,
       "status_text": ""
      },
      "http://localhost:8080/typo3conf/ext/tue_styling/Resources/Public/CSS/Vendor/slick-1.8.0.min.css?1584468145": {
       "data": "CjwhRE9DVFlQRSBodG1sPgo8aHRtbCBsYW5nPWVuPgogIDxtZXRhIGNoYXJzZXQ9dXRmLTg+CiAgPG1ldGEgbmFtZT12aWV3cG9ydCBjb250ZW50PSJpbml0aWFsLXNjYWxlPTEsIG1pbmltdW0tc2NhbGU9MSwgd2lkdGg9ZGV2aWNlLXdpZHRoIj4KICA8dGl0bGU+RXJyb3IgNDA0IChOb3QgRm91bmQpISExPC90aXRsZT4KICA8c3R5bGU+CiAgICAqe21hcmdpbjowO3BhZGRpbmc6MH1odG1sLGNvZGV7Zm9udDoxNXB4LzIycHggYXJpYWwsc2Fucy1zZXJpZn1odG1se2JhY2tncm91bmQ6I2ZmZjtjb2xvcjojMjIyO3BhZGRpbmc6MTVweH1ib2R5e21hcmdpbjo3JSBhdXRvIDA7bWF4LXdpZHRoOjM5MHB4O21pbi1oZWlnaHQ6MTgwcHg7cGFkZGluZzozMHB4IDAgMTVweH0qID4gYm9keXtiYWNrZ3JvdW5kOnVybCgvL3d3dy5nb29nbGUuY29tL2ltYWdlcy9lcnJvcnMvcm9ib3QucG5nKSAxMDAlIDVweCBuby1yZXBlYXQ7cGFkZGluZy1yaWdodDoyMDVweH1we21hcmdpbjoxMXB4IDAgMjJweDtvdmVyZmxvdzpoaWRkZW59aW5ze2NvbG9yOiM3Nzc7dGV4dC1kZWNvcmF0aW9uOm5vbmV9YSBpbWd7Ym9yZGVyOjB9QG1lZGlhIHNjcmVlbiBhbmQgKG1heC13aWR0aDo3NzJweCl7Ym9keXtiYWNrZ3JvdW5kOm5vbmU7bWFyZ2luLXRvcDowO21heC13aWR0aDpub25lO3BhZGRpbmctcmlnaHQ6MH19I2xvZ297YmFja2dyb3VuZDp1cmwoLy93d3cuZ29vZ2xlLmNvbS9pbWFnZXMvbG9nb3MvZXJyb3JwYWdlL2Vycm9yX2xvZ28tMTUweDU0LnBuZykgbm8tcmVwZWF0O21hcmdpbi1sZWZ0Oi01cHh9QG1lZGlhIG9ubHkgc2NyZWVuIGFuZCAobWluLXJlc29sdXRpb246MTkyZHBpKXsjbG9nb3tiYWNrZ3JvdW5kOnVybCgvL3d3dy5nb29nbGUuY29tL2ltYWdlcy9sb2dvcy9lcnJvcnBhZ2UvZXJyb3JfbG9nby0xNTB4NTQtMngucG5nKSBuby1yZXBlYXQgMCUgMCUvMTAwJSAxMDAlOy1tb3otYm9yZGVyLWltYWdlOnVybCgvL3d3dy5nb29nbGUuY29tL2ltYWdlcy9sb2dvcy9lcnJvcnBhZ2UvZXJyb3JfbG9nby0xNTB4NTQtMngucG5nKSAwfX1AbWVkaWEgb25seSBzY3JlZW4gYW5kICgtd2Via2l0LW1pbi1kZXZpY2UtcGl4ZWwtcmF0aW86Mil7I2xvZ297YmFja2dyb3VuZDp1cmwoLy93d3cuZ29vZ2xlLmNvbS9pbWFnZXMvbG9nb3MvZXJyb3JwYWdlL2Vycm9yX2xvZ28tMTUweDU0LTJ4LnBuZykgbm8tcmVwZWF0Oy13ZWJraXQtYmFja2dyb3VuZC1zaXplOjEwMCUgMTAwJX19I2xvZ297ZGlzcGxheTppbmxpbmUtYmxvY2s7aGVpZ2h0OjU0cHg7d2lkdGg6MTUwcHh9CiAgPC9zdHlsZT4KICA8YSBocmVmPS8vd3d3Lmdvb2dsZS5jb20vPjxzcGFuIGlkPWxvZ28gYXJpYS1sYWJlbD1Hb29nbGU+PC9zcGFuPjwvYT4KICA8cD48Yj40MDQuPC9iPiA8aW5zPlRoYXTigJlzIGFuIGVycm9yLjwvaW5zPgogIDxwPiAgPGlucz5UaGF04oCZcyBhbGwgd2Uga25vdy48L2lucz4K",
       "headers": [
        [
         "content-length",
         "1449"
        ],
        [
         "content-type",
         "text/html; charset=utf-8"
        ]
       ],
       "ok": false,
       "status": 404,
       "status_text": ""
      },
      "http://localhost:8080/typo3conf/ext/www_tue_nl/Resources/Public/CSS/Style.min.css?1584468243": {
       "data": "CjwhRE9DVFlQRSBodG1sPgo8aHRtbCBsYW5nPWVuPgogIDxtZXRhIGNoYXJzZXQ9dXRmLTg+CiAgPG1ldGEgbmFtZT12aWV3cG9ydCBjb250ZW50PSJpbml0aWFsLXNjYWxlPTEsIG1pbmltdW0tc2NhbGU9MSwgd2lkdGg9ZGV2aWNlLXdpZHRoIj4KICA8dGl0bGU+RXJyb3IgNDA0IChOb3QgRm91bmQpISExPC90aXRsZT4KICA8c3R5bGU+CiAgICAqe21hcmdpbjowO3BhZGRpbmc6MH1odG1sLGNvZGV7Zm9udDoxNXB4LzIycHggYXJpYWwsc2Fucy1zZXJpZn1odG1se2JhY2tncm91bmQ6I2ZmZjtjb2xvcjojMjIyO3BhZGRpbmc6MTVweH1ib2R5e21hcmdpbjo3JSBhdXRvIDA7bWF4LXdpZHRoOjM5MHB4O21pbi1oZWlnaHQ6MTgwcHg7cGFkZGluZzozMHB4IDAgMTVweH0qID4gYm9keXtiYWNrZ3JvdW5kOnVybCgvL3d3dy5nb29nbGUuY29tL2ltYWdlcy9lcnJvcnMvcm9ib3QucG5nKSAxMDAlIDVweCBuby1yZXBlYXQ7cGFkZGluZy1yaWdodDoyMDVweH1we21hcmdpbjoxMXB4IDAgMjJweDtvdmVyZmxvdzpoaWRkZW59aW5ze2NvbG9yOiM3Nzc7dGV4dC1kZWNvcmF0aW9uOm5vbmV9YSBpbWd7Ym9yZGVyOjB9QG1lZGlhIHNjcmVlbiBhbmQgKG1heC13aWR0aDo3NzJweCl7Ym9keXtiYWNrZ3JvdW5kOm5vbmU7bWFyZ2luLXRvcDowO21heC13aWR0aDpub25lO3BhZGRpbmctcmlnaHQ6MH19I2xvZ297YmFja2dyb3VuZDp1cmwoLy93d3cuZ29vZ2xlLmNvbS9pbWFnZXMvbG9nb3MvZXJyb3JwYWdlL2Vycm9yX2xvZ28tMTUweDU0LnBuZykgbm8tcmVwZWF0O21hcmdpbi1sZWZ0Oi01cHh9QG1lZGlhIG9ubHkgc2NyZWVuIGFuZCAobWluLXJlc29sdXRpb246MTkyZHBpKXsjbG9nb3tiYWNrZ3JvdW5kOnVybCgvL3d3dy5nb29nbGUuY29tL2ltYWdlcy9sb2dvcy9lcnJvcnBhZ2UvZXJyb3JfbG9nby0xNTB4NTQtMngucG5nKSBuby1yZXBlYXQgMCUgMCUvMTAwJSAxMDAlOy1tb3otYm9yZGVyLWltYWdlOnVybCgvL3d3dy5nb29nbGUuY29tL2ltYWdlcy9sb2dvcy9lcnJvcnBhZ2UvZXJyb3JfbG9nby0xNTB4NTQtMngucG5nKSAwfX1AbWVkaWEgb25seSBzY3JlZW4gYW5kICgtd2Via2l0LW1pbi1kZXZpY2UtcGl4ZWwtcmF0aW86Mil7I2xvZ297YmFja2dyb3VuZDp1cmwoLy93d3cuZ29vZ2xlLmNvbS9pbWFnZXMvbG9nb3MvZXJyb3JwYWdlL2Vycm9yX2xvZ28tMTUweDU0LTJ4LnBuZykgbm8tcmVwZWF0Oy13ZWJraXQtYmFja2dyb3VuZC1zaXplOjEwMCUgMTAwJX19I2xvZ297ZGlzcGxheTppbmxpbmUtYmxvY2s7aGVpZ2h0OjU0cHg7d2lkdGg6MTUwcHh9CiAgPC9zdHlsZT4KICA8YSBocmVmPS8vd3d3Lmdvb2dsZS5jb20vPjxzcGFuIGlkPWxvZ28gYXJpYS1sYWJlbD1Hb29nbGU+PC9zcGFuPjwvYT4KICA8cD48Yj40MDQuPC9iPiA8aW5zPlRoYXTigJlzIGFuIGVycm9yLjwvaW5zPgogIDxwPiAgPGlucz5UaGF04oCZcyBhbGwgd2Uga25vdy48L2lucz4K",
       "headers": [
        [
         "content-length",
         "1449"
        ],
        [
         "content-type",
         "text/html; charset=utf-8"
        ]
       ],
       "ok": false,
       "status": 404,
       "status_text": ""
      },
      "http://localhost:8080/typo3conf/ext/www_tue_nl/Resources/Public/CSS/magnific-popup.css?1584468196": {
       "data": "CjwhRE9DVFlQRSBodG1sPgo8aHRtbCBsYW5nPWVuPgogIDxtZXRhIGNoYXJzZXQ9dXRmLTg+CiAgPG1ldGEgbmFtZT12aWV3cG9ydCBjb250ZW50PSJpbml0aWFsLXNjYWxlPTEsIG1pbmltdW0tc2NhbGU9MSwgd2lkdGg9ZGV2aWNlLXdpZHRoIj4KICA8dGl0bGU+RXJyb3IgNDA0IChOb3QgRm91bmQpISExPC90aXRsZT4KICA8c3R5bGU+CiAgICAqe21hcmdpbjowO3BhZGRpbmc6MH1odG1sLGNvZGV7Zm9udDoxNXB4LzIycHggYXJpYWwsc2Fucy1zZXJpZn1odG1se2JhY2tncm91bmQ6I2ZmZjtjb2xvcjojMjIyO3BhZGRpbmc6MTVweH1ib2R5e21hcmdpbjo3JSBhdXRvIDA7bWF4LXdpZHRoOjM5MHB4O21pbi1oZWlnaHQ6MTgwcHg7cGFkZGluZzozMHB4IDAgMTVweH0qID4gYm9keXtiYWNrZ3JvdW5kOnVybCgvL3d3dy5nb29nbGUuY29tL2ltYWdlcy9lcnJvcnMvcm9ib3QucG5nKSAxMDAlIDVweCBuby1yZXBlYXQ7cGFkZGluZy1yaWdodDoyMDVweH1we21hcmdpbjoxMXB4IDAgMjJweDtvdmVyZmxvdzpoaWRkZW59aW5ze2NvbG9yOiM3Nzc7dGV4dC1kZWNvcmF0aW9uOm5vbmV9YSBpbWd7Ym9yZGVyOjB9QG1lZGlhIHNjcmVlbiBhbmQgKG1heC13aWR0aDo3NzJweCl7Ym9keXtiYWNrZ3JvdW5kOm5vbmU7bWFyZ2luLXRvcDowO21heC13aWR0aDpub25lO3BhZGRpbmctcmlnaHQ6MH19I2xvZ297YmFja2dyb3VuZDp1cmwoLy93d3cuZ29vZ2xlLmNvbS9pbWFnZXMvbG9nb3MvZXJyb3JwYWdlL2Vycm9yX2xvZ28tMTUweDU0LnBuZykgbm8tcmVwZWF0O21hcmdpbi1sZWZ0Oi01cHh9QG1lZGlhIG9ubHkgc2NyZWVuIGFuZCAobWluLXJlc29sdXRpb246MTkyZHBpKXsjbG9nb3tiYWNrZ3JvdW5kOnVybCgvL3d3dy5nb29nbGUuY29tL2ltYWdlcy9sb2dvcy9lcnJvcnBhZ2UvZXJyb3JfbG9nby0xNTB4NTQtMngucG5nKSBuby1yZXBlYXQgMCUgMCUvMTAwJSAxMDAlOy1tb3otYm9yZGVyLWltYWdlOnVybCgvL3d3dy5nb29nbGUuY29tL2ltYWdlcy9sb2dvcy9lcnJvcnBhZ2UvZXJyb3JfbG9nby0xNTB4NTQtMngucG5nKSAwfX1AbWVkaWEgb25seSBzY3JlZW4gYW5kICgtd2Via2l0LW1pbi1kZXZpY2UtcGl4ZWwtcmF0aW86Mil7I2xvZ297YmFja2dyb3VuZDp1cmwoLy93d3cuZ29vZ2xlLmNvbS9pbWFnZXMvbG9nb3MvZXJyb3JwYWdlL2Vycm9yX2xvZ28tMTUweDU0LTJ4LnBuZykgbm8tcmVwZWF0Oy13ZWJraXQtYmFja2dyb3VuZC1zaXplOjEwMCUgMTAwJX19I2xvZ297ZGlzcGxheTppbmxpbmUtYmxvY2s7aGVpZ2h0OjU0cHg7d2lkdGg6MTUwcHh9CiAgPC9zdHlsZT4KICA8YSBocmVmPS8vd3d3Lmdvb2dsZS5jb20vPjxzcGFuIGlkPWxvZ28gYXJpYS1sYWJlbD1Hb29nbGU+PC9zcGFuPjwvYT4KICA8cD48Yj40MDQuPC9iPiA8aW5zPlRoYXTigJlzIGFuIGVycm9yLjwvaW5zPgogIDxwPiAgPGlucz5UaGF04oCZcyBhbGwgd2Uga25vdy48L2lucz4K",
       "headers": [
        [
         "content-length",
         "1449"
        ],
        [
         "content-type",
         "text/html; charset=utf-8"
        ]
       ],
       "ok": false,
       "status": 404,
       "status_text": ""
      },
      "http://localhost:8080/typo3conf/ext/www_tue_nl/Resources/Public/CSS/pikaday.min.css?1584468196": {
       "data": "CjwhRE9DVFlQRSBodG1sPgo8aHRtbCBsYW5nPWVuPgogIDxtZXRhIGNoYXJzZXQ9dXRmLTg+CiAgPG1ldGEgbmFtZT12aWV3cG9ydCBjb250ZW50PSJpbml0aWFsLXNjYWxlPTEsIG1pbmltdW0tc2NhbGU9MSwgd2lkdGg9ZGV2aWNlLXdpZHRoIj4KICA8dGl0bGU+RXJyb3IgNDA0IChOb3QgRm91bmQpISExPC90aXRsZT4KICA8c3R5bGU+CiAgICAqe21hcmdpbjowO3BhZGRpbmc6MH1odG1sLGNvZGV7Zm9udDoxNXB4LzIycHggYXJpYWwsc2Fucy1zZXJpZn1odG1se2JhY2tncm91bmQ6I2ZmZjtjb2xvcjojMjIyO3BhZGRpbmc6MTVweH1ib2R5e21hcmdpbjo3JSBhdXRvIDA7bWF4LXdpZHRoOjM5MHB4O21pbi1oZWlnaHQ6MTgwcHg7cGFkZGluZzozMHB4IDAgMTVweH0qID4gYm9keXtiYWNrZ3JvdW5kOnVybCgvL3d3dy5nb29nbGUuY29tL2ltYWdlcy9lcnJvcnMvcm9ib3QucG5nKSAxMDAlIDVweCBuby1yZXBlYXQ7cGFkZGluZy1yaWdodDoyMDVweH1we21hcmdpbjoxMXB4IDAgMjJweDtvdmVyZmxvdzpoaWRkZW59aW5ze2NvbG9yOiM3Nzc7dGV4dC1kZWNvcmF0aW9uOm5vbmV9YSBpbWd7Ym9yZGVyOjB9QG1lZGlhIHNjcmVlbiBhbmQgKG1heC13aWR0aDo3NzJweCl7Ym9keXtiYWNrZ3JvdW5kOm5vbmU7bWFyZ2luLXRvcDowO21heC13aWR0aDpub25lO3BhZGRpbmctcmlnaHQ6MH19I2xvZ297YmFja2dyb3VuZDp1cmwoLy93d3cuZ29vZ2xlLmNvbS9pbWFnZXMvbG9nb3MvZXJyb3JwYWdlL2Vycm9yX2xvZ28tMTUweDU0LnBuZykgbm8tcmVwZWF0O21hcmdpbi1sZWZ0Oi01cHh9QG1lZGlhIG9ubHkgc2NyZWVuIGFuZCAobWluLXJlc29sdXRpb246MTkyZHBpKXsjbG9nb3tiYWNrZ3JvdW5kOnVybCgvL3d3dy5nb29nbGUuY29tL2ltYWdlcy9sb2dvcy9lcnJvcnBhZ2UvZXJyb3JfbG9nby0xNTB4NTQtMngucG5nKSBuby1yZXBlYXQgMCUgMCUvMTAwJSAxMDAlOy1tb3otYm9yZGVyLWltYWdlOnVybCgvL3d3dy5nb29nbGUuY29tL2ltYWdlcy9sb2dvcy9lcnJvcnBhZ2UvZXJyb3JfbG9nby0xNTB4NTQtMngucG5nKSAwfX1AbWVkaWEgb25seSBzY3JlZW4gYW5kICgtd2Via2l0LW1pbi1kZXZpY2UtcGl4ZWwtcmF0aW86Mil7I2xvZ297YmFja2dyb3VuZDp1cmwoLy93d3cuZ29vZ2xlLmNvbS9pbWFnZXMvbG9nb3MvZXJyb3JwYWdlL2Vycm9yX2xvZ28tMTUweDU0LTJ4LnBuZykgbm8tcmVwZWF0Oy13ZWJraXQtYmFja2dyb3VuZC1zaXplOjEwMCUgMTAwJX19I2xvZ297ZGlzcGxheTppbmxpbmUtYmxvY2s7aGVpZ2h0OjU0cHg7d2lkdGg6MTUwcHh9CiAgPC9zdHlsZT4KICA8YSBocmVmPS8vd3d3Lmdvb2dsZS5jb20vPjxzcGFuIGlkPWxvZ28gYXJpYS1sYWJlbD1Hb29nbGU+PC9zcGFuPjwvYT4KICA8cD48Yj40MDQuPC9iPiA8aW5zPlRoYXTigJlzIGFuIGVycm9yLjwvaW5zPgogIDxwPiAgPGlucz5UaGF04oCZcyBhbGwgd2Uga25vdy48L2lucz4K",
       "headers": [
        [
         "content-length",
         "1449"
        ],
        [
         "content-type",
         "text/html; charset=utf-8"
        ]
       ],
       "ok": false,
       "status": 404,
       "status_text": ""
      },
      "http://localhost:8080/typo3conf/ext/www_tue_nl/Resources/Public/JavaScript/jquery-1.11.2.js?1584468246": {
       "data": "CjwhRE9DVFlQRSBodG1sPgo8aHRtbCBsYW5nPWVuPgogIDxtZXRhIGNoYXJzZXQ9dXRmLTg+CiAgPG1ldGEgbmFtZT12aWV3cG9ydCBjb250ZW50PSJpbml0aWFsLXNjYWxlPTEsIG1pbmltdW0tc2NhbGU9MSwgd2lkdGg9ZGV2aWNlLXdpZHRoIj4KICA8dGl0bGU+RXJyb3IgNDA0IChOb3QgRm91bmQpISExPC90aXRsZT4KICA8c3R5bGU+CiAgICAqe21hcmdpbjowO3BhZGRpbmc6MH1odG1sLGNvZGV7Zm9udDoxNXB4LzIycHggYXJpYWwsc2Fucy1zZXJpZn1odG1se2JhY2tncm91bmQ6I2ZmZjtjb2xvcjojMjIyO3BhZGRpbmc6MTVweH1ib2R5e21hcmdpbjo3JSBhdXRvIDA7bWF4LXdpZHRoOjM5MHB4O21pbi1oZWlnaHQ6MTgwcHg7cGFkZGluZzozMHB4IDAgMTVweH0qID4gYm9keXtiYWNrZ3JvdW5kOnVybCgvL3d3dy5nb29nbGUuY29tL2ltYWdlcy9lcnJvcnMvcm9ib3QucG5nKSAxMDAlIDVweCBuby1yZXBlYXQ7cGFkZGluZy1yaWdodDoyMDVweH1we21hcmdpbjoxMXB4IDAgMjJweDtvdmVyZmxvdzpoaWRkZW59aW5ze2NvbG9yOiM3Nzc7dGV4dC1kZWNvcmF0aW9uOm5vbmV9YSBpbWd7Ym9yZGVyOjB9QG1lZGlhIHNjcmVlbiBhbmQgKG1heC13aWR0aDo3NzJweCl7Ym9keXtiYWNrZ3JvdW5kOm5vbmU7bWFyZ2luLXRvcDowO21heC13aWR0aDpub25lO3BhZGRpbmctcmlnaHQ6MH19I2xvZ297YmFja2dyb3VuZDp1cmwoLy93d3cuZ29vZ2xlLmNvbS9pbWFnZXMvbG9nb3MvZXJyb3JwYWdlL2Vycm9yX2xvZ28tMTUweDU0LnBuZykgbm8tcmVwZWF0O21hcmdpbi1sZWZ0Oi01cHh9QG1lZGlhIG9ubHkgc2NyZWVuIGFuZCAobWluLXJlc29sdXRpb246MTkyZHBpKXsjbG9nb3tiYWNrZ3JvdW5kOnVybCgvL3d3dy5nb29nbGUuY29tL2ltYWdlcy9sb2dvcy9lcnJvcnBhZ2UvZXJyb3JfbG9nby0xNTB4NTQtMngucG5nKSBuby1yZXBlYXQgMCUgMCUvMTAwJSAxMDAlOy1tb3otYm9yZGVyLWltYWdlOnVybCgvL3d3dy5nb29nbGUuY29tL2ltYWdlcy9sb2dvcy9lcnJvcnBhZ2UvZXJyb3JfbG9nby0xNTB4NTQtMngucG5nKSAwfX1AbWVkaWEgb25seSBzY3JlZW4gYW5kICgtd2Via2l0LW1pbi1kZXZpY2UtcGl4ZWwtcmF0aW86Mil7I2xvZ297YmFja2dyb3VuZDp1cmwoLy93d3cuZ29vZ2xlLmNvbS9pbWFnZXMvbG9nb3MvZXJyb3JwYWdlL2Vycm9yX2xvZ28tMTUweDU0LTJ4LnBuZykgbm8tcmVwZWF0Oy13ZWJraXQtYmFja2dyb3VuZC1zaXplOjEwMCUgMTAwJX19I2xvZ297ZGlzcGxheTppbmxpbmUtYmxvY2s7aGVpZ2h0OjU0cHg7d2lkdGg6MTUwcHh9CiAgPC9zdHlsZT4KICA8YSBocmVmPS8vd3d3Lmdvb2dsZS5jb20vPjxzcGFuIGlkPWxvZ28gYXJpYS1sYWJlbD1Hb29nbGU+PC9zcGFuPjwvYT4KICA8cD48Yj40MDQuPC9iPiA8aW5zPlRoYXTigJlzIGFuIGVycm9yLjwvaW5zPgogIDxwPiAgPGlucz5UaGF04oCZcyBhbGwgd2Uga25vdy48L2lucz4K",
       "headers": [
        [
         "content-length",
         "1449"
        ],
        [
         "content-type",
         "text/html; charset=utf-8"
        ]
       ],
       "ok": false,
       "status": 404,
       "status_text": ""
      },
      "http://localhost:8080/typo3temp/assets/css/d42b6e1bdf.css?1584468471": {
       "data": "CjwhRE9DVFlQRSBodG1sPgo8aHRtbCBsYW5nPWVuPgogIDxtZXRhIGNoYXJzZXQ9dXRmLTg+CiAgPG1ldGEgbmFtZT12aWV3cG9ydCBjb250ZW50PSJpbml0aWFsLXNjYWxlPTEsIG1pbmltdW0tc2NhbGU9MSwgd2lkdGg9ZGV2aWNlLXdpZHRoIj4KICA8dGl0bGU+RXJyb3IgNDA0IChOb3QgRm91bmQpISExPC90aXRsZT4KICA8c3R5bGU+CiAgICAqe21hcmdpbjowO3BhZGRpbmc6MH1odG1sLGNvZGV7Zm9udDoxNXB4LzIycHggYXJpYWwsc2Fucy1zZXJpZn1odG1se2JhY2tncm91bmQ6I2ZmZjtjb2xvcjojMjIyO3BhZGRpbmc6MTVweH1ib2R5e21hcmdpbjo3JSBhdXRvIDA7bWF4LXdpZHRoOjM5MHB4O21pbi1oZWlnaHQ6MTgwcHg7cGFkZGluZzozMHB4IDAgMTVweH0qID4gYm9keXtiYWNrZ3JvdW5kOnVybCgvL3d3dy5nb29nbGUuY29tL2ltYWdlcy9lcnJvcnMvcm9ib3QucG5nKSAxMDAlIDVweCBuby1yZXBlYXQ7cGFkZGluZy1yaWdodDoyMDVweH1we21hcmdpbjoxMXB4IDAgMjJweDtvdmVyZmxvdzpoaWRkZW59aW5ze2NvbG9yOiM3Nzc7dGV4dC1kZWNvcmF0aW9uOm5vbmV9YSBpbWd7Ym9yZGVyOjB9QG1lZGlhIHNjcmVlbiBhbmQgKG1heC13aWR0aDo3NzJweCl7Ym9keXtiYWNrZ3JvdW5kOm5vbmU7bWFyZ2luLXRvcDowO21heC13aWR0aDpub25lO3BhZGRpbmctcmlnaHQ6MH19I2xvZ297YmFja2dyb3VuZDp1cmwoLy93d3cuZ29vZ2xlLmNvbS9pbWFnZXMvbG9nb3MvZXJyb3JwYWdlL2Vycm9yX2xvZ28tMTUweDU0LnBuZykgbm8tcmVwZWF0O21hcmdpbi1sZWZ0Oi01cHh9QG1lZGlhIG9ubHkgc2NyZWVuIGFuZCAobWluLXJlc29sdXRpb246MTkyZHBpKXsjbG9nb3tiYWNrZ3JvdW5kOnVybCgvL3d3dy5nb29nbGUuY29tL2ltYWdlcy9sb2dvcy9lcnJvcnBhZ2UvZXJyb3JfbG9nby0xNTB4NTQtMngucG5nKSBuby1yZXBlYXQgMCUgMCUvMTAwJSAxMDAlOy1tb3otYm9yZGVyLWltYWdlOnVybCgvL3d3dy5nb29nbGUuY29tL2ltYWdlcy9sb2dvcy9lcnJvcnBhZ2UvZXJyb3JfbG9nby0xNTB4NTQtMngucG5nKSAwfX1AbWVkaWEgb25seSBzY3JlZW4gYW5kICgtd2Via2l0LW1pbi1kZXZpY2UtcGl4ZWwtcmF0aW86Mil7I2xvZ297YmFja2dyb3VuZDp1cmwoLy93d3cuZ29vZ2xlLmNvbS9pbWFnZXMvbG9nb3MvZXJyb3JwYWdlL2Vycm9yX2xvZ28tMTUweDU0LTJ4LnBuZykgbm8tcmVwZWF0Oy13ZWJraXQtYmFja2dyb3VuZC1zaXplOjEwMCUgMTAwJX19I2xvZ297ZGlzcGxheTppbmxpbmUtYmxvY2s7aGVpZ2h0OjU0cHg7d2lkdGg6MTUwcHh9CiAgPC9zdHlsZT4KICA8YSBocmVmPS8vd3d3Lmdvb2dsZS5jb20vPjxzcGFuIGlkPWxvZ28gYXJpYS1sYWJlbD1Hb29nbGU+PC9zcGFuPjwvYT4KICA8cD48Yj40MDQuPC9iPiA8aW5zPlRoYXTigJlzIGFuIGVycm9yLjwvaW5zPgogIDxwPiAgPGlucz5UaGF04oCZcyBhbGwgd2Uga25vdy48L2lucz4K",
       "headers": [
        [
         "content-length",
         "1449"
        ],
        [
         "content-type",
         "text/html; charset=utf-8"
        ]
       ],
       "ok": false,
       "status": 404,
       "status_text": ""
      }
     }
    },
    "colab_type": "code",
    "executionInfo": {
     "elapsed": 1705,
     "status": "ok",
     "timestamp": 1585609863329,
     "user": {
      "displayName": "Zohaib Hassan Farooqi",
      "photoUrl": "",
      "userId": "11436644774730670565"
     },
     "user_tz": 240
    },
    "id": "etR3n6NmIB1N",
    "outputId": "3a8f1e4e-de74-48c5-8a8f-e59596cb6a8c"
   },
   "outputs": [],
   "source": [
    "# Eindhoven University of Technology (Netherlands)\n",
    "url = 'https://www.tue.nl/en/education/graduate-school/master-data-science-and-artificial-intelligence/'\n"
   ]
  },
  {
   "cell_type": "code",
   "execution_count": 82,
   "metadata": {
    "colab": {
     "base_uri": "https://localhost:8080/",
     "height": 1000,
     "resources": {
      "http://localhost:8080/sites/all/themes/bournemouth/assets/images/footer-map.jpg": {
       "data": "CjwhRE9DVFlQRSBodG1sPgo8aHRtbCBsYW5nPWVuPgogIDxtZXRhIGNoYXJzZXQ9dXRmLTg+CiAgPG1ldGEgbmFtZT12aWV3cG9ydCBjb250ZW50PSJpbml0aWFsLXNjYWxlPTEsIG1pbmltdW0tc2NhbGU9MSwgd2lkdGg9ZGV2aWNlLXdpZHRoIj4KICA8dGl0bGU+RXJyb3IgNDA0IChOb3QgRm91bmQpISExPC90aXRsZT4KICA8c3R5bGU+CiAgICAqe21hcmdpbjowO3BhZGRpbmc6MH1odG1sLGNvZGV7Zm9udDoxNXB4LzIycHggYXJpYWwsc2Fucy1zZXJpZn1odG1se2JhY2tncm91bmQ6I2ZmZjtjb2xvcjojMjIyO3BhZGRpbmc6MTVweH1ib2R5e21hcmdpbjo3JSBhdXRvIDA7bWF4LXdpZHRoOjM5MHB4O21pbi1oZWlnaHQ6MTgwcHg7cGFkZGluZzozMHB4IDAgMTVweH0qID4gYm9keXtiYWNrZ3JvdW5kOnVybCgvL3d3dy5nb29nbGUuY29tL2ltYWdlcy9lcnJvcnMvcm9ib3QucG5nKSAxMDAlIDVweCBuby1yZXBlYXQ7cGFkZGluZy1yaWdodDoyMDVweH1we21hcmdpbjoxMXB4IDAgMjJweDtvdmVyZmxvdzpoaWRkZW59aW5ze2NvbG9yOiM3Nzc7dGV4dC1kZWNvcmF0aW9uOm5vbmV9YSBpbWd7Ym9yZGVyOjB9QG1lZGlhIHNjcmVlbiBhbmQgKG1heC13aWR0aDo3NzJweCl7Ym9keXtiYWNrZ3JvdW5kOm5vbmU7bWFyZ2luLXRvcDowO21heC13aWR0aDpub25lO3BhZGRpbmctcmlnaHQ6MH19I2xvZ297YmFja2dyb3VuZDp1cmwoLy93d3cuZ29vZ2xlLmNvbS9pbWFnZXMvbG9nb3MvZXJyb3JwYWdlL2Vycm9yX2xvZ28tMTUweDU0LnBuZykgbm8tcmVwZWF0O21hcmdpbi1sZWZ0Oi01cHh9QG1lZGlhIG9ubHkgc2NyZWVuIGFuZCAobWluLXJlc29sdXRpb246MTkyZHBpKXsjbG9nb3tiYWNrZ3JvdW5kOnVybCgvL3d3dy5nb29nbGUuY29tL2ltYWdlcy9sb2dvcy9lcnJvcnBhZ2UvZXJyb3JfbG9nby0xNTB4NTQtMngucG5nKSBuby1yZXBlYXQgMCUgMCUvMTAwJSAxMDAlOy1tb3otYm9yZGVyLWltYWdlOnVybCgvL3d3dy5nb29nbGUuY29tL2ltYWdlcy9sb2dvcy9lcnJvcnBhZ2UvZXJyb3JfbG9nby0xNTB4NTQtMngucG5nKSAwfX1AbWVkaWEgb25seSBzY3JlZW4gYW5kICgtd2Via2l0LW1pbi1kZXZpY2UtcGl4ZWwtcmF0aW86Mil7I2xvZ297YmFja2dyb3VuZDp1cmwoLy93d3cuZ29vZ2xlLmNvbS9pbWFnZXMvbG9nb3MvZXJyb3JwYWdlL2Vycm9yX2xvZ28tMTUweDU0LTJ4LnBuZykgbm8tcmVwZWF0Oy13ZWJraXQtYmFja2dyb3VuZC1zaXplOjEwMCUgMTAwJX19I2xvZ297ZGlzcGxheTppbmxpbmUtYmxvY2s7aGVpZ2h0OjU0cHg7d2lkdGg6MTUwcHh9CiAgPC9zdHlsZT4KICA8YSBocmVmPS8vd3d3Lmdvb2dsZS5jb20vPjxzcGFuIGlkPWxvZ28gYXJpYS1sYWJlbD1Hb29nbGU+PC9zcGFuPjwvYT4KICA8cD48Yj40MDQuPC9iPiA8aW5zPlRoYXTigJlzIGFuIGVycm9yLjwvaW5zPgogIDxwPiAgPGlucz5UaGF04oCZcyBhbGwgd2Uga25vdy48L2lucz4K",
       "headers": [
        [
         "content-length",
         "1449"
        ],
        [
         "content-type",
         "text/html; charset=utf-8"
        ]
       ],
       "ok": false,
       "status": 404,
       "status_text": ""
      },
      "http://localhost:8080/sites/all/themes/bournemouth/assets/images/footer/footer-logo-1.png": {
       "data": "CjwhRE9DVFlQRSBodG1sPgo8aHRtbCBsYW5nPWVuPgogIDxtZXRhIGNoYXJzZXQ9dXRmLTg+CiAgPG1ldGEgbmFtZT12aWV3cG9ydCBjb250ZW50PSJpbml0aWFsLXNjYWxlPTEsIG1pbmltdW0tc2NhbGU9MSwgd2lkdGg9ZGV2aWNlLXdpZHRoIj4KICA8dGl0bGU+RXJyb3IgNDA0IChOb3QgRm91bmQpISExPC90aXRsZT4KICA8c3R5bGU+CiAgICAqe21hcmdpbjowO3BhZGRpbmc6MH1odG1sLGNvZGV7Zm9udDoxNXB4LzIycHggYXJpYWwsc2Fucy1zZXJpZn1odG1se2JhY2tncm91bmQ6I2ZmZjtjb2xvcjojMjIyO3BhZGRpbmc6MTVweH1ib2R5e21hcmdpbjo3JSBhdXRvIDA7bWF4LXdpZHRoOjM5MHB4O21pbi1oZWlnaHQ6MTgwcHg7cGFkZGluZzozMHB4IDAgMTVweH0qID4gYm9keXtiYWNrZ3JvdW5kOnVybCgvL3d3dy5nb29nbGUuY29tL2ltYWdlcy9lcnJvcnMvcm9ib3QucG5nKSAxMDAlIDVweCBuby1yZXBlYXQ7cGFkZGluZy1yaWdodDoyMDVweH1we21hcmdpbjoxMXB4IDAgMjJweDtvdmVyZmxvdzpoaWRkZW59aW5ze2NvbG9yOiM3Nzc7dGV4dC1kZWNvcmF0aW9uOm5vbmV9YSBpbWd7Ym9yZGVyOjB9QG1lZGlhIHNjcmVlbiBhbmQgKG1heC13aWR0aDo3NzJweCl7Ym9keXtiYWNrZ3JvdW5kOm5vbmU7bWFyZ2luLXRvcDowO21heC13aWR0aDpub25lO3BhZGRpbmctcmlnaHQ6MH19I2xvZ297YmFja2dyb3VuZDp1cmwoLy93d3cuZ29vZ2xlLmNvbS9pbWFnZXMvbG9nb3MvZXJyb3JwYWdlL2Vycm9yX2xvZ28tMTUweDU0LnBuZykgbm8tcmVwZWF0O21hcmdpbi1sZWZ0Oi01cHh9QG1lZGlhIG9ubHkgc2NyZWVuIGFuZCAobWluLXJlc29sdXRpb246MTkyZHBpKXsjbG9nb3tiYWNrZ3JvdW5kOnVybCgvL3d3dy5nb29nbGUuY29tL2ltYWdlcy9sb2dvcy9lcnJvcnBhZ2UvZXJyb3JfbG9nby0xNTB4NTQtMngucG5nKSBuby1yZXBlYXQgMCUgMCUvMTAwJSAxMDAlOy1tb3otYm9yZGVyLWltYWdlOnVybCgvL3d3dy5nb29nbGUuY29tL2ltYWdlcy9sb2dvcy9lcnJvcnBhZ2UvZXJyb3JfbG9nby0xNTB4NTQtMngucG5nKSAwfX1AbWVkaWEgb25seSBzY3JlZW4gYW5kICgtd2Via2l0LW1pbi1kZXZpY2UtcGl4ZWwtcmF0aW86Mil7I2xvZ297YmFja2dyb3VuZDp1cmwoLy93d3cuZ29vZ2xlLmNvbS9pbWFnZXMvbG9nb3MvZXJyb3JwYWdlL2Vycm9yX2xvZ28tMTUweDU0LTJ4LnBuZykgbm8tcmVwZWF0Oy13ZWJraXQtYmFja2dyb3VuZC1zaXplOjEwMCUgMTAwJX19I2xvZ297ZGlzcGxheTppbmxpbmUtYmxvY2s7aGVpZ2h0OjU0cHg7d2lkdGg6MTUwcHh9CiAgPC9zdHlsZT4KICA8YSBocmVmPS8vd3d3Lmdvb2dsZS5jb20vPjxzcGFuIGlkPWxvZ28gYXJpYS1sYWJlbD1Hb29nbGU+PC9zcGFuPjwvYT4KICA8cD48Yj40MDQuPC9iPiA8aW5zPlRoYXTigJlzIGFuIGVycm9yLjwvaW5zPgogIDxwPiAgPGlucz5UaGF04oCZcyBhbGwgd2Uga25vdy48L2lucz4K",
       "headers": [
        [
         "content-length",
         "1449"
        ],
        [
         "content-type",
         "text/html; charset=utf-8"
        ]
       ],
       "ok": false,
       "status": 404,
       "status_text": ""
      },
      "http://localhost:8080/sites/all/themes/bournemouth/assets/images/footer/footer-logo-2.png": {
       "data": "CjwhRE9DVFlQRSBodG1sPgo8aHRtbCBsYW5nPWVuPgogIDxtZXRhIGNoYXJzZXQ9dXRmLTg+CiAgPG1ldGEgbmFtZT12aWV3cG9ydCBjb250ZW50PSJpbml0aWFsLXNjYWxlPTEsIG1pbmltdW0tc2NhbGU9MSwgd2lkdGg9ZGV2aWNlLXdpZHRoIj4KICA8dGl0bGU+RXJyb3IgNDA0IChOb3QgRm91bmQpISExPC90aXRsZT4KICA8c3R5bGU+CiAgICAqe21hcmdpbjowO3BhZGRpbmc6MH1odG1sLGNvZGV7Zm9udDoxNXB4LzIycHggYXJpYWwsc2Fucy1zZXJpZn1odG1se2JhY2tncm91bmQ6I2ZmZjtjb2xvcjojMjIyO3BhZGRpbmc6MTVweH1ib2R5e21hcmdpbjo3JSBhdXRvIDA7bWF4LXdpZHRoOjM5MHB4O21pbi1oZWlnaHQ6MTgwcHg7cGFkZGluZzozMHB4IDAgMTVweH0qID4gYm9keXtiYWNrZ3JvdW5kOnVybCgvL3d3dy5nb29nbGUuY29tL2ltYWdlcy9lcnJvcnMvcm9ib3QucG5nKSAxMDAlIDVweCBuby1yZXBlYXQ7cGFkZGluZy1yaWdodDoyMDVweH1we21hcmdpbjoxMXB4IDAgMjJweDtvdmVyZmxvdzpoaWRkZW59aW5ze2NvbG9yOiM3Nzc7dGV4dC1kZWNvcmF0aW9uOm5vbmV9YSBpbWd7Ym9yZGVyOjB9QG1lZGlhIHNjcmVlbiBhbmQgKG1heC13aWR0aDo3NzJweCl7Ym9keXtiYWNrZ3JvdW5kOm5vbmU7bWFyZ2luLXRvcDowO21heC13aWR0aDpub25lO3BhZGRpbmctcmlnaHQ6MH19I2xvZ297YmFja2dyb3VuZDp1cmwoLy93d3cuZ29vZ2xlLmNvbS9pbWFnZXMvbG9nb3MvZXJyb3JwYWdlL2Vycm9yX2xvZ28tMTUweDU0LnBuZykgbm8tcmVwZWF0O21hcmdpbi1sZWZ0Oi01cHh9QG1lZGlhIG9ubHkgc2NyZWVuIGFuZCAobWluLXJlc29sdXRpb246MTkyZHBpKXsjbG9nb3tiYWNrZ3JvdW5kOnVybCgvL3d3dy5nb29nbGUuY29tL2ltYWdlcy9sb2dvcy9lcnJvcnBhZ2UvZXJyb3JfbG9nby0xNTB4NTQtMngucG5nKSBuby1yZXBlYXQgMCUgMCUvMTAwJSAxMDAlOy1tb3otYm9yZGVyLWltYWdlOnVybCgvL3d3dy5nb29nbGUuY29tL2ltYWdlcy9sb2dvcy9lcnJvcnBhZ2UvZXJyb3JfbG9nby0xNTB4NTQtMngucG5nKSAwfX1AbWVkaWEgb25seSBzY3JlZW4gYW5kICgtd2Via2l0LW1pbi1kZXZpY2UtcGl4ZWwtcmF0aW86Mil7I2xvZ297YmFja2dyb3VuZDp1cmwoLy93d3cuZ29vZ2xlLmNvbS9pbWFnZXMvbG9nb3MvZXJyb3JwYWdlL2Vycm9yX2xvZ28tMTUweDU0LTJ4LnBuZykgbm8tcmVwZWF0Oy13ZWJraXQtYmFja2dyb3VuZC1zaXplOjEwMCUgMTAwJX19I2xvZ297ZGlzcGxheTppbmxpbmUtYmxvY2s7aGVpZ2h0OjU0cHg7d2lkdGg6MTUwcHh9CiAgPC9zdHlsZT4KICA8YSBocmVmPS8vd3d3Lmdvb2dsZS5jb20vPjxzcGFuIGlkPWxvZ28gYXJpYS1sYWJlbD1Hb29nbGU+PC9zcGFuPjwvYT4KICA8cD48Yj40MDQuPC9iPiA8aW5zPlRoYXTigJlzIGFuIGVycm9yLjwvaW5zPgogIDxwPiAgPGlucz5UaGF04oCZcyBhbGwgd2Uga25vdy48L2lucz4K",
       "headers": [
        [
         "content-length",
         "1449"
        ],
        [
         "content-type",
         "text/html; charset=utf-8"
        ]
       ],
       "ok": false,
       "status": 404,
       "status_text": ""
      },
      "http://localhost:8080/sites/all/themes/bournemouth/assets/images/footer/footer-logo-3.png": {
       "data": "CjwhRE9DVFlQRSBodG1sPgo8aHRtbCBsYW5nPWVuPgogIDxtZXRhIGNoYXJzZXQ9dXRmLTg+CiAgPG1ldGEgbmFtZT12aWV3cG9ydCBjb250ZW50PSJpbml0aWFsLXNjYWxlPTEsIG1pbmltdW0tc2NhbGU9MSwgd2lkdGg9ZGV2aWNlLXdpZHRoIj4KICA8dGl0bGU+RXJyb3IgNDA0IChOb3QgRm91bmQpISExPC90aXRsZT4KICA8c3R5bGU+CiAgICAqe21hcmdpbjowO3BhZGRpbmc6MH1odG1sLGNvZGV7Zm9udDoxNXB4LzIycHggYXJpYWwsc2Fucy1zZXJpZn1odG1se2JhY2tncm91bmQ6I2ZmZjtjb2xvcjojMjIyO3BhZGRpbmc6MTVweH1ib2R5e21hcmdpbjo3JSBhdXRvIDA7bWF4LXdpZHRoOjM5MHB4O21pbi1oZWlnaHQ6MTgwcHg7cGFkZGluZzozMHB4IDAgMTVweH0qID4gYm9keXtiYWNrZ3JvdW5kOnVybCgvL3d3dy5nb29nbGUuY29tL2ltYWdlcy9lcnJvcnMvcm9ib3QucG5nKSAxMDAlIDVweCBuby1yZXBlYXQ7cGFkZGluZy1yaWdodDoyMDVweH1we21hcmdpbjoxMXB4IDAgMjJweDtvdmVyZmxvdzpoaWRkZW59aW5ze2NvbG9yOiM3Nzc7dGV4dC1kZWNvcmF0aW9uOm5vbmV9YSBpbWd7Ym9yZGVyOjB9QG1lZGlhIHNjcmVlbiBhbmQgKG1heC13aWR0aDo3NzJweCl7Ym9keXtiYWNrZ3JvdW5kOm5vbmU7bWFyZ2luLXRvcDowO21heC13aWR0aDpub25lO3BhZGRpbmctcmlnaHQ6MH19I2xvZ297YmFja2dyb3VuZDp1cmwoLy93d3cuZ29vZ2xlLmNvbS9pbWFnZXMvbG9nb3MvZXJyb3JwYWdlL2Vycm9yX2xvZ28tMTUweDU0LnBuZykgbm8tcmVwZWF0O21hcmdpbi1sZWZ0Oi01cHh9QG1lZGlhIG9ubHkgc2NyZWVuIGFuZCAobWluLXJlc29sdXRpb246MTkyZHBpKXsjbG9nb3tiYWNrZ3JvdW5kOnVybCgvL3d3dy5nb29nbGUuY29tL2ltYWdlcy9sb2dvcy9lcnJvcnBhZ2UvZXJyb3JfbG9nby0xNTB4NTQtMngucG5nKSBuby1yZXBlYXQgMCUgMCUvMTAwJSAxMDAlOy1tb3otYm9yZGVyLWltYWdlOnVybCgvL3d3dy5nb29nbGUuY29tL2ltYWdlcy9sb2dvcy9lcnJvcnBhZ2UvZXJyb3JfbG9nby0xNTB4NTQtMngucG5nKSAwfX1AbWVkaWEgb25seSBzY3JlZW4gYW5kICgtd2Via2l0LW1pbi1kZXZpY2UtcGl4ZWwtcmF0aW86Mil7I2xvZ297YmFja2dyb3VuZDp1cmwoLy93d3cuZ29vZ2xlLmNvbS9pbWFnZXMvbG9nb3MvZXJyb3JwYWdlL2Vycm9yX2xvZ28tMTUweDU0LTJ4LnBuZykgbm8tcmVwZWF0Oy13ZWJraXQtYmFja2dyb3VuZC1zaXplOjEwMCUgMTAwJX19I2xvZ297ZGlzcGxheTppbmxpbmUtYmxvY2s7aGVpZ2h0OjU0cHg7d2lkdGg6MTUwcHh9CiAgPC9zdHlsZT4KICA8YSBocmVmPS8vd3d3Lmdvb2dsZS5jb20vPjxzcGFuIGlkPWxvZ28gYXJpYS1sYWJlbD1Hb29nbGU+PC9zcGFuPjwvYT4KICA8cD48Yj40MDQuPC9iPiA8aW5zPlRoYXTigJlzIGFuIGVycm9yLjwvaW5zPgogIDxwPiAgPGlucz5UaGF04oCZcyBhbGwgd2Uga25vdy48L2lucz4K",
       "headers": [
        [
         "content-length",
         "1449"
        ],
        [
         "content-type",
         "text/html; charset=utf-8"
        ]
       ],
       "ok": false,
       "status": 404,
       "status_text": ""
      },
      "http://localhost:8080/sites/all/themes/bournemouth/assets/images/footer/footer-logo-4.png": {
       "data": "CjwhRE9DVFlQRSBodG1sPgo8aHRtbCBsYW5nPWVuPgogIDxtZXRhIGNoYXJzZXQ9dXRmLTg+CiAgPG1ldGEgbmFtZT12aWV3cG9ydCBjb250ZW50PSJpbml0aWFsLXNjYWxlPTEsIG1pbmltdW0tc2NhbGU9MSwgd2lkdGg9ZGV2aWNlLXdpZHRoIj4KICA8dGl0bGU+RXJyb3IgNDA0IChOb3QgRm91bmQpISExPC90aXRsZT4KICA8c3R5bGU+CiAgICAqe21hcmdpbjowO3BhZGRpbmc6MH1odG1sLGNvZGV7Zm9udDoxNXB4LzIycHggYXJpYWwsc2Fucy1zZXJpZn1odG1se2JhY2tncm91bmQ6I2ZmZjtjb2xvcjojMjIyO3BhZGRpbmc6MTVweH1ib2R5e21hcmdpbjo3JSBhdXRvIDA7bWF4LXdpZHRoOjM5MHB4O21pbi1oZWlnaHQ6MTgwcHg7cGFkZGluZzozMHB4IDAgMTVweH0qID4gYm9keXtiYWNrZ3JvdW5kOnVybCgvL3d3dy5nb29nbGUuY29tL2ltYWdlcy9lcnJvcnMvcm9ib3QucG5nKSAxMDAlIDVweCBuby1yZXBlYXQ7cGFkZGluZy1yaWdodDoyMDVweH1we21hcmdpbjoxMXB4IDAgMjJweDtvdmVyZmxvdzpoaWRkZW59aW5ze2NvbG9yOiM3Nzc7dGV4dC1kZWNvcmF0aW9uOm5vbmV9YSBpbWd7Ym9yZGVyOjB9QG1lZGlhIHNjcmVlbiBhbmQgKG1heC13aWR0aDo3NzJweCl7Ym9keXtiYWNrZ3JvdW5kOm5vbmU7bWFyZ2luLXRvcDowO21heC13aWR0aDpub25lO3BhZGRpbmctcmlnaHQ6MH19I2xvZ297YmFja2dyb3VuZDp1cmwoLy93d3cuZ29vZ2xlLmNvbS9pbWFnZXMvbG9nb3MvZXJyb3JwYWdlL2Vycm9yX2xvZ28tMTUweDU0LnBuZykgbm8tcmVwZWF0O21hcmdpbi1sZWZ0Oi01cHh9QG1lZGlhIG9ubHkgc2NyZWVuIGFuZCAobWluLXJlc29sdXRpb246MTkyZHBpKXsjbG9nb3tiYWNrZ3JvdW5kOnVybCgvL3d3dy5nb29nbGUuY29tL2ltYWdlcy9sb2dvcy9lcnJvcnBhZ2UvZXJyb3JfbG9nby0xNTB4NTQtMngucG5nKSBuby1yZXBlYXQgMCUgMCUvMTAwJSAxMDAlOy1tb3otYm9yZGVyLWltYWdlOnVybCgvL3d3dy5nb29nbGUuY29tL2ltYWdlcy9sb2dvcy9lcnJvcnBhZ2UvZXJyb3JfbG9nby0xNTB4NTQtMngucG5nKSAwfX1AbWVkaWEgb25seSBzY3JlZW4gYW5kICgtd2Via2l0LW1pbi1kZXZpY2UtcGl4ZWwtcmF0aW86Mil7I2xvZ297YmFja2dyb3VuZDp1cmwoLy93d3cuZ29vZ2xlLmNvbS9pbWFnZXMvbG9nb3MvZXJyb3JwYWdlL2Vycm9yX2xvZ28tMTUweDU0LTJ4LnBuZykgbm8tcmVwZWF0Oy13ZWJraXQtYmFja2dyb3VuZC1zaXplOjEwMCUgMTAwJX19I2xvZ297ZGlzcGxheTppbmxpbmUtYmxvY2s7aGVpZ2h0OjU0cHg7d2lkdGg6MTUwcHh9CiAgPC9zdHlsZT4KICA8YSBocmVmPS8vd3d3Lmdvb2dsZS5jb20vPjxzcGFuIGlkPWxvZ28gYXJpYS1sYWJlbD1Hb29nbGU+PC9zcGFuPjwvYT4KICA8cD48Yj40MDQuPC9iPiA8aW5zPlRoYXTigJlzIGFuIGVycm9yLjwvaW5zPgogIDxwPiAgPGlucz5UaGF04oCZcyBhbGwgd2Uga25vdy48L2lucz4K",
       "headers": [
        [
         "content-length",
         "1449"
        ],
        [
         "content-type",
         "text/html; charset=utf-8"
        ]
       ],
       "ok": false,
       "status": 404,
       "status_text": ""
      },
      "http://localhost:8080/sites/all/themes/bournemouth/assets/images/footer/footer-logo-5.png": {
       "data": "CjwhRE9DVFlQRSBodG1sPgo8aHRtbCBsYW5nPWVuPgogIDxtZXRhIGNoYXJzZXQ9dXRmLTg+CiAgPG1ldGEgbmFtZT12aWV3cG9ydCBjb250ZW50PSJpbml0aWFsLXNjYWxlPTEsIG1pbmltdW0tc2NhbGU9MSwgd2lkdGg9ZGV2aWNlLXdpZHRoIj4KICA8dGl0bGU+RXJyb3IgNDA0IChOb3QgRm91bmQpISExPC90aXRsZT4KICA8c3R5bGU+CiAgICAqe21hcmdpbjowO3BhZGRpbmc6MH1odG1sLGNvZGV7Zm9udDoxNXB4LzIycHggYXJpYWwsc2Fucy1zZXJpZn1odG1se2JhY2tncm91bmQ6I2ZmZjtjb2xvcjojMjIyO3BhZGRpbmc6MTVweH1ib2R5e21hcmdpbjo3JSBhdXRvIDA7bWF4LXdpZHRoOjM5MHB4O21pbi1oZWlnaHQ6MTgwcHg7cGFkZGluZzozMHB4IDAgMTVweH0qID4gYm9keXtiYWNrZ3JvdW5kOnVybCgvL3d3dy5nb29nbGUuY29tL2ltYWdlcy9lcnJvcnMvcm9ib3QucG5nKSAxMDAlIDVweCBuby1yZXBlYXQ7cGFkZGluZy1yaWdodDoyMDVweH1we21hcmdpbjoxMXB4IDAgMjJweDtvdmVyZmxvdzpoaWRkZW59aW5ze2NvbG9yOiM3Nzc7dGV4dC1kZWNvcmF0aW9uOm5vbmV9YSBpbWd7Ym9yZGVyOjB9QG1lZGlhIHNjcmVlbiBhbmQgKG1heC13aWR0aDo3NzJweCl7Ym9keXtiYWNrZ3JvdW5kOm5vbmU7bWFyZ2luLXRvcDowO21heC13aWR0aDpub25lO3BhZGRpbmctcmlnaHQ6MH19I2xvZ297YmFja2dyb3VuZDp1cmwoLy93d3cuZ29vZ2xlLmNvbS9pbWFnZXMvbG9nb3MvZXJyb3JwYWdlL2Vycm9yX2xvZ28tMTUweDU0LnBuZykgbm8tcmVwZWF0O21hcmdpbi1sZWZ0Oi01cHh9QG1lZGlhIG9ubHkgc2NyZWVuIGFuZCAobWluLXJlc29sdXRpb246MTkyZHBpKXsjbG9nb3tiYWNrZ3JvdW5kOnVybCgvL3d3dy5nb29nbGUuY29tL2ltYWdlcy9sb2dvcy9lcnJvcnBhZ2UvZXJyb3JfbG9nby0xNTB4NTQtMngucG5nKSBuby1yZXBlYXQgMCUgMCUvMTAwJSAxMDAlOy1tb3otYm9yZGVyLWltYWdlOnVybCgvL3d3dy5nb29nbGUuY29tL2ltYWdlcy9sb2dvcy9lcnJvcnBhZ2UvZXJyb3JfbG9nby0xNTB4NTQtMngucG5nKSAwfX1AbWVkaWEgb25seSBzY3JlZW4gYW5kICgtd2Via2l0LW1pbi1kZXZpY2UtcGl4ZWwtcmF0aW86Mil7I2xvZ297YmFja2dyb3VuZDp1cmwoLy93d3cuZ29vZ2xlLmNvbS9pbWFnZXMvbG9nb3MvZXJyb3JwYWdlL2Vycm9yX2xvZ28tMTUweDU0LTJ4LnBuZykgbm8tcmVwZWF0Oy13ZWJraXQtYmFja2dyb3VuZC1zaXplOjEwMCUgMTAwJX19I2xvZ297ZGlzcGxheTppbmxpbmUtYmxvY2s7aGVpZ2h0OjU0cHg7d2lkdGg6MTUwcHh9CiAgPC9zdHlsZT4KICA8YSBocmVmPS8vd3d3Lmdvb2dsZS5jb20vPjxzcGFuIGlkPWxvZ28gYXJpYS1sYWJlbD1Hb29nbGU+PC9zcGFuPjwvYT4KICA8cD48Yj40MDQuPC9iPiA8aW5zPlRoYXTigJlzIGFuIGVycm9yLjwvaW5zPgogIDxwPiAgPGlucz5UaGF04oCZcyBhbGwgd2Uga25vdy48L2lucz4K",
       "headers": [
        [
         "content-length",
         "1449"
        ],
        [
         "content-type",
         "text/html; charset=utf-8"
        ]
       ],
       "ok": false,
       "status": 404,
       "status_text": ""
      },
      "http://localhost:8080/sites/all/themes/bournemouth/assets/images/footer/footer-logo-6.png": {
       "data": "CjwhRE9DVFlQRSBodG1sPgo8aHRtbCBsYW5nPWVuPgogIDxtZXRhIGNoYXJzZXQ9dXRmLTg+CiAgPG1ldGEgbmFtZT12aWV3cG9ydCBjb250ZW50PSJpbml0aWFsLXNjYWxlPTEsIG1pbmltdW0tc2NhbGU9MSwgd2lkdGg9ZGV2aWNlLXdpZHRoIj4KICA8dGl0bGU+RXJyb3IgNDA0IChOb3QgRm91bmQpISExPC90aXRsZT4KICA8c3R5bGU+CiAgICAqe21hcmdpbjowO3BhZGRpbmc6MH1odG1sLGNvZGV7Zm9udDoxNXB4LzIycHggYXJpYWwsc2Fucy1zZXJpZn1odG1se2JhY2tncm91bmQ6I2ZmZjtjb2xvcjojMjIyO3BhZGRpbmc6MTVweH1ib2R5e21hcmdpbjo3JSBhdXRvIDA7bWF4LXdpZHRoOjM5MHB4O21pbi1oZWlnaHQ6MTgwcHg7cGFkZGluZzozMHB4IDAgMTVweH0qID4gYm9keXtiYWNrZ3JvdW5kOnVybCgvL3d3dy5nb29nbGUuY29tL2ltYWdlcy9lcnJvcnMvcm9ib3QucG5nKSAxMDAlIDVweCBuby1yZXBlYXQ7cGFkZGluZy1yaWdodDoyMDVweH1we21hcmdpbjoxMXB4IDAgMjJweDtvdmVyZmxvdzpoaWRkZW59aW5ze2NvbG9yOiM3Nzc7dGV4dC1kZWNvcmF0aW9uOm5vbmV9YSBpbWd7Ym9yZGVyOjB9QG1lZGlhIHNjcmVlbiBhbmQgKG1heC13aWR0aDo3NzJweCl7Ym9keXtiYWNrZ3JvdW5kOm5vbmU7bWFyZ2luLXRvcDowO21heC13aWR0aDpub25lO3BhZGRpbmctcmlnaHQ6MH19I2xvZ297YmFja2dyb3VuZDp1cmwoLy93d3cuZ29vZ2xlLmNvbS9pbWFnZXMvbG9nb3MvZXJyb3JwYWdlL2Vycm9yX2xvZ28tMTUweDU0LnBuZykgbm8tcmVwZWF0O21hcmdpbi1sZWZ0Oi01cHh9QG1lZGlhIG9ubHkgc2NyZWVuIGFuZCAobWluLXJlc29sdXRpb246MTkyZHBpKXsjbG9nb3tiYWNrZ3JvdW5kOnVybCgvL3d3dy5nb29nbGUuY29tL2ltYWdlcy9sb2dvcy9lcnJvcnBhZ2UvZXJyb3JfbG9nby0xNTB4NTQtMngucG5nKSBuby1yZXBlYXQgMCUgMCUvMTAwJSAxMDAlOy1tb3otYm9yZGVyLWltYWdlOnVybCgvL3d3dy5nb29nbGUuY29tL2ltYWdlcy9sb2dvcy9lcnJvcnBhZ2UvZXJyb3JfbG9nby0xNTB4NTQtMngucG5nKSAwfX1AbWVkaWEgb25seSBzY3JlZW4gYW5kICgtd2Via2l0LW1pbi1kZXZpY2UtcGl4ZWwtcmF0aW86Mil7I2xvZ297YmFja2dyb3VuZDp1cmwoLy93d3cuZ29vZ2xlLmNvbS9pbWFnZXMvbG9nb3MvZXJyb3JwYWdlL2Vycm9yX2xvZ28tMTUweDU0LTJ4LnBuZykgbm8tcmVwZWF0Oy13ZWJraXQtYmFja2dyb3VuZC1zaXplOjEwMCUgMTAwJX19I2xvZ297ZGlzcGxheTppbmxpbmUtYmxvY2s7aGVpZ2h0OjU0cHg7d2lkdGg6MTUwcHh9CiAgPC9zdHlsZT4KICA8YSBocmVmPS8vd3d3Lmdvb2dsZS5jb20vPjxzcGFuIGlkPWxvZ28gYXJpYS1sYWJlbD1Hb29nbGU+PC9zcGFuPjwvYT4KICA8cD48Yj40MDQuPC9iPiA8aW5zPlRoYXTigJlzIGFuIGVycm9yLjwvaW5zPgogIDxwPiAgPGlucz5UaGF04oCZcyBhbGwgd2Uga25vdy48L2lucz4K",
       "headers": [
        [
         "content-length",
         "1449"
        ],
        [
         "content-type",
         "text/html; charset=utf-8"
        ]
       ],
       "ok": false,
       "status": 404,
       "status_text": ""
      }
     }
    },
    "colab_type": "code",
    "executionInfo": {
     "elapsed": 1019,
     "status": "ok",
     "timestamp": 1585609867345,
     "user": {
      "displayName": "Zohaib Hassan Farooqi",
      "photoUrl": "",
      "userId": "11436644774730670565"
     },
     "user_tz": 240
    },
    "id": "njxu3XccIB1O",
    "outputId": "f2cb1c3c-ec28-4e92-d9ae-18ee368350df"
   },
   "outputs": [],
   "source": [
    "# Bournemouth University (UK)\n",
    "url = 'https://www.bournemouth.ac.uk/study/courses/msc-data-science-artificial-intelligence'\n"
   ]
  },
  {
   "cell_type": "markdown",
   "metadata": {
    "colab_type": "text",
    "id": "FfjS01TqIB1R"
   },
   "source": [
    "## 4.1 Program Modules"
   ]
  },
  {
   "cell_type": "markdown",
   "metadata": {
    "colab_type": "text",
    "id": "cWD61-qGIB1R"
   },
   "source": [
    "Generally the curriculum in each university is divided in three type of course or modules:\n",
    "\n",
    "- Fundamental Courses\n",
    "- Core Courses (Cumpolsary Courses)\n",
    "- Electives (Optional Courses)\n",
    "\n",
    "The difference in the different faculty offerings are in the fundamental and core courses. But in general most of the courses are same. The degree focuses are slightly different, as for Business faculty offerings are more focused in management and business along with analytics, whereas the engineering schools are more focused on analytics and minor focus on business.\n",
    "\n",
    "Moreover, few of the universities have internship oppurtunities (Co-Op or work terms) along with the curriculm and few have projects (term project). We have considered the Co-Op Program (Internship or work term) having one semester as work term. The individual courses have the projects. The reason of selection of the internship over the term project is that intership will offer the real industry experience for the students and they will learn more in the industry environment. In industry they can directly apply their academic knowledge and this internship will act as the bridge for their academic career to the industrial career. There is the importance of the term project also, as it gives the students to learn end-to-end design cycle. This design study is vital in the engineering degree program. So, we will be supplimenting it in the form of course projects, which will give the students exposure to the complete design cycle and hands-on experience to the business oriented projects. These projects will well-prepare the students for the industry."
   ]
  },
  {
   "cell_type": "markdown",
   "metadata": {
    "colab_type": "text",
    "id": "TS-oELIuIB1R"
   },
   "source": [
    "## 4.2 Courses\n",
    "\n",
    "We decided to divide our data science degree program into 4 semesters. Each semester consists of three courses, with the fourth semester being a work term. The first semester is a foundational semester wherein students take courses that we believe to be essential background knowledge for mastering top industry skills. In semester two, students are then introduced to core courses that provide them an overview of the two major specializations in the data science industry that we saw based on our results: big data, and artificial intelligence. In semester three, the student is able to stream and focus more intensely on one of these specializations. Finally in semester four, the students are required to complete an industry work term in order to gain practical experience. \n",
    "\n",
    "**Semester 1**\n",
    "1. Introduction to Data Science and Analytics\n",
    "2. Statistics & Mathematics for Data Science\n",
    "3. Data Analytics & Visualization\n",
    "\n",
    "**Semester 2**\n",
    "4. Machine Learning\n",
    "5. Big Data\n",
    "6. General Stream Elective\n",
    "\n",
    "**Semester 3**\n",
    "- 3 Artificial Intelligence Stream Electives OR\n",
    "- 3 Big Data Stream Electives\n",
    "\n",
    "**Semester 4**\n",
    "- Internship (4-6 months)\n",
    "\n",
    "Below is a more detailed breakdown of course content:"
   ]
  },
  {
   "cell_type": "markdown",
   "metadata": {
    "colab_type": "text",
    "id": "kUZyDC7LIB1S"
   },
   "source": [
    "### 4.2.1 Introduction to Data Science and Analytics\n",
    "\n",
    "We have redesigned MIE 1624 and made few changes in the course. This course will serve as the introductory course for our degree program and will introduce most of the concepts taught throughout the program.\n",
    "\n",
    "### Skills you Gain\n",
    "\n",
    "- Python\n",
    "- Pandas\n",
    "- Scikit Learn\n",
    "- SQL\n",
    "- Tableau\n",
    "- Machine Learning\n",
    "- Big Data\n",
    "- Visualization\n",
    "- Visual Storytelling\n",
    "\n",
    "### Course Outline\n",
    "\n",
    "- Data science concepts\n",
    "  - Application areas of quantitative modeling\n",
    "- Python programming, data science software\n",
    "  - Introduction to Python\n",
    "  - Comparison of Python, R and Matlab usage in data science\n",
    "- Basic statistics\n",
    "  - Random variables, sampling\n",
    "  - Distributions and statistical measures\n",
    "  - Hypothesis testing\n",
    "  - Statistics case studies in IPython\n",
    "- Overview of linear algebra\n",
    "  - Linear algebra and matrix computations\n",
    "  - Functions, derivatives, convexity\n",
    "- Intro to Databases\n",
    "  - Intro to SQL\n",
    "  - Intro to big data\n",
    "  - Aggregate functions and Data Manipulation\n",
    "- Data visualization and visual analytics\n",
    "  - Visual analytics\n",
    "  - Visualizations in Python and visual analytics in IBM Watson Analytics\n",
    "  - Intro to Tableau\n",
    "- Optimization\n",
    "  - Unconstrained non-linear optimization algorithms\n",
    "  - Overview of constrained optimization algorithms\n",
    "  - Optimization case studies in IPython\n",
    "  - Intro. to Simulation modeling\n",
    "- Modeling techniques, regression\n",
    "  - Mathematical modeling process\n",
    "  - Linear regression\n",
    "- Modeling techniques, regression\n",
    "  - Logistic regression\n",
    "  - Regression case studies in IPython\n",
    "- Advanced machine learning\n",
    "  - Classification (decision trees)\n",
    "  - Advanced supervised machine learning algorithms (Naive Bayes, k-NN, SVM)\n",
    "  - Intro to ensemble learning algorithms (Random Forest, Gradient Boosting)\n",
    "- Advanced machine learning  \n",
    "  - Text analytics and natural language processing\n",
    "  - Clustering (K-means, Fuzzy C-means, Hierarchical Clustering, DBSCAN)\n",
    "  - Dimensionality reduction\n",
    "  - Association rules\n",
    "  - Overview of reinforcement learning\n",
    "  - Machine learning case studies in IPython\n",
    "- Storytelling based on analytics, analytical decision making\n",
    "  - Validating analytics\n",
    "  - Storytelling based on analytics\n",
    "  - Decision-making based on analytics\n",
    "\n",
    "source: https://www.mie.utoronto.ca/wp-content/uploads/2019/08/MIE1624H-Course-Outline-Fall-2019.pdf"
   ]
  },
  {
   "cell_type": "markdown",
   "metadata": {
    "colab_type": "text",
    "id": "3m75qiMjIB1T"
   },
   "source": [
    "### 4.2.2 Statistics & Mathematics for Data Science\n",
    "\n",
    "Most of the universities offer a course of Statistics for Data Science. This course reviews the statistics concepts required for data science program. Instead of having a course only for Statistics, we have introduce a foundation course of **Statistics & Mathematics for Data Science** in our program. This course will revise the concepts of Linear Algebra and Optimization, along with Statistics. These concepts are essential for machine learning models. So, we will be reviewing these concepts at the foundation semester of the program.\n",
    "\n",
    "### Skills you Gain\n",
    "\n",
    "- Linear algebra\n",
    "- Optimization\n",
    "- Statistical Testing\n",
    "- Inference\n",
    "- Regression\n",
    "- Monte Carlo simulation\n",
    "- Linear Regression\n",
    "\n",
    "\n",
    "### Course Outline\n",
    "\n",
    "- Introduction\n",
    "  - Working with data\n",
    "  - Data collection\n",
    "    - Observational data\n",
    "    - Designing experiments\n",
    "  - Sampling\n",
    "  - Bias\n",
    "\n",
    "- Probability Theory\n",
    "  - Probability basics \n",
    "    - Axioms of probability\n",
    "    - Conditional probability\n",
    "    - Random variables\n",
    "    - Expectation\n",
    "    - Independence\n",
    "\n",
    "- Probability Theory\n",
    "  - Distribution of Random Variables\n",
    "  - Multivariate distributions\n",
    "  - Introduction to concentration bounds\n",
    "  - Laws of large numbers\n",
    "  - Central limit theorem\n",
    "\n",
    "- Vectors and matrices\n",
    "  - Vector spaces\n",
    "  - Singular value decomposition\n",
    "  - Eigendecomposition\n",
    "  \n",
    "- Geometry of matrices and derivatives\n",
    "  - Linear transformations\n",
    "  - Partial derivatives\n",
    "  - Least squares\n",
    "\n",
    "- Statistical Significance and Tests of Hypothesis\n",
    "  - Hypothesis testing\n",
    "  - The t-distribution\n",
    "  - Paired data\n",
    "  - Difference between two means\n",
    "  - Inference for categorical data\n",
    "\n",
    "- Optimization\n",
    "  - Matrix calculus\n",
    "  - Gradient descent\n",
    "  - Coordinate descent\n",
    "  - Introduction to convex optimization\n",
    "\n",
    "- Statistics\n",
    "  - Maximum a posteriori and maximum likelihood estimation\n",
    "  - Minimum mean-squared error estimation\n",
    "  - Confidence intervals\n",
    "  \n",
    "- Model Building\n",
    "  - Modeling\n",
    "  - Statistical modeling\n",
    "  - Training and testing\n",
    "  - Evaluating models\n",
    "   - Measures of errors (loss functions)\n",
    "   - Quadratic loss\n",
    "   - Cross validation\n",
    "   - Lift charts\n",
    "   - ROC curves\n",
    "   - Recall-Precision curves\n",
    "\n",
    "- Linear Regression and Correlation\n",
    "  - Numerical prediction\n",
    "  - Ordinary least square regression\n",
    "  - Preconditions for OLS to be valid\n",
    "\n",
    "- Introduction to Bayesian Inference\n",
    "  - Bayes rule\n",
    "  - Bayesian inference\n",
    "  - PyMC\n",
    "  - STAN\n",
    "\n",
    "- Markov Chain Monte Carlo\n",
    "\n",
    "sources: \n",
    "1. https://london.ac.uk/courses/mathematics-and-statistics-data-science\n",
    "2. https://cims.nyu.edu/~cfgranda/pages/DSGA1002_fall15/index.html"
   ]
  },
  {
   "cell_type": "markdown",
   "metadata": {
    "colab_type": "text",
    "id": "hV1uf6gDIB1U"
   },
   "source": [
    "### 4.2.3 Data Analytics & Visualization\n",
    "\n",
    "The course offered at various universities are with the following titles:\n",
    "- Data Visualization\n",
    "- Exploratory Data Analysis\n",
    "- Exploratory Data Analysis and Visualization\n",
    "- Data Analysis and Visualization\n",
    "- Data Analytics\n",
    "\n",
    "We have considered the course title as **Data Analytics & Visualization**. This course will provide the fundamental knowledge of data analysis and visualization and intoduce the visual analytics as well. So, this course along with **Introduction to Data Science** and **Statistics & Mathematics for Data Science** will provide the foundation of our masters program, and prepare the students for the next semesters.\n",
    "\n",
    "### Skills you Gain\n",
    "\n",
    "- Data Visualization\n",
    "- Tableau \n",
    "- R, R studio\n",
    "- Tableau Storypoint\n",
    "- Principal Components Analysis (PCA)\n",
    "- Metric Multidimensional Scaling (MDS)\n",
    "- Stochastic Neighbor Embedding (SNE, t-SNE)\n",
    "- Regression\n",
    "- Clasification\n",
    "- Clustering\n",
    "\n",
    "### Course Outline\n",
    "\n",
    "- Introduction to data analytics visualization\n",
    "  - Data analytics concepts\n",
    "  - Data visualization and application\n",
    "  - Industry overview\n",
    "  - Introduction to R and R studio\n",
    "  - Introduction to Tabeleau\n",
    "- Review of Statistics\n",
    "  - Random variables sampling\n",
    "  - Data types and distributions\n",
    "  - Statistical parameters\n",
    "  - Hypothesis testing\n",
    "- Data Anlytics concepts\n",
    "  - Data preparation\n",
    "  - Data visualization\n",
    "  - Feature Engineering\n",
    "- Data Anlytics in R\n",
    "  - Basic operations in R\n",
    "  - Visualization in R\n",
    "    - ggplot\n",
    "    - Leaflet\n",
    "    - Highcharter\n",
    "  - Dataframe in R\n",
    "  - Analytics applications with R\n",
    "- Dimensionality Reduction - Linear Methods\n",
    "  - Principal Components Analysis (PCA)\n",
    "  - Dual PCA\n",
    "  - Supervised Principal Components Analysis\n",
    "- Dimensionality Reduction - Linear Methods\n",
    "  - Metric Multidimensional Scaling (MDS)\n",
    "  - Landmark MDS (Nystrom Approximation)\n",
    "  - Non-negative Matrix Factorization\n",
    "- Dimensionality Reduction - Nonlinear Methods\n",
    "  - Kernel Principal Components Analysis\n",
    "  - Stochastic Neighbor Embedding (SNE, t-SNE)\n",
    "  - Unified Framework for Dimensionality reduction\n",
    "- Regression and Classification\n",
    "  - Linear Regression\n",
    "  - Logistic Regression\n",
    "  - Classification\n",
    "  - Decision Trees\n",
    "- Clustering\n",
    "  - Vector Quantization\n",
    "  - K-means\n",
    "  - K-medoids\n",
    "  - Probabilistic Clustering\n",
    "- Clustering \n",
    "  - Spectral Clustering\n",
    "  - Hierarchical Clustering\n",
    "  - Affinity Propagation\n",
    "  - Cluster validation\n",
    "- Advanced data visualization in Tableau\n",
    "  - Aggregate functions\n",
    "  - Mapping Techniques\n",
    "  - Advanced data preparation in Tableau\n",
    "  - Building and Customizing visualization\n",
    "  - Creating dashboard with live and extract data\n",
    "- Case study of data visualization\n",
    "\n",
    "source:\n",
    "1. http://qmss.columbia.edu/sites/default/files/STAT%20GR5702%20Exploratory%20Data%20Analysis%20and%20Visualization%20%28EDAV%29%20Syllabus%20Spring%202018.pdf\n",
    "\n",
    "2. https://uwaterloo.ca/data-analytics/sites/ca.data-analytics/files/uploads/files/f14stat842outline_v1.pdf\n",
    "3. http://www.math.uwaterloo.ca/~aghodsib/courses/f06stat890/f06stat890.html"
   ]
  },
  {
   "cell_type": "markdown",
   "metadata": {
    "colab_type": "text",
    "id": "tcYr_LKfIB1V"
   },
   "source": [
    "### 4.2.4 Introduction to Machine Learning\n",
    "\n",
    "This is one the course course we selected for our second semester of the program. This course will introduce the concepts of Machine Learning to the students, and enable them to pursue the specialization in Machine Learning stream. It will familirize students with the basic machine learning and artificial intelligence (AI) tools for developing the analytics.\n",
    "\n",
    "\n",
    "### Skills you Gain\n",
    "\n",
    "- Machine Learning\n",
    "- Deep Learning\n",
    "- Python\n",
    "- Pandas\n",
    "- Statmodel\n",
    "- Scikit Learn\n",
    "- Keras\n",
    "- Tensorflow\n",
    "- Theano\n",
    "- Caffe\n",
    "\n",
    "### Course Outline\n",
    "\n",
    "- Introduction and Basic Concepts\n",
    "  - Introduction - What is Machine Learning\n",
    "  - Building blocks\n",
    "    - MLE\n",
    "    - Bayesian\n",
    "    - Estimation\n",
    "    - MAP\n",
    "    - Decision Theory\n",
    "    - Model-free\n",
    "    - Risk Minimization\n",
    "\n",
    "- Introduction and Basic Concepts\n",
    "  - Classification\n",
    "  - K-nearest Neighbours\n",
    "  \n",
    "- Parametric Estimation and Prediction\n",
    "  - Linear Regression\n",
    "  - Regularization\n",
    "  - Logistic Regression\n",
    "\n",
    "- Parametric Estimation and Prediction\n",
    "  - Naive Bayes\n",
    "  - Disciminative vs generative\n",
    "  - Support Vector Machines\n",
    "  \n",
    "- Parametric Estimation and Prediction\n",
    "  - Kernels\n",
    "  - Decision Trees\n",
    "  - Boosting\n",
    "  - Bagging\n",
    "  \n",
    "- Neural Networks\n",
    "  - Perceptron\n",
    "  - Neural nets\n",
    "  - Deep nets\n",
    "  - Back propagation\n",
    "  \n",
    "- Learning Theory\n",
    "  - Generalization\n",
    "  - Model selection\n",
    "  - Learning Theory\n",
    "\n",
    "- Unsupervised Learning\n",
    "  - Clustering\n",
    "  - Representation Learning\n",
    "  \n",
    "- Graphical Models and Structured Prediction\n",
    "  - Graphical Models\n",
    "  \n",
    "- Graphical Models and Structured Prediction\n",
    "  - Sequence Model\n",
    "\n",
    "- Deep Neural Networks\n",
    "  - Convolutional Neural Networks\n",
    "  - Recurrent Neural Networks\n",
    "  - Generative Adversarial Networks\n",
    "\n",
    "- Special Topics\n",
    "  - Reinforcement learning\n",
    "  - Deep Reinforcement learning\n",
    "\n",
    "\n",
    "source: https://www.cs.cmu.edu/~lwehbe/10701_S19/files/Syllabus.pdf"
   ]
  },
  {
   "cell_type": "markdown",
   "metadata": {
    "colab_type": "text",
    "id": "z5zRf2ZfIB1W"
   },
   "source": [
    "### 4.2.5  Introduction to Big Data\n",
    "\n",
    "This is one the course course we selected for our second semester of the program This course will introduce the concepts of Big Data to the students, and enable them to pursue the specialization in Big Data stream. \n",
    "\n",
    "### Skills you Gain\n",
    "\n",
    "- Hadoop\n",
    "- MapReduce\n",
    "- Elastic Map Reduce (EMR)\n",
    "- Apache Spark\n",
    "- Distributed computing\n",
    "- Hive\n",
    "- Impala\n",
    "- Weka\n",
    "- PySpark\n",
    "- Scala\n",
    "- Databricks\n",
    "- SparkML\n",
    "- Graph theory\n",
    "\n",
    "#### Course Outline\n",
    "\n",
    "- Introduction to Hadoop\n",
    "  - Definition of big data\n",
    "  - Big data industry review\n",
    "  - History of Hadoop and distributed computing\n",
    "  - Brief overview of HDFS, Yarn, MapReduce, Spark\n",
    "  - Review of the big data resources\n",
    "\n",
    "- Enterprise Hadoop and Hadoop basics\n",
    "  - HDFS \n",
    "  - YARN\n",
    "  - Launch of the cluster environment\n",
    "\n",
    "- SQL\n",
    "  - Programming languages: overview, object-oriented vs functional, scripting languages\n",
    "  - Big data languages: overview of Spark, Hive & Impala\n",
    "  - SQL: most important commands\n",
    "  - Hive vs Impala: comparison between two SQL languages and environments\n",
    "\n",
    "- Elastic Map Reduce\n",
    "  - Introduction to EMR\n",
    "  - Practice on EMR notebooks\n",
    "\n",
    "- NoSQL Databases\n",
    "  - MongoDB\n",
    "  - Neo4j\n",
    "  - Cassandra\n",
    "\n",
    "- Spark, introduction\n",
    "  - Introduction into Spark\n",
    "  - History of Spark, its evolution, libraries\n",
    "  - Review of Spark APIs: PySpark, Scala, R and Java\n",
    "  - Spark backend transformations\n",
    "  - Practice sessions with DataBricks, Scala\n",
    "\n",
    "- Spark, syntax\n",
    "  - Spark session\n",
    "  - Import/export of data\n",
    "  - Spark SQL: functional and scripting\n",
    "  - Working with SQL images\n",
    "  - Most important Scala functions\n",
    "\n",
    "- Spark: Data Preparation and Feature Transformation for ML\n",
    "  - Feature preparation: overview of main steps (in Spark)\n",
    "  - Handling nulls/NaNs, missing values, outliers, normalization\n",
    "  - Spark libraries for feature transformation\n",
    "  - Feature transformation: dimensionality reduction, clustering, conversion from categorical to numerical\n",
    "  - Principle component analysis\n",
    "  - Regularization: L1, L2\n",
    "\n",
    "- Spark, model development, pipelines, evaluation metrics\n",
    "  - Model development process and necessary steps\n",
    "  - Spark pipelines\n",
    "  - TrainTestSplit and CrossValidation\n",
    "  - Regularization: L1, L2\n",
    "  - Model evaluation metrics for different classes of models\n",
    "\n",
    "- Spark ML: Multivariate analysis and time-series analysis\n",
    "  - Multivariate ML models in Spark: regression trees\n",
    "  - Time-series analysis\n",
    "\n",
    "- Advanced data science topics\n",
    "  - Graph theory\n",
    "  - Deep learning libraries \n",
    "\n",
    "- Cloud for Big Data\n",
    "  - Cloud for big data\n",
    "  - AWS Cloud\n",
    "  - Azure Cloud\n",
    "  - IBM Cloud\n",
    "  - Running analytics on Cloud\n",
    "  \n",
    "Source: https://www.mie.utoronto.ca/wp-content/uploads/2019/08/20193-MIE1628H.pdf"
   ]
  },
  {
   "cell_type": "markdown",
   "metadata": {
    "colab_type": "text",
    "id": "aY0C3zpeIB1Y"
   },
   "source": [
    "### 4.2.6 General Electives Courses\n",
    "\n",
    "Students can pick one of the following courses an elective for the second semester of the program. The purpose of the course is to provide the depth knowlege of optimization and simulation to the students. \n",
    "- Optimization for Data Science\n",
    "- Convex Optimization and Analysis\n",
    "- Topics in Continuous Optimization\n",
    "- Advanced Topics in Computational Statistics\n",
    "- Computational Inference\n",
    "- Simulation modelling and analysis\n",
    "- Modeling and Simulation for Data Science"
   ]
  },
  {
   "cell_type": "markdown",
   "metadata": {
    "colab_type": "text",
    "id": "Z_abOtTQIB1Y"
   },
   "source": [
    "### 4.2.6 Electives for Machine Learning Stream\n",
    "\n",
    "Students have to pick three of the following courses as electives for the specialization. The purpose of the courses is to make students the specialist in machine learning.\n",
    "\n",
    "- Machine Learning: Statistical and Computational Foundations\n",
    "- Introduction to Artificial Intelligence\n",
    "- Probabilistic Inference and Machine Learning\n",
    "- Explainable Data Analytics\n",
    "- Data Mining and Machine Learning\n",
    "- AI and Machine Learning\n",
    "- Deep Learning\n",
    "- Reinforcement Learning"
   ]
  },
  {
   "cell_type": "markdown",
   "metadata": {
    "colab_type": "text",
    "id": "U4s187dxIB1Z"
   },
   "source": [
    "### 4.2.7 Electives for Big Data Stream\n",
    "\n",
    "Students have to pick three of the following courses as electives for the specialization. The purpose of the courses is to make students the specialist in big data.\n",
    "\n",
    "- Distributed Systems\n",
    "- Database Engineering\n",
    "- Parallel and Distributed Database Systems\n",
    "- Advanced Topics in Databases\n",
    "- Advanced Topics in Distributed Computing\n",
    "- Advanced Topics in Data Visualization\n",
    "- Advanced Management of Big Data Analytics\n",
    "- Data Analytics, Big Data, and Predictive Analytics\n",
    "\n",
    "We will now search out course curriculum to make sure it covers essential skills identified in our job (SimplyHired) and course (Coursera) data. "
   ]
  },
  {
   "cell_type": "code",
   "execution_count": 83,
   "metadata": {
    "colab": {},
    "colab_type": "code",
    "id": "NllKFHNTV6C5"
   },
   "outputs": [],
   "source": [
    "desc_str=['4.2.1 Introduction to Data Science and Analytics',\n",
    "'We have redesigned MIE 1624 and made few changes in the course. This course will serve as the introductory course for our degree program and will introduce most of the concepts taught throughout the program.',\n",
    "'Skills you Gain',\n",
    "'Python',\n",
    "'Pandas',\n",
    "'Scikit Learn',\n",
    "'SQL',\n",
    "'Tableau',\n",
    "'Machine Learning',\n",
    "'Big Data',\n",
    "'Visualization',\n",
    "'Visual Storytelling',\n",
    "'Course Outline',\n",
    "'Data science concepts',\n",
    "'Application areas of quantitative modeling',\n",
    "'Python programming, data science software',\n",
    "'Introduction to Python',\n",
    "'Comparison of Python, R and Matlab usage in data science',\n",
    "'Basic statistics',\n",
    "'Random variables, sampling',\n",
    "'Distributions and statistical measures',\n",
    "'Hypothesis testing',\n",
    "'Statistics case studies in IPython',\n",
    "'Overview of linear algebra',\n",
    "'Linear algebra and matrix computations',\n",
    "'Functions, derivatives, convexity',\n",
    "'Intro to Databases',\n",
    "'Intro to SQL',\n",
    "'Intro to big data',\n",
    "'Aggregate functions and Data Manipulation',\n",
    "'Data visualization and visual analytics',\n",
    "'Visual analytics',\n",
    "'Visualizations in Python and visual analytics in IBM Watson Analytics',\n",
    "'Intro to Tableau',\n",
    "'Optimization',\n",
    "'Unconstrained non-linear optimization algorithms',\n",
    "'Overview of constrained optimization algorithms',\n",
    "'Optimization case studies in IPython',\n",
    "'Intro. to Simulation modeling',\n",
    "'Modeling techniques, regression',\n",
    "'Mathematical modeling process',\n",
    "'Linear regression',\n",
    "'Modeling techniques, regression',\n",
    "'Logistic regression',\n",
    "'Regression case studies in IPython',\n",
    "'Advanced machine learning',\n",
    "'Classification (decision trees)',\n",
    "'Advanced supervised machine learning algorithms (Naive Bayes, k-NN, SVM)',\n",
    "'Intro to ensemble learning algorithms (Random Forest, Gradient Boosting)',\n",
    "'Advanced machine learning',\n",
    "'Text analytics and natural language processing',\n",
    "'Clustering (K-means, Fuzzy C-means, Hierarchical Clustering, DBSCAN)',\n",
    "'Dimensionality reduction',\n",
    "'Association rules',\n",
    "'Overview of reinforcement learning',\n",
    "'Machine learning case studies in IPython',\n",
    "'Storytelling based on analytics, analytical decision making',\n",
    "'Validating analytics',\n",
    "'Storytelling based on analytics',\n",
    "'Decision-making based on analytics',\n",
    "'source: https://www.mie.utoronto.ca/wp-content/uploads/2019/08/MIE1624H-Course-Outline-Fall-2019.pdf',\n",
    "'',\n",
    "'4.2.2 Statistics & Mathematics for Data Science',\n",
    "'Most of the universities offer a course of Statistics for Data Science. This course reviews the statistics concepts required for data science program. Instead of having a course only for Statistics, we have introduce a foundation course of Statistics & Mathematics for Data Science in our program. This course will revise the concepts of Linear Algebra and Optimization, along with Statistics. These concepts are essential for machine learning models. So, we will be reviewing these concepts at the foundation semester of the program.',\n",
    "'',\n",
    "'Skills you Gain',\n",
    "'Linear algebra',\n",
    "'Optimization',\n",
    "'Statistical Testing',\n",
    "'Inference',\n",
    "'Regression',\n",
    "'Monte Carlo simulation',\n",
    "'Linear Regression',\n",
    "'Course Outline',\n",
    "'Introduction',\n",
    "'',\n",
    "'Working with data',\n",
    "'Data collection',\n",
    "'Observational data',\n",
    "'Designing experiments',\n",
    "'Sampling',\n",
    "'Bias',\n",
    "'Probability Theory',\n",
    "'',\n",
    "'Probability basics',\n",
    "'Axioms of probability',\n",
    "'Conditional probability',\n",
    "'Random variables',\n",
    "'Expectation',\n",
    "'Independence',\n",
    "'Probability Theory',\n",
    "'',\n",
    "'Distribution of Random Variables',\n",
    "'Multivariate distributions',\n",
    "'Introduction to concentration bounds',\n",
    "'Laws of large numbers',\n",
    "'Central limit theorem',\n",
    "'Vectors and matrices',\n",
    "'',\n",
    "'Vector spaces',\n",
    "'Singular value decomposition',\n",
    "'Eigendecomposition',\n",
    "'Geometry of matrices and derivatives',\n",
    "'',\n",
    "'Linear transformations',\n",
    "'Partial derivatives',\n",
    "'Least squares',\n",
    "'Statistical Significance and Tests of Hypothesis',\n",
    "'',\n",
    "'Hypothesis testing',\n",
    "'The t-distribution',\n",
    "'Paired data',\n",
    "'Difference between two means',\n",
    "'Inference for categorical data',\n",
    "'Optimization',\n",
    "'',\n",
    "'Matrix calculus',\n",
    "'Gradient descent',\n",
    "'Coordinate descent',\n",
    "'Introduction to convex optimization',\n",
    "'Statistics',\n",
    "'',\n",
    "'Maximum a posteriori and maximum likelihood estimation',\n",
    "'Minimum mean-squared error estimation',\n",
    "'Confidence intervals',\n",
    "'Model Building',\n",
    "'',\n",
    "'Modeling',\n",
    "'Statistical modeling',\n",
    "'Training and testing',\n",
    "'Evaluating models',\n",
    "'Measures of errors (loss functions)',\n",
    "'Quadratic loss',\n",
    "'Cross validation',\n",
    "'Lift charts',\n",
    "'ROC curves',\n",
    "'Recall-Precision curves',\n",
    "'Linear Regression and Correlation',\n",
    "'',\n",
    "'Numerical prediction',\n",
    "'Ordinary least square regression',\n",
    "'Preconditions for OLS to be valid',\n",
    "'Introduction to Bayesian Inference',\n",
    "'',\n",
    "'Bayes rule',\n",
    "'Bayesian inference',\n",
    "'PyMC',\n",
    "'STAN',\n",
    "'Markov Chain Monte Carlo',\n",
    "'',\n",
    "'sources:',\n",
    "'',\n",
    "'https://london.ac.uk/courses/mathematics-and-statistics-data-science',\n",
    "'https://cims.nyu.edu/~cfgranda/pages/DSGA1002_fall15/index.html',\n",
    "'4.2.3 Data Analytics & Visualization',\n",
    "'The course offered at various universities are with the following titles:',\n",
    "'',\n",
    "'Data Visualization',\n",
    "'Exploratory Data Analysis',\n",
    "'Exploratory Data Analysis and Visualization',\n",
    "'Data Analysis and Visualization',\n",
    "'Data Analytics',\n",
    "'We have considered the course title as Data Analytics & Visualization. This course will provide the fundamental knowledge of data analysis and visualization and intoduce the visual analytics as well. So, this course along with Introduction to Data Science and Statistics & Mathematics for Data Science will provide the foundation of our masters program, and prepare the students for the next semesters.',\n",
    "'',\n",
    "'Skills you Gain',\n",
    "'Data Visualization',\n",
    "'Tableau',\n",
    "'R, R studio',\n",
    "'Tableau Storypoint',\n",
    "'Principal Components Analysis (PCA)',\n",
    "'Metric Multidimensional Scaling (MDS)',\n",
    "'Stochastic Neighbor Embedding (SNE, t-SNE)',\n",
    "'Regression',\n",
    "'Clasification',\n",
    "'Clustering',\n",
    "'Course Outline',\n",
    "'Introduction to data analytics visualization',\n",
    "'Data analytics concepts',\n",
    "'Data visualization and application',\n",
    "'Industry overview',\n",
    "'Introduction to R and R studio',\n",
    "'Introduction to Tabeleau',\n",
    "'Review of Statistics',\n",
    "'Random variables sampling',\n",
    "'Data types and distributions',\n",
    "'Statistical parameters',\n",
    "'Hypothesis testing',\n",
    "'Data Anlytics concepts',\n",
    "'Data preparation',\n",
    "'Data visualization',\n",
    "'Feature Engineering',\n",
    "'Data Anlytics in R',\n",
    "'Basic operations in R',\n",
    "'Visualization in R',\n",
    "'ggplot',\n",
    "'Leaflet',\n",
    "'Highcharter',\n",
    "'Dataframe in R',\n",
    "'Analytics applications with R',\n",
    "'Dimensionality Reduction - Linear Methods',\n",
    "'Principal Components Analysis (PCA)',\n",
    "'Dual PCA',\n",
    "'Supervised Principal Components Analysis',\n",
    "'Dimensionality Reduction - Linear Methods',\n",
    "'Metric Multidimensional Scaling (MDS)',\n",
    "'Landmark MDS (Nystrom Approximation)',\n",
    "'Non-negative Matrix Factorization',\n",
    "'Dimensionality Reduction - Nonlinear Methods',\n",
    "'Kernel Principal Components Analysis',\n",
    "'Stochastic Neighbor Embedding (SNE, t-SNE)',\n",
    "'Unified Framework for Dimensionality reduction',\n",
    "'Regression and Classification',\n",
    "'Linear Regression',\n",
    "'Logistic Regression',\n",
    "'Classification',\n",
    "'Decision Trees',\n",
    "'Clustering',\n",
    "'Vector Quantization',\n",
    "'K-means',\n",
    "'K-medoids',\n",
    "'Probabilistic Clustering',\n",
    "'Clustering',\n",
    "'Spectral Clustering',\n",
    "'Hierarchical Clustering',\n",
    "'Affinity Propagation',\n",
    "'Cluster validation',\n",
    "'Advanced data visualization in Tableau',\n",
    "'Aggregate functions',\n",
    "'Mapping Techniques',\n",
    "'Advanced data preparation in Tableau',\n",
    "'Building and Customizing visualization',\n",
    "'Creating dashboard with live and extract data',\n",
    "'Case study of data visualization',\n",
    "'source:',\n",
    "'',\n",
    "'http://qmss.columbia.edu/sites/default/files/STAT%20GR5702%20Exploratory%20Data%20Analysis%20and%20Visualization%20%28EDAV%29%20Syllabus%20Spring%202018.pdf',\n",
    "'',\n",
    "'https://uwaterloo.ca/data-analytics/sites/ca.data-analytics/files/uploads/files/f14stat842outline_v1.pdf',\n",
    "'',\n",
    "'http://www.math.uwaterloo.ca/~aghodsib/courses/f06stat890/f06stat890.html',\n",
    "'',\n",
    "'4.2.4 Introduction to Machine Learning',\n",
    "'This is one the course course we selected for our second semester of the program. This course will introduce the concepts of Machine Learning to the students, and enable them to pursue the specialization in Machine Learning stream. It will familirize students with the basic machine learning and artificial intelligence (AI) tools for developing the analytics.',\n",
    "'',\n",
    "'Skills you Gain',\n",
    "'Machine Learning',\n",
    "'Deep Learning',\n",
    "'Python',\n",
    "'Pandas',\n",
    "'Statmodel',\n",
    "'Scikit Learn',\n",
    "'Keras',\n",
    "'Tensorflow',\n",
    "'Theano',\n",
    "'Caffe',\n",
    "'Course Outline',\n",
    "'Introduction and Basic Concepts',\n",
    "'',\n",
    "'Introduction - What is Machine Learning',\n",
    "'Building blocks',\n",
    "'MLE',\n",
    "'Bayesian',\n",
    "'Estimation',\n",
    "'MAP',\n",
    "'Decision Theory',\n",
    "'Model-free',\n",
    "'Risk Minimization',\n",
    "'Introduction and Basic Concepts',\n",
    "'',\n",
    "'Classification',\n",
    "'K-nearest Neighbours',\n",
    "'Parametric Estimation and Prediction',\n",
    "'',\n",
    "'Linear Regression',\n",
    "'Regularization',\n",
    "'Logistic Regression',\n",
    "'Parametric Estimation and Prediction',\n",
    "'',\n",
    "'Naive Bayes',\n",
    "'Disciminative vs generative',\n",
    "'Support Vector Machines',\n",
    "'Parametric Estimation and Prediction',\n",
    "'',\n",
    "'Kernels',\n",
    "'Decision Trees',\n",
    "'Boosting',\n",
    "'Bagging',\n",
    "'Neural Networks',\n",
    "'',\n",
    "'Perceptron',\n",
    "'Neural nets',\n",
    "'Deep nets',\n",
    "'Back propagation',\n",
    "'Learning Theory',\n",
    "'',\n",
    "'Generalization',\n",
    "'Model selection',\n",
    "'Learning Theory',\n",
    "'Unsupervised Learning',\n",
    "'',\n",
    "'Clustering',\n",
    "'Representation Learning',\n",
    "'Graphical Models and Structured Prediction',\n",
    "'',\n",
    "'Graphical Models',\n",
    "'Graphical Models and Structured Prediction',\n",
    "'',\n",
    "'Sequence Model',\n",
    "'Deep Neural Networks',\n",
    "'',\n",
    "'Convolutional Neural Networks',\n",
    "'Recurrent Neural Networks',\n",
    "'Generative Adversarial Networks',\n",
    "'Special Topics',\n",
    "'',\n",
    "'Reinforcement learning',\n",
    "'Deep Reinforcement learning',\n",
    "'source: https://www.cs.cmu.edu/~lwehbe/10701_S19/files/Syllabus.pdf',\n",
    "'',\n",
    "'4.2.5 Introduction to Big Data',\n",
    "'This is one the course course we selected for our second semester of the program This course will introduce the concepts of Big Data to the students, and enable them to pursue the specialization in Big Data stream.',\n",
    "'',\n",
    "'Skills you Gain',\n",
    "'Hadoop',\n",
    "'MapReduce',\n",
    "'Elastic Map Reduce (EMR)',\n",
    "'Apache Spark',\n",
    "'Distributed computing',\n",
    "'Hive',\n",
    "'Impala',\n",
    "'Weka',\n",
    "'PySpark',\n",
    "'Scala',\n",
    "'Databricks',\n",
    "'SparkML',\n",
    "'Graph theory',\n",
    "'Course Outline',\n",
    "'Introduction to Hadoop',\n",
    "'',\n",
    "'Definition of big data',\n",
    "'Big data industry review',\n",
    "'History of Hadoop and distributed computing',\n",
    "'Brief overview of HDFS, Yarn, MapReduce, Spark',\n",
    "'Review of the big data resources',\n",
    "'Enterprise Hadoop and Hadoop basics',\n",
    "'',\n",
    "'HDFS',\n",
    "'YARN',\n",
    "'Launch of the cluster environment',\n",
    "'SQL',\n",
    "'',\n",
    "'Programming languages: overview, object-oriented vs functional, scripting languages',\n",
    "'Big data languages: overview of Spark, Hive & Impala',\n",
    "'SQL: most important commands',\n",
    "'Hive vs Impala: comparison between two SQL languages and environments',\n",
    "'Elastic Map Reduce',\n",
    "'',\n",
    "'Introduction to EMR',\n",
    "'Practice on EMR notebooks',\n",
    "'NoSQL Databases',\n",
    "'',\n",
    "'MongoDB',\n",
    "'Neo4j',\n",
    "'Cassandra',\n",
    "'Spark, introduction',\n",
    "'',\n",
    "'Introduction into Spark',\n",
    "'History of Spark, its evolution, libraries',\n",
    "'Review of Spark APIs: PySpark, Scala, R and Java',\n",
    "'Spark backend transformations',\n",
    "'Practice sessions with DataBricks, Scala',\n",
    "'Spark, syntax',\n",
    "'',\n",
    "'Spark session',\n",
    "'Import/export of data',\n",
    "'Spark SQL: functional and scripting',\n",
    "'Working with SQL images',\n",
    "'Most important Scala functions',\n",
    "'Spark: Data Preparation and Feature Transformation for ML',\n",
    "'',\n",
    "'Feature preparation: overview of main steps (in Spark)',\n",
    "'Handling nulls/NaNs, missing values, outliers, normalization',\n",
    "'Spark libraries for feature transformation',\n",
    "'Feature transformation: dimensionality reduction, clustering, conversion from categorical to numerical',\n",
    "'Principle component analysis',\n",
    "'Regularization: L1, L2',\n",
    "'Spark, model development, pipelines, evaluation metrics',\n",
    "'',\n",
    "'Model development process and necessary steps',\n",
    "'Spark pipelines',\n",
    "'TrainTestSplit and CrossValidation',\n",
    "'Regularization: L1, L2',\n",
    "'Model evaluation metrics for different classes of models',\n",
    "'Spark ML: Multivariate analysis and time-series analysis',\n",
    "'',\n",
    "'Multivariate ML models in Spark: regression trees',\n",
    "'Time-series analysis',\n",
    "'Advanced data science topics',\n",
    "'',\n",
    "'Graph theory',\n",
    "'Deep learning libraries',\n",
    "'Cloud for Big Data',\n",
    "'',\n",
    "'Cloud for big data',\n",
    "'AWS Cloud',\n",
    "'Azure Cloud',\n",
    "'IBM Cloud',\n",
    "          'Google cloud',\n",
    "'Running analytics on Cloud',\n",
    "'Source: https://www.mie.utoronto.ca/wp-content/uploads/2019/08/20193-MIE1628H.pdf',\n",
    "'',\n",
    "'4.2.6 General Electives Courses',\n",
    "'Students can pick one of the following courses an elective for the second semester of the program. The purpose of the course is to provide the depth knowlege of optimization and simulation to the students.',\n",
    "'',\n",
    "'Optimization for Data Science',\n",
    "'Convex Optimization and Analysis',\n",
    "'Topics in Continuous Optimization',\n",
    "'Advanced Topics in Computational Statistics',\n",
    "'Computational Inference',\n",
    "'Simulation modelling and analysis',\n",
    "'Modeling and Simulation for Data Science',\n",
    "'4.2.6 Electives for Machine Learning Stream',\n",
    "'Students have to pick three of the following courses as electives for the specialization. The purpose of the courses is to make students the specialist in machine learning.',\n",
    "'',\n",
    "'Machine Learning: Statistical and Computational Foundations',\n",
    "'Introduction to Artificial Intelligence',\n",
    "'Probabilistic Inference and Machine Learning',\n",
    "'Explainable Data Analytics',\n",
    "'Data Mining and Machine Learning',\n",
    "'AI and Machine Learning',\n",
    "'Deep Learning',\n",
    "'Reinforcement Learning',\n",
    "'4.2.7 Electives for Big Data Stream',\n",
    "'Students have to pick three of the following courses as electives for the specialization. The purpose of the courses is to make students the specialist in big data.',\n",
    "'',\n",
    "'Distributed Systems',\n",
    "'Database Engineering',\n",
    "'Parallel and Distributed Database Systems',\n",
    "'Advanced Topics in Databases',\n",
    "'Advanced Topics in Distributed Computing',\n",
    "'Advanced Topics in Data Visualization',\n",
    "'Advanced Management of Big Data Analytics',\n",
    "'Data Analytics, Big Data, and Predictive Analytics',\n",
    "'computer science']"
   ]
  },
  {
   "cell_type": "markdown",
   "metadata": {
    "colab_type": "text",
    "id": "RH0nK-8oV6C_"
   },
   "source": [
    "Now we will search the description to see if the new data science program contains the top technical skills from the coursera courses and the SimplyHired jobs:"
   ]
  },
  {
   "cell_type": "code",
   "execution_count": 84,
   "metadata": {
    "colab": {},
    "colab_type": "code",
    "id": "XDEn3jKfV6DA"
   },
   "outputs": [],
   "source": [
    "# Import the data from the csv file we created with our RSS feed processor\n",
    "tokenizer = RegexpTokenizer(r'\\w+')\n",
    "stop_words = set(stopwords.words('english'))\n",
    "\n",
    "course_skill_count= np.zeros(len(overall_skill))\n",
    "skill_in_course=[]\n",
    "\n",
    "course_desc=str(desc_str)\n",
    "\n",
    "\n",
    "course_desc=re.sub('<.*?>', '', str(course_desc))\n",
    "# Remove non-alphabetic values and set all letters to lowercase\n",
    "#text = re.sub(\"[^A-Za-z']+\", ' ', text).lower()\n",
    "course_desc = Punctuation(course_desc)\n",
    "course_desc = course_desc.lower()\n",
    "\n",
    "i=0\n",
    "for skill in overall_skill:\n",
    "    if course_desc.find(skill) >=0:\n",
    "        course_skill_count[i] = course_skill_count[i]+1\n",
    "        skill_in_course.append('Skill Taught in MIE1614')\n",
    "    else:\n",
    "        skill_in_course.append('Skill Not Taught in MIE1614')\n",
    "\n",
    "    i=i+1\n"
   ]
  },
  {
   "cell_type": "markdown",
   "metadata": {},
   "source": [
    "Now we will color our aggregated coursera + SimplyHired skills lists based on which skills are contained in  the new curriculum:"
   ]
  },
  {
   "cell_type": "code",
   "execution_count": 86,
   "metadata": {
    "colab": {},
    "colab_type": "code",
    "id": "6TWQ3aaMV6DB",
    "outputId": "46bc4210-5215-4c7e-8940-25c1114b2883",
    "scrolled": true
   },
   "outputs": [
    {
     "data": {
      "image/png": "[encoded data removed]",
      "text/plain": [
       "<Figure size 936x288 with 1 Axes>"
      ]
     },
     "metadata": {
      "needs_background": "light"
     },
     "output_type": "display_data"
    }
   ],
   "source": [
    "import matplotlib.patches as mpatches\n",
    "skill=skill_norm\n",
    "occurrence=occurrence_norm\n",
    "\n",
    "skill = [x for _,x in sorted(zip(occurrence,skill),reverse=True)]\n",
    "occurrence = sorted(occurrence,reverse=True)\n",
    "\n",
    "overall_skill=skill\n",
    "overall_occurrence=occurrence\n",
    "\n",
    "top_sk = 40\n",
    "\n",
    "fig_dims = (13, 4)\n",
    "fig, ax = plt.subplots(figsize=fig_dims)\n",
    "clrs = ['green' if (x == 'Skill Taught in MIE1614') else 'red' for x in skill_in_course ]\n",
    "plott=sns.barplot(x=skill[0:top_sk],y=occurrence[0:top_sk],palette=clrs)\n",
    "plott.set(xlabel='Skill', ylabel='Normalized Occurrence',title='Coursera + SimplyHired - Top Technical Skills')\n",
    "plott.set_xticklabels(plott.get_xticklabels(), rotation=90)\n",
    "\n",
    "red_patch = mpatches.Patch(color='red', label='Technical Skill Not Taught in New Data Science Program')\n",
    "green_patch = mpatches.Patch(color='green', label='Technical Skill Taught in NewData Science Program')\n",
    "plt.legend(handles=[green_patch, red_patch])\n",
    "\n",
    "plt.show()"
   ]
  },
  {
   "cell_type": "markdown",
   "metadata": {},
   "source": [
    "As we can see, the new curriculum covers all of the top skills related to data science. As for soft skills, the program will ensure all are covered in the course projects, with special emphasis on business skills, communication and teamwork."
   ]
  },
  {
   "cell_type": "markdown",
   "metadata": {},
   "source": [
    "## 5. Discussion\n",
    "\n",
    "This report presented an analysis of current industry, online course, and academic course trends related to data science. We web-scraped job postings and online courses from Simplyhired and Coursera and were able to look at the technical and business skills that are in highest demand from employers. The 2018 and 2019 Kaggle data scientist surveys allowed us to see what skills are possessed by those with the highest paying salaries, and provided insight into the tools being used by current professionals. Finally, we analyzed existing university graduate degree programs in data science to understand current global trends in education. Based on these data, we were able to identify gaps between current university courses and industry demands. We have proposed a new design for a data science graduate degree program, as well as an introductory data science course. \n",
    "\n",
    "For the design of the degree program, we limited our research to a small sample of university courses. We chose to do this in order to increase the depth of which we can look into the programs, as opposed to spending time analyzing many different programs. This choice was made partially in the interest of time, noting that many of these programs offer similar courses. Again, it may be possible that this sample is biased, and thus the structure/design of our program is biased."
   ]
  },
  {
   "cell_type": "code",
   "execution_count": null,
   "metadata": {},
   "outputs": [],
   "source": []
  }
 ],
 "metadata": {
  "colab": {
   "name": "master_notebook-v3.ipynb",
   "provenance": []
  },
  "kernelspec": {
   "display_name": "Python 3",
   "language": "python",
   "name": "python3"
  },
  "language_info": {
   "codemirror_mode": {
    "name": "ipython",
    "version": 3
   },
   "file_extension": ".py",
   "mimetype": "text/x-python",
   "name": "python",
   "nbconvert_exporter": "python",
   "pygments_lexer": "ipython3",
   "version": "3.7.4"
  }
 },
 "nbformat": 4,
 "nbformat_minor": 4
}
